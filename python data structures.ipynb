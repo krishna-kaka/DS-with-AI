{
 "cells": [
  {
   "cell_type": "markdown",
   "id": "4434ab82",
   "metadata": {},
   "source": [
    "Data structures in Python"
   ]
  },
  {
   "cell_type": "markdown",
   "id": "6ac1417d",
   "metadata": {},
   "source": [
    "Builtin Data structures\n",
    "- List\n",
    "- Tuple\n",
    "- Set\n",
    "- Dict\n",
    "- Range"
   ]
  },
  {
   "cell_type": "markdown",
   "id": "62b95b42",
   "metadata": {},
   "source": [
    "#List"
   ]
  },
  {
   "cell_type": "code",
   "execution_count": 1,
   "id": "b7754e6a",
   "metadata": {},
   "outputs": [],
   "source": [
    "l= []   #Blank List"
   ]
  },
  {
   "cell_type": "code",
   "execution_count": 2,
   "id": "eb9654dd",
   "metadata": {},
   "outputs": [
    {
     "data": {
      "text/plain": [
       "list"
      ]
     },
     "execution_count": 2,
     "metadata": {},
     "output_type": "execute_result"
    }
   ],
   "source": [
    "type(l) #type of l"
   ]
  },
  {
   "cell_type": "code",
   "execution_count": 3,
   "id": "46c3b35d",
   "metadata": {},
   "outputs": [
    {
     "data": {
      "text/plain": [
       "0"
      ]
     },
     "execution_count": 3,
     "metadata": {},
     "output_type": "execute_result"
    }
   ],
   "source": [
    "len(l) #length of l"
   ]
  },
  {
   "cell_type": "code",
   "execution_count": 4,
   "id": "74fb89ae",
   "metadata": {},
   "outputs": [
    {
     "ename": "TypeError",
     "evalue": "list.append() takes exactly one argument (0 given)",
     "output_type": "error",
     "traceback": [
      "\u001b[31m---------------------------------------------------------------------------\u001b[39m",
      "\u001b[31mTypeError\u001b[39m                                 Traceback (most recent call last)",
      "\u001b[36mCell\u001b[39m\u001b[36m \u001b[39m\u001b[32mIn[4]\u001b[39m\u001b[32m, line 1\u001b[39m\n\u001b[32m----> \u001b[39m\u001b[32m1\u001b[39m \u001b[43ml\u001b[49m\u001b[43m.\u001b[49m\u001b[43mappend\u001b[49m\u001b[43m(\u001b[49m\u001b[43m)\u001b[49m\n",
      "\u001b[31mTypeError\u001b[39m: list.append() takes exactly one argument (0 given)"
     ]
    }
   ],
   "source": [
    "l.append()"
   ]
  },
  {
   "cell_type": "code",
   "execution_count": 5,
   "id": "5619d563",
   "metadata": {},
   "outputs": [],
   "source": [
    "l.append(10) #Adding element to list"
   ]
  },
  {
   "cell_type": "code",
   "execution_count": 6,
   "id": "1800c8f8",
   "metadata": {},
   "outputs": [
    {
     "data": {
      "text/plain": [
       "[10]"
      ]
     },
     "execution_count": 6,
     "metadata": {},
     "output_type": "execute_result"
    }
   ],
   "source": [
    "l"
   ]
  },
  {
   "cell_type": "code",
   "execution_count": 7,
   "id": "c515cbbf",
   "metadata": {},
   "outputs": [],
   "source": [
    "l.append(20)\n",
    "l.append(30)\n",
    "l.append(50)"
   ]
  },
  {
   "cell_type": "code",
   "execution_count": 8,
   "id": "26dc307c",
   "metadata": {},
   "outputs": [
    {
     "data": {
      "text/plain": [
       "[10, 20, 30, 50]"
      ]
     },
     "execution_count": 8,
     "metadata": {},
     "output_type": "execute_result"
    }
   ],
   "source": [
    "l"
   ]
  },
  {
   "cell_type": "code",
   "execution_count": 9,
   "id": "ef79f506",
   "metadata": {},
   "outputs": [
    {
     "data": {
      "text/plain": [
       "[10, 20, 12.5, True, (1+2j), 'Data Science']"
      ]
     },
     "execution_count": 9,
     "metadata": {},
     "output_type": "execute_result"
    }
   ],
   "source": [
    "l1=[10,20,12.5,True,1+2j,'Data Science']\n",
    "l1"
   ]
  },
  {
   "cell_type": "code",
   "execution_count": 10,
   "id": "f5aa29e4",
   "metadata": {},
   "outputs": [
    {
     "name": "stdout",
     "output_type": "stream",
     "text": [
      "[10, 20, 12.5, True, (1+2j), 'Data Science']\n",
      "[10, 20, 30, 50]\n"
     ]
    }
   ],
   "source": [
    "print(l1)\n",
    "print(l)"
   ]
  },
  {
   "cell_type": "code",
   "execution_count": 11,
   "id": "6f7b67c3",
   "metadata": {},
   "outputs": [
    {
     "name": "stdout",
     "output_type": "stream",
     "text": [
      "6\n",
      "4\n"
     ]
    }
   ],
   "source": [
    "# Check length of l1 and l\n",
    "\n",
    "print(len(l1))\n",
    "print(len(l))"
   ]
  },
  {
   "cell_type": "code",
   "execution_count": 12,
   "id": "c603bcb5",
   "metadata": {},
   "outputs": [
    {
     "name": "stdout",
     "output_type": "stream",
     "text": [
      "2013107368896\n",
      "2013101245440\n"
     ]
    }
   ],
   "source": [
    "# Check id of l1 and l\n",
    "\n",
    "print(id(l1))\n",
    "print(id(l))"
   ]
  },
  {
   "cell_type": "code",
   "execution_count": 13,
   "id": "85e29694",
   "metadata": {},
   "outputs": [
    {
     "data": {
      "text/plain": [
       "[10, 20, 12.5, True, (1+2j), 'Data Science']"
      ]
     },
     "execution_count": 13,
     "metadata": {},
     "output_type": "execute_result"
    }
   ],
   "source": [
    "# Copy function in list\n",
    "\n",
    "l2=l1.copy()  #Copying list l1 to l2\n",
    "l2"
   ]
  },
  {
   "cell_type": "code",
   "execution_count": 14,
   "id": "f59e1298",
   "metadata": {},
   "outputs": [
    {
     "data": {
      "text/plain": [
       "True"
      ]
     },
     "execution_count": 14,
     "metadata": {},
     "output_type": "execute_result"
    }
   ],
   "source": [
    "l1 == l2  #Checking equality of l1 and l2"
   ]
  },
  {
   "cell_type": "code",
   "execution_count": 15,
   "id": "6d37d473",
   "metadata": {},
   "outputs": [
    {
     "data": {
      "text/plain": [
       "False"
      ]
     },
     "execution_count": 15,
     "metadata": {},
     "output_type": "execute_result"
    }
   ],
   "source": [
    "l == l2"
   ]
  },
  {
   "cell_type": "code",
   "execution_count": 16,
   "id": "ff5ef343",
   "metadata": {},
   "outputs": [
    {
     "data": {
      "text/plain": [
       "True"
      ]
     },
     "execution_count": 16,
     "metadata": {},
     "output_type": "execute_result"
    }
   ],
   "source": [
    "l != l2"
   ]
  },
  {
   "cell_type": "code",
   "execution_count": 17,
   "id": "b166d2e7",
   "metadata": {},
   "outputs": [
    {
     "name": "stdout",
     "output_type": "stream",
     "text": [
      "[10, 20, 12.5, True, (1+2j), 'Data Science']\n",
      "[10, 20, 12.5, True, (1+2j), 'Data Science']\n"
     ]
    }
   ],
   "source": [
    "print(l1)\n",
    "print(l2)"
   ]
  },
  {
   "cell_type": "markdown",
   "id": "179b6372",
   "metadata": {},
   "source": [
    "Indexing and Slicing in List"
   ]
  },
  {
   "cell_type": "code",
   "execution_count": 18,
   "id": "af385d90",
   "metadata": {},
   "outputs": [
    {
     "data": {
      "text/plain": [
       "[10, 20, 30, 50]"
      ]
     },
     "execution_count": 18,
     "metadata": {},
     "output_type": "execute_result"
    }
   ],
   "source": [
    "l[:]"
   ]
  },
  {
   "cell_type": "code",
   "execution_count": 19,
   "id": "5f149f6e",
   "metadata": {},
   "outputs": [
    {
     "data": {
      "text/plain": [
       "10"
      ]
     },
     "execution_count": 19,
     "metadata": {},
     "output_type": "execute_result"
    }
   ],
   "source": [
    "l[0]"
   ]
  },
  {
   "cell_type": "code",
   "execution_count": 21,
   "id": "7f176750",
   "metadata": {},
   "outputs": [
    {
     "ename": "IndexError",
     "evalue": "list index out of range",
     "output_type": "error",
     "traceback": [
      "\u001b[31m---------------------------------------------------------------------------\u001b[39m",
      "\u001b[31mIndexError\u001b[39m                                Traceback (most recent call last)",
      "\u001b[36mCell\u001b[39m\u001b[36m \u001b[39m\u001b[32mIn[21]\u001b[39m\u001b[32m, line 1\u001b[39m\n\u001b[32m----> \u001b[39m\u001b[32m1\u001b[39m \u001b[43ml\u001b[49m\u001b[43m[\u001b[49m\u001b[32;43m5\u001b[39;49m\u001b[43m]\u001b[49m\n",
      "\u001b[31mIndexError\u001b[39m: list index out of range"
     ]
    }
   ],
   "source": [
    "l[5]"
   ]
  },
  {
   "cell_type": "code",
   "execution_count": 22,
   "id": "f278dbfe",
   "metadata": {},
   "outputs": [
    {
     "data": {
      "text/plain": [
       "[10, 20, 30, 50, 60]"
      ]
     },
     "execution_count": 22,
     "metadata": {},
     "output_type": "execute_result"
    }
   ],
   "source": [
    "l.append(60)\n",
    "l"
   ]
  },
  {
   "cell_type": "code",
   "execution_count": 23,
   "id": "666fe4bc",
   "metadata": {},
   "outputs": [
    {
     "data": {
      "text/plain": [
       "10"
      ]
     },
     "execution_count": 23,
     "metadata": {},
     "output_type": "execute_result"
    }
   ],
   "source": [
    "l[0]"
   ]
  },
  {
   "cell_type": "code",
   "execution_count": 24,
   "id": "29316c0a",
   "metadata": {},
   "outputs": [],
   "source": [
    "l[0]=100    # replace of value at index 0"
   ]
  },
  {
   "cell_type": "code",
   "execution_count": 25,
   "id": "9b0f0ebe",
   "metadata": {},
   "outputs": [
    {
     "data": {
      "text/plain": [
       "[100, 20, 30, 50, 60]"
      ]
     },
     "execution_count": 25,
     "metadata": {},
     "output_type": "execute_result"
    }
   ],
   "source": [
    "l   #list is updated with new values"
   ]
  },
  {
   "cell_type": "code",
   "execution_count": 26,
   "id": "3d7f37ed",
   "metadata": {},
   "outputs": [],
   "source": [
    "l[-1]='AI'   # replace last element with AI"
   ]
  },
  {
   "cell_type": "code",
   "execution_count": 27,
   "id": "02f8b029",
   "metadata": {},
   "outputs": [
    {
     "data": {
      "text/plain": [
       "[100, 20, 30, 50, 'AI']"
      ]
     },
     "execution_count": 27,
     "metadata": {},
     "output_type": "execute_result"
    }
   ],
   "source": [
    "l"
   ]
  },
  {
   "cell_type": "code",
   "execution_count": 28,
   "id": "da9fbac9",
   "metadata": {},
   "outputs": [
    {
     "data": {
      "text/plain": [
       "[10, 20, 12.5, True, (1+2j), 'Data Science']"
      ]
     },
     "execution_count": 28,
     "metadata": {},
     "output_type": "execute_result"
    }
   ],
   "source": [
    "l2"
   ]
  },
  {
   "cell_type": "code",
   "execution_count": 29,
   "id": "d3a9b6c6",
   "metadata": {},
   "outputs": [
    {
     "data": {
      "text/plain": [
       "[]"
      ]
     },
     "execution_count": 29,
     "metadata": {},
     "output_type": "execute_result"
    }
   ],
   "source": [
    "l2.clear()  # Clear list l2\n",
    "l2"
   ]
  },
  {
   "cell_type": "code",
   "execution_count": 30,
   "id": "08572ba8",
   "metadata": {},
   "outputs": [
    {
     "data": {
      "text/plain": [
       "0"
      ]
     },
     "execution_count": 30,
     "metadata": {},
     "output_type": "execute_result"
    }
   ],
   "source": [
    "len(l2)"
   ]
  },
  {
   "cell_type": "code",
   "execution_count": 31,
   "id": "c33e3b91",
   "metadata": {},
   "outputs": [],
   "source": [
    "# delete variable l2\n",
    "del l2"
   ]
  },
  {
   "cell_type": "code",
   "execution_count": 32,
   "id": "336d5577",
   "metadata": {},
   "outputs": [
    {
     "ename": "NameError",
     "evalue": "name 'l2' is not defined",
     "output_type": "error",
     "traceback": [
      "\u001b[31m---------------------------------------------------------------------------\u001b[39m",
      "\u001b[31mNameError\u001b[39m                                 Traceback (most recent call last)",
      "\u001b[36mCell\u001b[39m\u001b[36m \u001b[39m\u001b[32mIn[32]\u001b[39m\u001b[32m, line 1\u001b[39m\n\u001b[32m----> \u001b[39m\u001b[32m1\u001b[39m \u001b[43ml2\u001b[49m\n",
      "\u001b[31mNameError\u001b[39m: name 'l2' is not defined"
     ]
    }
   ],
   "source": [
    "l2"
   ]
  },
  {
   "cell_type": "code",
   "execution_count": 33,
   "id": "86673e8d",
   "metadata": {},
   "outputs": [],
   "source": [
    "l2=l1.copy()"
   ]
  },
  {
   "cell_type": "code",
   "execution_count": 34,
   "id": "2392b093",
   "metadata": {},
   "outputs": [
    {
     "data": {
      "text/plain": [
       "[10, 20, 12.5, True, (1+2j), 'Data Science', 100, 20, 30, 50, 'AI']"
      ]
     },
     "execution_count": 34,
     "metadata": {},
     "output_type": "execute_result"
    }
   ],
   "source": [
    "l2.extend(l)  # Extending l2 with l\n",
    "l2"
   ]
  },
  {
   "cell_type": "code",
   "execution_count": 35,
   "id": "2087b424",
   "metadata": {},
   "outputs": [
    {
     "data": {
      "text/plain": [
       "[10, 20, 12.5, True, (1+2j), 'Data Science', 100, 20, 30, 50, 'AI']"
      ]
     },
     "execution_count": 35,
     "metadata": {},
     "output_type": "execute_result"
    }
   ],
   "source": [
    "l2"
   ]
  },
  {
   "cell_type": "code",
   "execution_count": 36,
   "id": "b3a1885a",
   "metadata": {},
   "outputs": [
    {
     "data": {
      "text/plain": [
       "1"
      ]
     },
     "execution_count": 36,
     "metadata": {},
     "output_type": "execute_result"
    }
   ],
   "source": [
    "l2.count(10)  # Count of 10 in l2"
   ]
  },
  {
   "cell_type": "code",
   "execution_count": 37,
   "id": "fb5462fd",
   "metadata": {},
   "outputs": [
    {
     "data": {
      "text/plain": [
       "2"
      ]
     },
     "execution_count": 37,
     "metadata": {},
     "output_type": "execute_result"
    }
   ],
   "source": [
    "l2.count(20)"
   ]
  },
  {
   "cell_type": "code",
   "execution_count": 38,
   "id": "f83cee3e",
   "metadata": {},
   "outputs": [
    {
     "data": {
      "text/plain": [
       "0"
      ]
     },
     "execution_count": 38,
     "metadata": {},
     "output_type": "execute_result"
    }
   ],
   "source": [
    "l2.count(40)"
   ]
  },
  {
   "cell_type": "markdown",
   "id": "2193af9e",
   "metadata": {},
   "source": [
    "List Membership \n",
    "- list is also called a family and the elements are called as members"
   ]
  },
  {
   "cell_type": "code",
   "execution_count": 39,
   "id": "3310213d",
   "metadata": {},
   "outputs": [
    {
     "data": {
      "text/plain": [
       "[10, 20, 12.5, True, (1+2j), 'Data Science', 100, 20, 30, 50, 'AI']"
      ]
     },
     "execution_count": 39,
     "metadata": {},
     "output_type": "execute_result"
    }
   ],
   "source": [
    "l2"
   ]
  },
  {
   "cell_type": "code",
   "execution_count": 40,
   "id": "0d90070c",
   "metadata": {},
   "outputs": [
    {
     "data": {
      "text/plain": [
       "True"
      ]
     },
     "execution_count": 40,
     "metadata": {},
     "output_type": "execute_result"
    }
   ],
   "source": [
    "100 in l2  #Membership check"
   ]
  },
  {
   "cell_type": "code",
   "execution_count": 41,
   "id": "c0286217",
   "metadata": {},
   "outputs": [
    {
     "data": {
      "text/plain": [
       "False"
      ]
     },
     "execution_count": 41,
     "metadata": {},
     "output_type": "execute_result"
    }
   ],
   "source": [
    "40 in l2"
   ]
  },
  {
   "cell_type": "code",
   "execution_count": 42,
   "id": "e307895e",
   "metadata": {},
   "outputs": [
    {
     "data": {
      "text/plain": [
       "6"
      ]
     },
     "execution_count": 42,
     "metadata": {},
     "output_type": "execute_result"
    }
   ],
   "source": [
    "len(l1)"
   ]
  },
  {
   "cell_type": "code",
   "execution_count": 43,
   "id": "281184a3",
   "metadata": {},
   "outputs": [],
   "source": [
    "l1.extend(l2)"
   ]
  },
  {
   "cell_type": "code",
   "execution_count": 44,
   "id": "d2c4285d",
   "metadata": {},
   "outputs": [
    {
     "data": {
      "text/plain": [
       "[10,\n",
       " 20,\n",
       " 12.5,\n",
       " True,\n",
       " (1+2j),\n",
       " 'Data Science',\n",
       " 10,\n",
       " 20,\n",
       " 12.5,\n",
       " True,\n",
       " (1+2j),\n",
       " 'Data Science',\n",
       " 100,\n",
       " 20,\n",
       " 30,\n",
       " 50,\n",
       " 'AI']"
      ]
     },
     "execution_count": 44,
     "metadata": {},
     "output_type": "execute_result"
    }
   ],
   "source": [
    "l1"
   ]
  },
  {
   "cell_type": "code",
   "execution_count": 45,
   "id": "6b60fabf",
   "metadata": {},
   "outputs": [
    {
     "data": {
      "text/plain": [
       "17"
      ]
     },
     "execution_count": 45,
     "metadata": {},
     "output_type": "execute_result"
    }
   ],
   "source": [
    "len(l1)"
   ]
  },
  {
   "cell_type": "code",
   "execution_count": 46,
   "id": "d9f10a25",
   "metadata": {},
   "outputs": [
    {
     "name": "stdout",
     "output_type": "stream",
     "text": [
      "l [100, 20, 30, 50, 'AI']\n",
      "l1 [10, 20, 12.5, True, (1+2j), 'Data Science', 10, 20, 12.5, True, (1+2j), 'Data Science', 100, 20, 30, 50, 'AI']\n",
      "l2 [10, 20, 12.5, True, (1+2j), 'Data Science', 100, 20, 30, 50, 'AI']\n"
     ]
    }
   ],
   "source": [
    "print('l', l)\n",
    "print('l1', l1)\n",
    "print('l2', l2)"
   ]
  },
  {
   "cell_type": "code",
   "execution_count": 47,
   "id": "7fab85c6",
   "metadata": {},
   "outputs": [
    {
     "data": {
      "text/plain": [
       "0"
      ]
     },
     "execution_count": 47,
     "metadata": {},
     "output_type": "execute_result"
    }
   ],
   "source": [
    "l1.index(10)   # first occurrence of 10 in l1"
   ]
  },
  {
   "cell_type": "code",
   "execution_count": 48,
   "id": "76ad7e82",
   "metadata": {},
   "outputs": [
    {
     "data": {
      "text/plain": [
       "5"
      ]
     },
     "execution_count": 48,
     "metadata": {},
     "output_type": "execute_result"
    }
   ],
   "source": [
    "l1.index('Data Science')  # first occurrence of 'Data Science' in l1"
   ]
  },
  {
   "cell_type": "code",
   "execution_count": 49,
   "id": "08c0256d",
   "metadata": {},
   "outputs": [
    {
     "data": {
      "text/plain": [
       "16"
      ]
     },
     "execution_count": 49,
     "metadata": {},
     "output_type": "execute_result"
    }
   ],
   "source": [
    "l1.index('AI')"
   ]
  },
  {
   "cell_type": "code",
   "execution_count": 50,
   "id": "7533925d",
   "metadata": {},
   "outputs": [
    {
     "data": {
      "text/plain": [
       "[10, 20, 12.5, True, (1+2j), 'Data Science', 100, 20, 30, 50, 'AI']"
      ]
     },
     "execution_count": 50,
     "metadata": {},
     "output_type": "execute_result"
    }
   ],
   "source": [
    "l2[:]   #slicing of list"
   ]
  },
  {
   "cell_type": "code",
   "execution_count": 51,
   "id": "71088ecb",
   "metadata": {},
   "outputs": [
    {
     "data": {
      "text/plain": [
       "[10, 20, 12.5, True, (1+2j), 'Data Science', 100]"
      ]
     },
     "execution_count": 51,
     "metadata": {},
     "output_type": "execute_result"
    }
   ],
   "source": [
    "l2[0:7] # print from 0 to 6th index"
   ]
  },
  {
   "cell_type": "code",
   "execution_count": 52,
   "id": "0412abe4",
   "metadata": {},
   "outputs": [
    {
     "data": {
      "text/plain": [
       "[True, (1+2j), 'Data Science', 100, 20, 30]"
      ]
     },
     "execution_count": 52,
     "metadata": {},
     "output_type": "execute_result"
    }
   ],
   "source": [
    "l2[3:9] # print from 3 to 8th index"
   ]
  },
  {
   "cell_type": "code",
   "execution_count": 53,
   "id": "a87fbfee",
   "metadata": {},
   "outputs": [
    {
     "data": {
      "text/plain": [
       "[10, 12.5, (1+2j), 100, 30, 'AI']"
      ]
     },
     "execution_count": 53,
     "metadata": {},
     "output_type": "execute_result"
    }
   ],
   "source": [
    "l2[::2] # print alternate elements"
   ]
  },
  {
   "cell_type": "code",
   "execution_count": 54,
   "id": "ea6256fe",
   "metadata": {},
   "outputs": [
    {
     "data": {
      "text/plain": [
       "[10, 20, 12.5, True, (1+2j), 'Data Science', 100, 20, 30, 50, 'AI']"
      ]
     },
     "execution_count": 54,
     "metadata": {},
     "output_type": "execute_result"
    }
   ],
   "source": [
    "l2"
   ]
  },
  {
   "cell_type": "code",
   "execution_count": 55,
   "id": "b1e11824",
   "metadata": {},
   "outputs": [
    {
     "data": {
      "text/plain": [
       "[10, 12.5, (1+2j), 100]"
      ]
     },
     "execution_count": 55,
     "metadata": {},
     "output_type": "execute_result"
    }
   ],
   "source": [
    "l2[0:8:2]   # print from 0 to 7th index with step size 2"
   ]
  },
  {
   "cell_type": "code",
   "execution_count": 56,
   "id": "e9a5c2b2",
   "metadata": {},
   "outputs": [
    {
     "data": {
      "text/plain": [
       "[True, 'Data Science', 20, 50]"
      ]
     },
     "execution_count": 56,
     "metadata": {},
     "output_type": "execute_result"
    }
   ],
   "source": [
    "l2[3:10:2]  # print from 3 to 9th index with step size 2"
   ]
  },
  {
   "cell_type": "code",
   "execution_count": 57,
   "id": "f9e656e6",
   "metadata": {},
   "outputs": [
    {
     "data": {
      "text/plain": [
       "[10, 'Data Science', 'AI']"
      ]
     },
     "execution_count": 57,
     "metadata": {},
     "output_type": "execute_result"
    }
   ],
   "source": [
    "l2[::5]     # print elements with step size 5"
   ]
  },
  {
   "cell_type": "markdown",
   "id": "4cef370a",
   "metadata": {},
   "source": [
    "Backward Indexing & Slicing"
   ]
  },
  {
   "cell_type": "code",
   "execution_count": 58,
   "id": "e713c5e6",
   "metadata": {},
   "outputs": [
    {
     "data": {
      "text/plain": [
       "'AI'"
      ]
     },
     "execution_count": 58,
     "metadata": {},
     "output_type": "execute_result"
    }
   ],
   "source": [
    "l2[-1]      # print last element"
   ]
  },
  {
   "cell_type": "code",
   "execution_count": 59,
   "id": "f076458f",
   "metadata": {},
   "outputs": [
    {
     "data": {
      "text/plain": [
       "100"
      ]
     },
     "execution_count": 59,
     "metadata": {},
     "output_type": "execute_result"
    }
   ],
   "source": [
    "l2[-5]      # print 5th last element"
   ]
  },
  {
   "cell_type": "code",
   "execution_count": 60,
   "id": "72bb3210",
   "metadata": {},
   "outputs": [
    {
     "data": {
      "text/plain": [
       "[10, 20, 12.5, True, (1+2j), 'Data Science', 100, 20, 30, 50, 'AI']"
      ]
     },
     "execution_count": 60,
     "metadata": {},
     "output_type": "execute_result"
    }
   ],
   "source": [
    "l2"
   ]
  },
  {
   "cell_type": "code",
   "execution_count": 61,
   "id": "66b78909",
   "metadata": {},
   "outputs": [
    {
     "data": {
      "text/plain": [
       "[True, (1+2j), 'Data Science', 100, 20]"
      ]
     },
     "execution_count": 61,
     "metadata": {},
     "output_type": "execute_result"
    }
   ],
   "source": [
    "l2[3:-3]   #print from 3rd index to 3rd last index"
   ]
  },
  {
   "cell_type": "code",
   "execution_count": 62,
   "id": "c764d6bf",
   "metadata": {},
   "outputs": [
    {
     "data": {
      "text/plain": [
       "[10, 20, 12.5, True, (1+2j), 'Data Science', 100, 20]"
      ]
     },
     "execution_count": 62,
     "metadata": {},
     "output_type": "execute_result"
    }
   ],
   "source": [
    "l2[:-3]       #print from start to 3rd last index"
   ]
  },
  {
   "cell_type": "code",
   "execution_count": 63,
   "id": "dd55ae55",
   "metadata": {},
   "outputs": [
    {
     "data": {
      "text/plain": [
       "[12.5, True, (1+2j), 'Data Science', 100, 20, 30, 50, 'AI']"
      ]
     },
     "execution_count": 63,
     "metadata": {},
     "output_type": "execute_result"
    }
   ],
   "source": [
    "l2[-9:]       #print from 9th last index to end"
   ]
  },
  {
   "cell_type": "code",
   "execution_count": 64,
   "id": "1196463f",
   "metadata": {},
   "outputs": [
    {
     "data": {
      "text/plain": [
       "[10, 20, 12.5, True, (1+2j), 'Data Science', 100, 20, 30, 50, 'AI']"
      ]
     },
     "execution_count": 64,
     "metadata": {},
     "output_type": "execute_result"
    }
   ],
   "source": [
    "l2"
   ]
  },
  {
   "cell_type": "code",
   "execution_count": 65,
   "id": "f8584909",
   "metadata": {},
   "outputs": [
    {
     "data": {
      "text/plain": [
       "['AI', 50, 30, 20, 100, 'Data Science', (1+2j), True, 12.5, 20, 10]"
      ]
     },
     "execution_count": 65,
     "metadata": {},
     "output_type": "execute_result"
    }
   ],
   "source": [
    "l2[::-1]      # Reversing the list"
   ]
  },
  {
   "cell_type": "code",
   "execution_count": 66,
   "id": "b278eb76",
   "metadata": {},
   "outputs": [
    {
     "data": {
      "text/plain": [
       "['AI', 20, (1+2j), 20]"
      ]
     },
     "execution_count": 66,
     "metadata": {},
     "output_type": "execute_result"
    }
   ],
   "source": [
    "l2[::-3]      # Reversing the list with step 2"
   ]
  },
  {
   "cell_type": "code",
   "execution_count": 67,
   "id": "d87fe76f",
   "metadata": {},
   "outputs": [
    {
     "name": "stdout",
     "output_type": "stream",
     "text": [
      "l [100, 20, 30, 50, 'AI']\n",
      "l1 [10, 20, 12.5, True, (1+2j), 'Data Science', 10, 20, 12.5, True, (1+2j), 'Data Science', 100, 20, 30, 50, 'AI']\n",
      "l2 [10, 20, 12.5, True, (1+2j), 'Data Science', 100, 20, 30, 50, 'AI']\n"
     ]
    }
   ],
   "source": [
    "print('l', l)\n",
    "print('l1', l1)\n",
    "print('l2', l2)"
   ]
  },
  {
   "cell_type": "markdown",
   "id": "603a76c4",
   "metadata": {},
   "source": [
    "remove function"
   ]
  },
  {
   "cell_type": "code",
   "execution_count": 68,
   "id": "e28102bb",
   "metadata": {},
   "outputs": [],
   "source": [
    "l1.remove(1+2j)     # Removing element 1+2j from l1"
   ]
  },
  {
   "cell_type": "code",
   "execution_count": 69,
   "id": "7c33ce77",
   "metadata": {},
   "outputs": [
    {
     "data": {
      "text/plain": [
       "[10,\n",
       " 20,\n",
       " 12.5,\n",
       " True,\n",
       " 'Data Science',\n",
       " 10,\n",
       " 20,\n",
       " 12.5,\n",
       " True,\n",
       " (1+2j),\n",
       " 'Data Science',\n",
       " 100,\n",
       " 20,\n",
       " 30,\n",
       " 50,\n",
       " 'AI']"
      ]
     },
     "execution_count": 69,
     "metadata": {},
     "output_type": "execute_result"
    }
   ],
   "source": [
    "l1"
   ]
  },
  {
   "cell_type": "code",
   "execution_count": null,
   "id": "34be081e",
   "metadata": {},
   "outputs": [],
   "source": []
  },
  {
   "cell_type": "markdown",
   "id": "8effa491",
   "metadata": {},
   "source": [
    "23rd Oct"
   ]
  },
  {
   "cell_type": "code",
   "execution_count": 70,
   "id": "0d1b99a1",
   "metadata": {},
   "outputs": [
    {
     "name": "stdout",
     "output_type": "stream",
     "text": [
      "l [100, 20, 30, 50, 'AI']\n",
      "l1 [10, 20, 12.5, True, 'Data Science', 10, 20, 12.5, True, (1+2j), 'Data Science', 100, 20, 30, 50, 'AI']\n",
      "l2 [10, 20, 12.5, True, (1+2j), 'Data Science', 100, 20, 30, 50, 'AI']\n"
     ]
    }
   ],
   "source": [
    "print('l', l)\n",
    "print('l1', l1)\n",
    "print('l2', l2)"
   ]
  },
  {
   "cell_type": "code",
   "execution_count": 71,
   "id": "4f85523d",
   "metadata": {},
   "outputs": [
    {
     "name": "stdout",
     "output_type": "stream",
     "text": [
      "[100, 20, 'ML', 30, 50, 'AI']\n"
     ]
    }
   ],
   "source": [
    "l.insert(2, 'ML')   # Insert 'ML' at index 2 in l\n",
    "print(l)"
   ]
  },
  {
   "cell_type": "code",
   "execution_count": 72,
   "id": "ee91c665",
   "metadata": {},
   "outputs": [],
   "source": [
    "l.insert(4, 25)   # Insert 25 at index 4 in l"
   ]
  },
  {
   "cell_type": "code",
   "execution_count": 73,
   "id": "eba2b845",
   "metadata": {},
   "outputs": [
    {
     "data": {
      "text/plain": [
       "[100, 20, 'ML', 30, 25, 50, 'AI']"
      ]
     },
     "execution_count": 73,
     "metadata": {},
     "output_type": "execute_result"
    }
   ],
   "source": [
    "l"
   ]
  },
  {
   "cell_type": "code",
   "execution_count": 74,
   "id": "5b8605a6",
   "metadata": {},
   "outputs": [
    {
     "ename": "TypeError",
     "evalue": "'list' object cannot be interpreted as an integer",
     "output_type": "error",
     "traceback": [
      "\u001b[31m---------------------------------------------------------------------------\u001b[39m",
      "\u001b[31mTypeError\u001b[39m                                 Traceback (most recent call last)",
      "\u001b[36mCell\u001b[39m\u001b[36m \u001b[39m\u001b[32mIn[74]\u001b[39m\u001b[32m, line 1\u001b[39m\n\u001b[32m----> \u001b[39m\u001b[32m1\u001b[39m \u001b[43ml\u001b[49m\u001b[43m.\u001b[49m\u001b[43minsert\u001b[49m\u001b[43m(\u001b[49m\u001b[43m[\u001b[49m\u001b[32;43m11\u001b[39;49m\u001b[43m,\u001b[49m\u001b[32;43m12\u001b[39;49m\u001b[43m,\u001b[49m\u001b[32;43m13\u001b[39;49m\u001b[43m]\u001b[49m\u001b[43m,\u001b[49m\u001b[32;43m7\u001b[39;49m\u001b[43m)\u001b[49m \n",
      "\u001b[31mTypeError\u001b[39m: 'list' object cannot be interpreted as an integer"
     ]
    }
   ],
   "source": [
    "l.insert([11,12,13],7) "
   ]
  },
  {
   "cell_type": "code",
   "execution_count": 75,
   "id": "3b3e1688",
   "metadata": {},
   "outputs": [],
   "source": [
    "l.insert(5,[1,2,23])   # Insert [1,2,23] at index 5 in l"
   ]
  },
  {
   "cell_type": "code",
   "execution_count": 76,
   "id": "c02e86dc",
   "metadata": {},
   "outputs": [
    {
     "data": {
      "text/plain": [
       "[100, 20, 'ML', 30, 25, [1, 2, 23], 50, 'AI']"
      ]
     },
     "execution_count": 76,
     "metadata": {},
     "output_type": "execute_result"
    }
   ],
   "source": [
    "l"
   ]
  },
  {
   "cell_type": "code",
   "execution_count": 77,
   "id": "6969cf26",
   "metadata": {},
   "outputs": [
    {
     "data": {
      "text/plain": [
       "'AI'"
      ]
     },
     "execution_count": 77,
     "metadata": {},
     "output_type": "execute_result"
    }
   ],
   "source": [
    "l.pop()    # Removing last element from l"
   ]
  },
  {
   "cell_type": "code",
   "execution_count": 78,
   "id": "3ad459e4",
   "metadata": {},
   "outputs": [
    {
     "name": "stdout",
     "output_type": "stream",
     "text": [
      "[100, 20, 'ML', 30, 25, [1, 2, 23], 50]\n"
     ]
    }
   ],
   "source": [
    "print(l)"
   ]
  },
  {
   "cell_type": "code",
   "execution_count": 79,
   "id": "f76fedab",
   "metadata": {},
   "outputs": [
    {
     "name": "stdout",
     "output_type": "stream",
     "text": [
      "[10, 20, 12.5, True, 'Data Science', 10, 20, 12.5, True, (1+2j), 'Data Science', 100, 20, 30, 50, 'AI']\n"
     ]
    }
   ],
   "source": [
    "print(l1)"
   ]
  },
  {
   "cell_type": "code",
   "execution_count": 80,
   "id": "ab039bb9",
   "metadata": {},
   "outputs": [
    {
     "data": {
      "text/plain": [
       "20"
      ]
     },
     "execution_count": 80,
     "metadata": {},
     "output_type": "execute_result"
    }
   ],
   "source": [
    "l1.pop(True)    # Removing first element from l1"
   ]
  },
  {
   "cell_type": "code",
   "execution_count": 81,
   "id": "d4f2eba1",
   "metadata": {},
   "outputs": [
    {
     "name": "stdout",
     "output_type": "stream",
     "text": [
      "[10, 12.5, True, 'Data Science', 10, 20, 12.5, True, (1+2j), 'Data Science', 100, 20, 30, 50, 'AI']\n"
     ]
    }
   ],
   "source": [
    "print(l1)"
   ]
  },
  {
   "cell_type": "code",
   "execution_count": 82,
   "id": "f9763da9",
   "metadata": {},
   "outputs": [
    {
     "data": {
      "text/plain": [
       "10"
      ]
     },
     "execution_count": 82,
     "metadata": {},
     "output_type": "execute_result"
    }
   ],
   "source": [
    "l1.pop(False)   # Removing first element from l1"
   ]
  },
  {
   "cell_type": "code",
   "execution_count": 83,
   "id": "4781cb3d",
   "metadata": {},
   "outputs": [
    {
     "name": "stdout",
     "output_type": "stream",
     "text": [
      "[12.5, True, 'Data Science', 10, 20, 12.5, True, (1+2j), 'Data Science', 100, 20, 30, 50, 'AI']\n"
     ]
    }
   ],
   "source": [
    "print(l1)"
   ]
  },
  {
   "cell_type": "code",
   "execution_count": 84,
   "id": "0217e6f7",
   "metadata": {},
   "outputs": [
    {
     "data": {
      "text/plain": [
       "12.5"
      ]
     },
     "execution_count": 84,
     "metadata": {},
     "output_type": "execute_result"
    }
   ],
   "source": [
    "l1.pop(5)    # Removing element at index 5 from l1"
   ]
  },
  {
   "cell_type": "code",
   "execution_count": 85,
   "id": "7024f47b",
   "metadata": {},
   "outputs": [
    {
     "name": "stdout",
     "output_type": "stream",
     "text": [
      "[12.5, True, 'Data Science', 10, 20, True, (1+2j), 'Data Science', 100, 20, 30, 50, 'AI']\n",
      "2013107368896\n"
     ]
    }
   ],
   "source": [
    "print(l1)\n",
    "print(id(l1))"
   ]
  },
  {
   "cell_type": "code",
   "execution_count": 86,
   "id": "0ad5f584",
   "metadata": {},
   "outputs": [
    {
     "name": "stdout",
     "output_type": "stream",
     "text": [
      "[12.5, True, 'Data Science', 10, 20, (1+2j), 'Data Science', 100, 20, 30, 50, 'AI']\n"
     ]
    }
   ],
   "source": [
    "del l1[5]   # Deleting element at index 5 from l1\n",
    "print(l1)"
   ]
  },
  {
   "cell_type": "code",
   "execution_count": 87,
   "id": "661a727f",
   "metadata": {},
   "outputs": [
    {
     "name": "stdout",
     "output_type": "stream",
     "text": [
      "[12.5, True, 'Data Science', 10, 20, (1+2j), 'Data Science', 100, 20, 30, 50, 'AI']\n"
     ]
    }
   ],
   "source": [
    "l3=l1.copy()\n",
    "print(l3)"
   ]
  },
  {
   "cell_type": "code",
   "execution_count": 88,
   "id": "919dc8d8",
   "metadata": {},
   "outputs": [
    {
     "ename": "NameError",
     "evalue": "name 'l1' is not defined",
     "output_type": "error",
     "traceback": [
      "\u001b[31m---------------------------------------------------------------------------\u001b[39m",
      "\u001b[31mNameError\u001b[39m                                 Traceback (most recent call last)",
      "\u001b[36mCell\u001b[39m\u001b[36m \u001b[39m\u001b[32mIn[88]\u001b[39m\u001b[32m, line 2\u001b[39m\n\u001b[32m      1\u001b[39m \u001b[38;5;28;01mdel\u001b[39;00m l1  \u001b[38;5;66;03m# Deleting entire list l1\u001b[39;00m\n\u001b[32m----> \u001b[39m\u001b[32m2\u001b[39m \u001b[38;5;28mprint\u001b[39m(\u001b[43ml1\u001b[49m)\n",
      "\u001b[31mNameError\u001b[39m: name 'l1' is not defined"
     ]
    }
   ],
   "source": [
    "del l1  # Deleting entire list l1\n",
    "print(l1)"
   ]
  },
  {
   "cell_type": "code",
   "execution_count": 89,
   "id": "55e27c6a",
   "metadata": {},
   "outputs": [
    {
     "name": "stdout",
     "output_type": "stream",
     "text": [
      "[12.5, True, 'Data Science', 10, 20, (1+2j), 'Data Science', 100, 20, 30, 50, 'AI']\n",
      "2013107414592\n"
     ]
    }
   ],
   "source": [
    "print(l3)\n",
    "print(id(l3))"
   ]
  },
  {
   "cell_type": "code",
   "execution_count": 90,
   "id": "b22b0a6c",
   "metadata": {},
   "outputs": [
    {
     "name": "stdout",
     "output_type": "stream",
     "text": [
      "[12.5, True, 'Data Science', 10, 20, (1+2j), 'Data Science', 100, 20, 30, 50, 'AI']\n",
      "2013107218496\n"
     ]
    }
   ],
   "source": [
    "l1=l3.copy()    # Copying l3 to l1\n",
    "print(l1)\n",
    "print(id(l1))"
   ]
  },
  {
   "cell_type": "code",
   "execution_count": 91,
   "id": "91a6dd34",
   "metadata": {},
   "outputs": [],
   "source": [
    "l4=[10,24,54,34,65,98,237,120]"
   ]
  },
  {
   "cell_type": "code",
   "execution_count": 92,
   "id": "2f720b80",
   "metadata": {},
   "outputs": [
    {
     "name": "stdout",
     "output_type": "stream",
     "text": [
      "[10, 24, 54, 34, 65, 98, 237, 120]\n"
     ]
    }
   ],
   "source": [
    "print(l4)"
   ]
  },
  {
   "cell_type": "code",
   "execution_count": 93,
   "id": "74f8cc96",
   "metadata": {},
   "outputs": [
    {
     "name": "stdout",
     "output_type": "stream",
     "text": [
      "[10, 24, 34, 54, 65, 98, 120, 237]\n"
     ]
    }
   ],
   "source": [
    "# Parameter as we are using system parameter\n",
    "\n",
    "l4.sort()   # Sorting l4 in ascending order\n",
    "print(l4)"
   ]
  },
  {
   "cell_type": "code",
   "execution_count": 94,
   "id": "eae4d2bb",
   "metadata": {},
   "outputs": [
    {
     "name": "stdout",
     "output_type": "stream",
     "text": [
      "[237, 120, 98, 65, 54, 34, 24, 10]\n"
     ]
    }
   ],
   "source": [
    "# Hyperparameter as we are modifying the parameter - using our own value\n",
    "# reverse is used instead of default in sort\n",
    "\n",
    "l4.sort(reverse=True)  # Sorting l4 in descending order\n",
    "print(l4)"
   ]
  },
  {
   "cell_type": "code",
   "execution_count": 95,
   "id": "bb8f37e4",
   "metadata": {},
   "outputs": [
    {
     "name": "stdout",
     "output_type": "stream",
     "text": [
      "['q', 'd', 'j', 'a', 'h', 'b', 'l', 'u', 'm', 'n', 'i', 'g', 'f']\n"
     ]
    }
   ],
   "source": [
    "l5=['q','d','j','a','h','b','l','u','m','n','i','g','f']\n",
    "print(l5)"
   ]
  },
  {
   "cell_type": "code",
   "execution_count": 96,
   "id": "756fc1b8",
   "metadata": {},
   "outputs": [
    {
     "name": "stdout",
     "output_type": "stream",
     "text": [
      "['a', 'b', 'd', 'f', 'g', 'h', 'i', 'j', 'l', 'm', 'n', 'q', 'u']\n"
     ]
    }
   ],
   "source": [
    "l5.sort()   # Sorting l5 in ascending order\n",
    "print(l5)\n"
   ]
  },
  {
   "cell_type": "code",
   "execution_count": 97,
   "id": "d0d30568",
   "metadata": {},
   "outputs": [
    {
     "name": "stdout",
     "output_type": "stream",
     "text": [
      "['u', 'q', 'n', 'm', 'l', 'j', 'i', 'h', 'g', 'f', 'd', 'b', 'a']\n"
     ]
    }
   ],
   "source": [
    "l5.sort(reverse=True)   # Sorting l5 in descending order\n",
    "print(l5)"
   ]
  },
  {
   "cell_type": "code",
   "execution_count": 98,
   "id": "c28319af",
   "metadata": {},
   "outputs": [
    {
     "name": "stdout",
     "output_type": "stream",
     "text": [
      "[12.5, True, 'Data Science', 10, 20, (1+2j), 'Data Science', 100, 20, 30, 50, 'AI']\n"
     ]
    }
   ],
   "source": [
    "print(l1)"
   ]
  },
  {
   "cell_type": "code",
   "execution_count": 99,
   "id": "be550c1c",
   "metadata": {},
   "outputs": [
    {
     "ename": "TypeError",
     "evalue": "'<' not supported between instances of 'str' and 'bool'",
     "output_type": "error",
     "traceback": [
      "\u001b[31m---------------------------------------------------------------------------\u001b[39m",
      "\u001b[31mTypeError\u001b[39m                                 Traceback (most recent call last)",
      "\u001b[36mCell\u001b[39m\u001b[36m \u001b[39m\u001b[32mIn[99]\u001b[39m\u001b[32m, line 1\u001b[39m\n\u001b[32m----> \u001b[39m\u001b[32m1\u001b[39m \u001b[43ml1\u001b[49m\u001b[43m.\u001b[49m\u001b[43msort\u001b[49m\u001b[43m(\u001b[49m\u001b[43m)\u001b[49m\n",
      "\u001b[31mTypeError\u001b[39m: '<' not supported between instances of 'str' and 'bool'"
     ]
    }
   ],
   "source": [
    "l1.sort()"
   ]
  },
  {
   "cell_type": "markdown",
   "id": "e7931299",
   "metadata": {},
   "source": [
    "Nested Index"
   ]
  },
  {
   "cell_type": "code",
   "execution_count": 100,
   "id": "d4984e0e",
   "metadata": {},
   "outputs": [
    {
     "name": "stdout",
     "output_type": "stream",
     "text": [
      "[12.5, True, 'Data Science', 10, 20, (1+2j), 'Data Science', 100, 20, 30, 50, 'AI']\n"
     ]
    }
   ],
   "source": [
    "print(l3)"
   ]
  },
  {
   "cell_type": "code",
   "execution_count": 101,
   "id": "dd16f8d3",
   "metadata": {},
   "outputs": [
    {
     "name": "stdout",
     "output_type": "stream",
     "text": [
      "Data Science\n"
     ]
    }
   ],
   "source": [
    "print(l3[2])    # Accessing 3rd element which is a nested list"
   ]
  },
  {
   "cell_type": "code",
   "execution_count": 102,
   "id": "d2b2988f",
   "metadata": {},
   "outputs": [
    {
     "name": "stdout",
     "output_type": "stream",
     "text": [
      "D\n",
      "a\n",
      "t\n",
      "a\n",
      " \n",
      "S\n",
      "c\n",
      "i\n",
      "e\n",
      "n\n",
      "c\n",
      "e\n"
     ]
    }
   ],
   "source": [
    "print(l3[2][0])\n",
    "print(l3[2][1])\n",
    "print(l3[2][2])\n",
    "print(l3[2][3])\n",
    "print(l3[2][4])\n",
    "print(l3[2][5])\n",
    "print(l3[2][6])\n",
    "print(l3[2][7])\n",
    "print(l3[2][8])\n",
    "print(l3[2][9])\n",
    "print(l3[2][10])\n",
    "print(l3[2][11])"
   ]
  },
  {
   "cell_type": "code",
   "execution_count": 103,
   "id": "282bb0f2",
   "metadata": {},
   "outputs": [
    {
     "name": "stdout",
     "output_type": "stream",
     "text": [
      "D\n",
      "a\n",
      "t\n",
      "a\n",
      " \n",
      "S\n",
      "c\n",
      "i\n",
      "e\n",
      "n\n",
      "c\n",
      "e\n"
     ]
    },
    {
     "ename": "IndexError",
     "evalue": "string index out of range",
     "output_type": "error",
     "traceback": [
      "\u001b[31m---------------------------------------------------------------------------\u001b[39m",
      "\u001b[31mIndexError\u001b[39m                                Traceback (most recent call last)",
      "\u001b[36mCell\u001b[39m\u001b[36m \u001b[39m\u001b[32mIn[103]\u001b[39m\u001b[32m, line 13\u001b[39m\n\u001b[32m     11\u001b[39m \u001b[38;5;28mprint\u001b[39m(l3[\u001b[32m2\u001b[39m][\u001b[32m10\u001b[39m])\n\u001b[32m     12\u001b[39m \u001b[38;5;28mprint\u001b[39m(l3[\u001b[32m2\u001b[39m][\u001b[32m11\u001b[39m])\n\u001b[32m---> \u001b[39m\u001b[32m13\u001b[39m \u001b[38;5;28mprint\u001b[39m(\u001b[43ml3\u001b[49m\u001b[43m[\u001b[49m\u001b[32;43m2\u001b[39;49m\u001b[43m]\u001b[49m\u001b[43m[\u001b[49m\u001b[32;43m12\u001b[39;49m\u001b[43m]\u001b[49m)\n",
      "\u001b[31mIndexError\u001b[39m: string index out of range"
     ]
    }
   ],
   "source": [
    "print(l3[2][0])\n",
    "print(l3[2][1])\n",
    "print(l3[2][2])\n",
    "print(l3[2][3])\n",
    "print(l3[2][4])\n",
    "print(l3[2][5])\n",
    "print(l3[2][6])\n",
    "print(l3[2][7])\n",
    "print(l3[2][8])\n",
    "print(l3[2][9])\n",
    "print(l3[2][10])\n",
    "print(l3[2][11])\n",
    "print(l3[2][12])"
   ]
  },
  {
   "cell_type": "markdown",
   "id": "c5b6770d",
   "metadata": {},
   "source": [
    "For loop"
   ]
  },
  {
   "cell_type": "code",
   "execution_count": 104,
   "id": "92fe82ba",
   "metadata": {},
   "outputs": [
    {
     "name": "stdout",
     "output_type": "stream",
     "text": [
      "[10, 20, 12.5, True, (1+2j), 'Data Science', 100, 20, 30, 50, 'AI']\n"
     ]
    }
   ],
   "source": [
    "print(l2)"
   ]
  },
  {
   "cell_type": "code",
   "execution_count": 105,
   "id": "8cc50b57",
   "metadata": {},
   "outputs": [
    {
     "name": "stdout",
     "output_type": "stream",
     "text": [
      "10\n",
      "20\n",
      "12.5\n",
      "True\n",
      "(1+2j)\n",
      "Data Science\n",
      "100\n",
      "20\n",
      "30\n",
      "50\n",
      "AI\n"
     ]
    }
   ],
   "source": [
    "for i in l2:    # for loop to iterate through list l2\n",
    "    print(i)"
   ]
  },
  {
   "cell_type": "code",
   "execution_count": 106,
   "id": "266e6131",
   "metadata": {},
   "outputs": [
    {
     "name": "stdout",
     "output_type": "stream",
     "text": [
      "(0, 10)\n",
      "(1, 20)\n",
      "(2, 12.5)\n",
      "(3, True)\n",
      "(4, (1+2j))\n",
      "(5, 'Data Science')\n",
      "(6, 100)\n",
      "(7, 20)\n",
      "(8, 30)\n",
      "(9, 50)\n",
      "(10, 'AI')\n"
     ]
    }
   ],
   "source": [
    "for i in enumerate(l2): # enumerate function to get index and value\n",
    "    print(i)"
   ]
  },
  {
   "cell_type": "markdown",
   "id": "72ed3ccb",
   "metadata": {},
   "source": [
    "Join Lists"
   ]
  },
  {
   "cell_type": "code",
   "execution_count": 107,
   "id": "22efe452",
   "metadata": {},
   "outputs": [
    {
     "name": "stdout",
     "output_type": "stream",
     "text": [
      "l4 [237, 120, 98, 65, 54, 34, 24, 10]\n",
      "l5 ['u', 'q', 'n', 'm', 'l', 'j', 'i', 'h', 'g', 'f', 'd', 'b', 'a']\n"
     ]
    }
   ],
   "source": [
    "print('l4', l4)\n",
    "print('l5', l5)"
   ]
  },
  {
   "cell_type": "code",
   "execution_count": 108,
   "id": "428f87c7",
   "metadata": {},
   "outputs": [
    {
     "name": "stdout",
     "output_type": "stream",
     "text": [
      "[237, 120, 98, 65, 54, 34, 24, 10, 'u', 'q', 'n', 'm', 'l', 'j', 'i', 'h', 'g', 'f', 'd', 'b', 'a']\n"
     ]
    }
   ],
   "source": [
    "l6=l4+l5   # Joining two lists l4 and l5\n",
    "print(l6)"
   ]
  },
  {
   "cell_type": "markdown",
   "id": "458bfcf4",
   "metadata": {},
   "source": [
    "All / Any\n",
    "\n",
    "The all() method returns:\n",
    "- True - If all elements in a list are true\n",
    "- False - If any element in a list is false\n",
    "\n",
    "The any() function returns True if any element in the list is True. If not, any() returns False"
   ]
  },
  {
   "cell_type": "code",
   "execution_count": 109,
   "id": "de92b92f",
   "metadata": {},
   "outputs": [
    {
     "name": "stdout",
     "output_type": "stream",
     "text": [
      "[10, 24, 12, 35, 0]\n"
     ]
    }
   ],
   "source": [
    "L1=[10,24,12,35,0]\n",
    "print(L1)"
   ]
  },
  {
   "cell_type": "code",
   "execution_count": 110,
   "id": "50432c8f",
   "metadata": {},
   "outputs": [
    {
     "data": {
      "text/plain": [
       "False"
      ]
     },
     "execution_count": 110,
     "metadata": {},
     "output_type": "execute_result"
    }
   ],
   "source": [
    "all(L1)   # Check if all elements are true in L1"
   ]
  },
  {
   "cell_type": "code",
   "execution_count": 111,
   "id": "1c8039e0",
   "metadata": {},
   "outputs": [
    {
     "data": {
      "text/plain": [
       "True"
      ]
     },
     "execution_count": 111,
     "metadata": {},
     "output_type": "execute_result"
    }
   ],
   "source": [
    "any(L1)   # Check if any element is true in L1"
   ]
  },
  {
   "cell_type": "code",
   "execution_count": 112,
   "id": "37c51d41",
   "metadata": {},
   "outputs": [
    {
     "name": "stdout",
     "output_type": "stream",
     "text": [
      "[10, 24, 12, 35]\n"
     ]
    }
   ],
   "source": [
    "L1=[10,24,12,35]\n",
    "print(L1)"
   ]
  },
  {
   "cell_type": "code",
   "execution_count": 113,
   "id": "ff49a001",
   "metadata": {},
   "outputs": [
    {
     "data": {
      "text/plain": [
       "True"
      ]
     },
     "execution_count": 113,
     "metadata": {},
     "output_type": "execute_result"
    }
   ],
   "source": [
    "all(L1) "
   ]
  },
  {
   "cell_type": "code",
   "execution_count": 114,
   "id": "53714a18",
   "metadata": {},
   "outputs": [
    {
     "data": {
      "text/plain": [
       "True"
      ]
     },
     "execution_count": 114,
     "metadata": {},
     "output_type": "execute_result"
    }
   ],
   "source": [
    "any(L1)"
   ]
  },
  {
   "cell_type": "code",
   "execution_count": 115,
   "id": "dc4f6828",
   "metadata": {},
   "outputs": [
    {
     "name": "stdout",
     "output_type": "stream",
     "text": [
      "[10, 20, 30, 40, True, False]\n"
     ]
    }
   ],
   "source": [
    "L2 = [10,20,30,40,True,False]\n",
    "print(L2)"
   ]
  },
  {
   "cell_type": "code",
   "execution_count": 116,
   "id": "3902737c",
   "metadata": {},
   "outputs": [
    {
     "name": "stdout",
     "output_type": "stream",
     "text": [
      "False\n",
      "True\n"
     ]
    }
   ],
   "source": [
    "print(all(L2))\n",
    "print(any(L2))"
   ]
  },
  {
   "cell_type": "code",
   "execution_count": 117,
   "id": "57f68d0e",
   "metadata": {},
   "outputs": [
    {
     "name": "stdout",
     "output_type": "stream",
     "text": [
      "[10, 20, 30, 40, True]\n"
     ]
    }
   ],
   "source": [
    "L3 = [10,20,30,40,True]\n",
    "print(L3)"
   ]
  },
  {
   "cell_type": "code",
   "execution_count": 118,
   "id": "c6ccecc2",
   "metadata": {},
   "outputs": [
    {
     "name": "stdout",
     "output_type": "stream",
     "text": [
      "True\n",
      "True\n"
     ]
    }
   ],
   "source": [
    "print(all(L3))\n",
    "print(any(L3))"
   ]
  },
  {
   "cell_type": "code",
   "execution_count": null,
   "id": "7c460dd4",
   "metadata": {},
   "outputs": [],
   "source": []
  }
 ],
 "metadata": {
  "kernelspec": {
   "display_name": "Python 3",
   "language": "python",
   "name": "python3"
  },
  "language_info": {
   "codemirror_mode": {
    "name": "ipython",
    "version": 3
   },
   "file_extension": ".py",
   "mimetype": "text/x-python",
   "name": "python",
   "nbconvert_exporter": "python",
   "pygments_lexer": "ipython3",
   "version": "3.14.0"
  }
 },
 "nbformat": 4,
 "nbformat_minor": 5
}
