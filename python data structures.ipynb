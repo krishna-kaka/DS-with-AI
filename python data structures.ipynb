{
 "cells": [
  {
   "cell_type": "markdown",
   "id": "4434ab82",
   "metadata": {},
   "source": [
    "Data structures in Python"
   ]
  },
  {
   "cell_type": "markdown",
   "id": "6ac1417d",
   "metadata": {},
   "source": [
    "Builtin Data structures\n",
    "- List\n",
    "- Tuple\n",
    "- Set\n",
    "- Dict\n",
    "- Range"
   ]
  },
  {
   "cell_type": "markdown",
   "id": "62b95b42",
   "metadata": {},
   "source": [
    "#List"
   ]
  },
  {
   "cell_type": "code",
   "execution_count": 1,
   "id": "b7754e6a",
   "metadata": {},
   "outputs": [],
   "source": [
    "l= []   #Blank List"
   ]
  },
  {
   "cell_type": "code",
   "execution_count": 2,
   "id": "eb9654dd",
   "metadata": {},
   "outputs": [
    {
     "data": {
      "text/plain": [
       "list"
      ]
     },
     "execution_count": 2,
     "metadata": {},
     "output_type": "execute_result"
    }
   ],
   "source": [
    "type(l) #type of l"
   ]
  },
  {
   "cell_type": "code",
   "execution_count": 3,
   "id": "46c3b35d",
   "metadata": {},
   "outputs": [
    {
     "data": {
      "text/plain": [
       "0"
      ]
     },
     "execution_count": 3,
     "metadata": {},
     "output_type": "execute_result"
    }
   ],
   "source": [
    "len(l) #length of l"
   ]
  },
  {
   "cell_type": "code",
   "execution_count": 4,
   "id": "74fb89ae",
   "metadata": {},
   "outputs": [
    {
     "ename": "TypeError",
     "evalue": "list.append() takes exactly one argument (0 given)",
     "output_type": "error",
     "traceback": [
      "\u001b[31m---------------------------------------------------------------------------\u001b[39m",
      "\u001b[31mTypeError\u001b[39m                                 Traceback (most recent call last)",
      "\u001b[36mCell\u001b[39m\u001b[36m \u001b[39m\u001b[32mIn[4]\u001b[39m\u001b[32m, line 1\u001b[39m\n\u001b[32m----> \u001b[39m\u001b[32m1\u001b[39m \u001b[43ml\u001b[49m\u001b[43m.\u001b[49m\u001b[43mappend\u001b[49m\u001b[43m(\u001b[49m\u001b[43m)\u001b[49m\n",
      "\u001b[31mTypeError\u001b[39m: list.append() takes exactly one argument (0 given)"
     ]
    }
   ],
   "source": [
    "l.append()"
   ]
  },
  {
   "cell_type": "code",
   "execution_count": 5,
   "id": "5619d563",
   "metadata": {},
   "outputs": [],
   "source": [
    "l.append(10) #Adding element to list"
   ]
  },
  {
   "cell_type": "code",
   "execution_count": 6,
   "id": "1800c8f8",
   "metadata": {},
   "outputs": [
    {
     "data": {
      "text/plain": [
       "[10]"
      ]
     },
     "execution_count": 6,
     "metadata": {},
     "output_type": "execute_result"
    }
   ],
   "source": [
    "l"
   ]
  },
  {
   "cell_type": "code",
   "execution_count": 7,
   "id": "c515cbbf",
   "metadata": {},
   "outputs": [],
   "source": [
    "l.append(20)\n",
    "l.append(30)\n",
    "l.append(50)"
   ]
  },
  {
   "cell_type": "code",
   "execution_count": 8,
   "id": "26dc307c",
   "metadata": {},
   "outputs": [
    {
     "data": {
      "text/plain": [
       "[10, 20, 30, 50]"
      ]
     },
     "execution_count": 8,
     "metadata": {},
     "output_type": "execute_result"
    }
   ],
   "source": [
    "l"
   ]
  },
  {
   "cell_type": "code",
   "execution_count": 9,
   "id": "ef79f506",
   "metadata": {},
   "outputs": [
    {
     "data": {
      "text/plain": [
       "[10, 20, 12.5, True, (1+2j), 'Data Science']"
      ]
     },
     "execution_count": 9,
     "metadata": {},
     "output_type": "execute_result"
    }
   ],
   "source": [
    "l1=[10,20,12.5,True,1+2j,'Data Science']\n",
    "l1"
   ]
  },
  {
   "cell_type": "code",
   "execution_count": 10,
   "id": "f5aa29e4",
   "metadata": {},
   "outputs": [
    {
     "name": "stdout",
     "output_type": "stream",
     "text": [
      "[10, 20, 12.5, True, (1+2j), 'Data Science']\n",
      "[10, 20, 30, 50]\n"
     ]
    }
   ],
   "source": [
    "print(l1)\n",
    "print(l)"
   ]
  },
  {
   "cell_type": "code",
   "execution_count": 11,
   "id": "6f7b67c3",
   "metadata": {},
   "outputs": [
    {
     "name": "stdout",
     "output_type": "stream",
     "text": [
      "6\n",
      "4\n"
     ]
    }
   ],
   "source": [
    "# Check length of l1 and l\n",
    "\n",
    "print(len(l1))\n",
    "print(len(l))"
   ]
  },
  {
   "cell_type": "code",
   "execution_count": 12,
   "id": "c603bcb5",
   "metadata": {},
   "outputs": [
    {
     "name": "stdout",
     "output_type": "stream",
     "text": [
      "2149916433728\n",
      "2149910036928\n"
     ]
    }
   ],
   "source": [
    "# Check id of l1 and l\n",
    "\n",
    "print(id(l1))\n",
    "print(id(l))"
   ]
  },
  {
   "cell_type": "code",
   "execution_count": 13,
   "id": "85e29694",
   "metadata": {},
   "outputs": [
    {
     "data": {
      "text/plain": [
       "[10, 20, 12.5, True, (1+2j), 'Data Science']"
      ]
     },
     "execution_count": 13,
     "metadata": {},
     "output_type": "execute_result"
    }
   ],
   "source": [
    "# Copy function in list\n",
    "\n",
    "l2=l1.copy()  #Copying list l1 to l2\n",
    "l2"
   ]
  },
  {
   "cell_type": "code",
   "execution_count": 14,
   "id": "f59e1298",
   "metadata": {},
   "outputs": [
    {
     "data": {
      "text/plain": [
       "True"
      ]
     },
     "execution_count": 14,
     "metadata": {},
     "output_type": "execute_result"
    }
   ],
   "source": [
    "l1 == l2  #Checking equality of l1 and l2"
   ]
  },
  {
   "cell_type": "code",
   "execution_count": 15,
   "id": "6d37d473",
   "metadata": {},
   "outputs": [
    {
     "data": {
      "text/plain": [
       "False"
      ]
     },
     "execution_count": 15,
     "metadata": {},
     "output_type": "execute_result"
    }
   ],
   "source": [
    "l == l2"
   ]
  },
  {
   "cell_type": "code",
   "execution_count": 16,
   "id": "ff5ef343",
   "metadata": {},
   "outputs": [
    {
     "data": {
      "text/plain": [
       "True"
      ]
     },
     "execution_count": 16,
     "metadata": {},
     "output_type": "execute_result"
    }
   ],
   "source": [
    "l != l2"
   ]
  },
  {
   "cell_type": "code",
   "execution_count": 17,
   "id": "b166d2e7",
   "metadata": {},
   "outputs": [
    {
     "name": "stdout",
     "output_type": "stream",
     "text": [
      "[10, 20, 12.5, True, (1+2j), 'Data Science']\n",
      "[10, 20, 12.5, True, (1+2j), 'Data Science']\n"
     ]
    }
   ],
   "source": [
    "print(l1)\n",
    "print(l2)"
   ]
  },
  {
   "cell_type": "markdown",
   "id": "179b6372",
   "metadata": {},
   "source": [
    "Indexing and Slicing in List"
   ]
  },
  {
   "cell_type": "code",
   "execution_count": 18,
   "id": "af385d90",
   "metadata": {},
   "outputs": [
    {
     "data": {
      "text/plain": [
       "[10, 20, 30, 50]"
      ]
     },
     "execution_count": 18,
     "metadata": {},
     "output_type": "execute_result"
    }
   ],
   "source": [
    "l[:]"
   ]
  },
  {
   "cell_type": "code",
   "execution_count": 19,
   "id": "5f149f6e",
   "metadata": {},
   "outputs": [
    {
     "data": {
      "text/plain": [
       "10"
      ]
     },
     "execution_count": 19,
     "metadata": {},
     "output_type": "execute_result"
    }
   ],
   "source": [
    "l[0]"
   ]
  },
  {
   "cell_type": "code",
   "execution_count": 20,
   "id": "7f176750",
   "metadata": {},
   "outputs": [
    {
     "ename": "IndexError",
     "evalue": "list index out of range",
     "output_type": "error",
     "traceback": [
      "\u001b[31m---------------------------------------------------------------------------\u001b[39m",
      "\u001b[31mIndexError\u001b[39m                                Traceback (most recent call last)",
      "\u001b[36mCell\u001b[39m\u001b[36m \u001b[39m\u001b[32mIn[20]\u001b[39m\u001b[32m, line 1\u001b[39m\n\u001b[32m----> \u001b[39m\u001b[32m1\u001b[39m \u001b[43ml\u001b[49m\u001b[43m[\u001b[49m\u001b[32;43m5\u001b[39;49m\u001b[43m]\u001b[49m\n",
      "\u001b[31mIndexError\u001b[39m: list index out of range"
     ]
    }
   ],
   "source": [
    "l[5]"
   ]
  },
  {
   "cell_type": "code",
   "execution_count": 21,
   "id": "f278dbfe",
   "metadata": {},
   "outputs": [
    {
     "data": {
      "text/plain": [
       "[10, 20, 30, 50, 60]"
      ]
     },
     "execution_count": 21,
     "metadata": {},
     "output_type": "execute_result"
    }
   ],
   "source": [
    "l.append(60)\n",
    "l"
   ]
  },
  {
   "cell_type": "code",
   "execution_count": 22,
   "id": "666fe4bc",
   "metadata": {},
   "outputs": [
    {
     "data": {
      "text/plain": [
       "10"
      ]
     },
     "execution_count": 22,
     "metadata": {},
     "output_type": "execute_result"
    }
   ],
   "source": [
    "l[0]"
   ]
  },
  {
   "cell_type": "code",
   "execution_count": 23,
   "id": "29316c0a",
   "metadata": {},
   "outputs": [],
   "source": [
    "l[0]=100    # replace of value at index 0"
   ]
  },
  {
   "cell_type": "code",
   "execution_count": 24,
   "id": "9b0f0ebe",
   "metadata": {},
   "outputs": [
    {
     "data": {
      "text/plain": [
       "[100, 20, 30, 50, 60]"
      ]
     },
     "execution_count": 24,
     "metadata": {},
     "output_type": "execute_result"
    }
   ],
   "source": [
    "l   #list is updated with new values"
   ]
  },
  {
   "cell_type": "code",
   "execution_count": 25,
   "id": "3d7f37ed",
   "metadata": {},
   "outputs": [],
   "source": [
    "l[-1]='AI'   # replace last element with AI"
   ]
  },
  {
   "cell_type": "code",
   "execution_count": 26,
   "id": "02f8b029",
   "metadata": {},
   "outputs": [
    {
     "data": {
      "text/plain": [
       "[100, 20, 30, 50, 'AI']"
      ]
     },
     "execution_count": 26,
     "metadata": {},
     "output_type": "execute_result"
    }
   ],
   "source": [
    "l"
   ]
  },
  {
   "cell_type": "code",
   "execution_count": 27,
   "id": "da9fbac9",
   "metadata": {},
   "outputs": [
    {
     "data": {
      "text/plain": [
       "[10, 20, 12.5, True, (1+2j), 'Data Science']"
      ]
     },
     "execution_count": 27,
     "metadata": {},
     "output_type": "execute_result"
    }
   ],
   "source": [
    "l2"
   ]
  },
  {
   "cell_type": "code",
   "execution_count": 28,
   "id": "d3a9b6c6",
   "metadata": {},
   "outputs": [
    {
     "data": {
      "text/plain": [
       "[]"
      ]
     },
     "execution_count": 28,
     "metadata": {},
     "output_type": "execute_result"
    }
   ],
   "source": [
    "l2.clear()  # Clear list l2\n",
    "l2"
   ]
  },
  {
   "cell_type": "code",
   "execution_count": 29,
   "id": "08572ba8",
   "metadata": {},
   "outputs": [
    {
     "data": {
      "text/plain": [
       "0"
      ]
     },
     "execution_count": 29,
     "metadata": {},
     "output_type": "execute_result"
    }
   ],
   "source": [
    "len(l2)"
   ]
  },
  {
   "cell_type": "code",
   "execution_count": 30,
   "id": "c33e3b91",
   "metadata": {},
   "outputs": [],
   "source": [
    "# delete variable l2\n",
    "del l2"
   ]
  },
  {
   "cell_type": "code",
   "execution_count": 31,
   "id": "336d5577",
   "metadata": {},
   "outputs": [
    {
     "ename": "NameError",
     "evalue": "name 'l2' is not defined",
     "output_type": "error",
     "traceback": [
      "\u001b[31m---------------------------------------------------------------------------\u001b[39m",
      "\u001b[31mNameError\u001b[39m                                 Traceback (most recent call last)",
      "\u001b[36mCell\u001b[39m\u001b[36m \u001b[39m\u001b[32mIn[31]\u001b[39m\u001b[32m, line 1\u001b[39m\n\u001b[32m----> \u001b[39m\u001b[32m1\u001b[39m \u001b[43ml2\u001b[49m\n",
      "\u001b[31mNameError\u001b[39m: name 'l2' is not defined"
     ]
    }
   ],
   "source": [
    "l2"
   ]
  },
  {
   "cell_type": "code",
   "execution_count": 32,
   "id": "86673e8d",
   "metadata": {},
   "outputs": [],
   "source": [
    "l2=l1.copy()"
   ]
  },
  {
   "cell_type": "code",
   "execution_count": 33,
   "id": "2392b093",
   "metadata": {},
   "outputs": [
    {
     "data": {
      "text/plain": [
       "[10, 20, 12.5, True, (1+2j), 'Data Science', 100, 20, 30, 50, 'AI']"
      ]
     },
     "execution_count": 33,
     "metadata": {},
     "output_type": "execute_result"
    }
   ],
   "source": [
    "l2.extend(l)  # Extending l2 with l\n",
    "l2"
   ]
  },
  {
   "cell_type": "code",
   "execution_count": 34,
   "id": "2087b424",
   "metadata": {},
   "outputs": [
    {
     "data": {
      "text/plain": [
       "[10, 20, 12.5, True, (1+2j), 'Data Science', 100, 20, 30, 50, 'AI']"
      ]
     },
     "execution_count": 34,
     "metadata": {},
     "output_type": "execute_result"
    }
   ],
   "source": [
    "l2"
   ]
  },
  {
   "cell_type": "code",
   "execution_count": 35,
   "id": "b3a1885a",
   "metadata": {},
   "outputs": [
    {
     "data": {
      "text/plain": [
       "1"
      ]
     },
     "execution_count": 35,
     "metadata": {},
     "output_type": "execute_result"
    }
   ],
   "source": [
    "l2.count(10)  # Count of 10 in l2"
   ]
  },
  {
   "cell_type": "code",
   "execution_count": 36,
   "id": "fb5462fd",
   "metadata": {},
   "outputs": [
    {
     "data": {
      "text/plain": [
       "2"
      ]
     },
     "execution_count": 36,
     "metadata": {},
     "output_type": "execute_result"
    }
   ],
   "source": [
    "l2.count(20)"
   ]
  },
  {
   "cell_type": "code",
   "execution_count": 37,
   "id": "f83cee3e",
   "metadata": {},
   "outputs": [
    {
     "data": {
      "text/plain": [
       "0"
      ]
     },
     "execution_count": 37,
     "metadata": {},
     "output_type": "execute_result"
    }
   ],
   "source": [
    "l2.count(40)"
   ]
  },
  {
   "cell_type": "markdown",
   "id": "2193af9e",
   "metadata": {},
   "source": [
    "List Membership \n",
    "- list is also called a family and the elements are called as members"
   ]
  },
  {
   "cell_type": "code",
   "execution_count": 38,
   "id": "3310213d",
   "metadata": {},
   "outputs": [
    {
     "data": {
      "text/plain": [
       "[10, 20, 12.5, True, (1+2j), 'Data Science', 100, 20, 30, 50, 'AI']"
      ]
     },
     "execution_count": 38,
     "metadata": {},
     "output_type": "execute_result"
    }
   ],
   "source": [
    "l2"
   ]
  },
  {
   "cell_type": "code",
   "execution_count": 39,
   "id": "0d90070c",
   "metadata": {},
   "outputs": [
    {
     "data": {
      "text/plain": [
       "True"
      ]
     },
     "execution_count": 39,
     "metadata": {},
     "output_type": "execute_result"
    }
   ],
   "source": [
    "100 in l2  #Membership check"
   ]
  },
  {
   "cell_type": "code",
   "execution_count": 40,
   "id": "c0286217",
   "metadata": {},
   "outputs": [
    {
     "data": {
      "text/plain": [
       "False"
      ]
     },
     "execution_count": 40,
     "metadata": {},
     "output_type": "execute_result"
    }
   ],
   "source": [
    "40 in l2"
   ]
  },
  {
   "cell_type": "code",
   "execution_count": 41,
   "id": "e307895e",
   "metadata": {},
   "outputs": [
    {
     "data": {
      "text/plain": [
       "6"
      ]
     },
     "execution_count": 41,
     "metadata": {},
     "output_type": "execute_result"
    }
   ],
   "source": [
    "len(l1)"
   ]
  },
  {
   "cell_type": "code",
   "execution_count": 42,
   "id": "281184a3",
   "metadata": {},
   "outputs": [],
   "source": [
    "l1.extend(l2)"
   ]
  },
  {
   "cell_type": "code",
   "execution_count": 43,
   "id": "d2c4285d",
   "metadata": {},
   "outputs": [
    {
     "data": {
      "text/plain": [
       "[10,\n",
       " 20,\n",
       " 12.5,\n",
       " True,\n",
       " (1+2j),\n",
       " 'Data Science',\n",
       " 10,\n",
       " 20,\n",
       " 12.5,\n",
       " True,\n",
       " (1+2j),\n",
       " 'Data Science',\n",
       " 100,\n",
       " 20,\n",
       " 30,\n",
       " 50,\n",
       " 'AI']"
      ]
     },
     "execution_count": 43,
     "metadata": {},
     "output_type": "execute_result"
    }
   ],
   "source": [
    "l1"
   ]
  },
  {
   "cell_type": "code",
   "execution_count": 44,
   "id": "6b60fabf",
   "metadata": {},
   "outputs": [
    {
     "data": {
      "text/plain": [
       "17"
      ]
     },
     "execution_count": 44,
     "metadata": {},
     "output_type": "execute_result"
    }
   ],
   "source": [
    "len(l1)"
   ]
  },
  {
   "cell_type": "code",
   "execution_count": 45,
   "id": "d9f10a25",
   "metadata": {},
   "outputs": [
    {
     "name": "stdout",
     "output_type": "stream",
     "text": [
      "l [100, 20, 30, 50, 'AI']\n",
      "l1 [10, 20, 12.5, True, (1+2j), 'Data Science', 10, 20, 12.5, True, (1+2j), 'Data Science', 100, 20, 30, 50, 'AI']\n",
      "l2 [10, 20, 12.5, True, (1+2j), 'Data Science', 100, 20, 30, 50, 'AI']\n"
     ]
    }
   ],
   "source": [
    "print('l', l)\n",
    "print('l1', l1)\n",
    "print('l2', l2)"
   ]
  },
  {
   "cell_type": "code",
   "execution_count": 46,
   "id": "7fab85c6",
   "metadata": {},
   "outputs": [
    {
     "data": {
      "text/plain": [
       "0"
      ]
     },
     "execution_count": 46,
     "metadata": {},
     "output_type": "execute_result"
    }
   ],
   "source": [
    "l1.index(10)   # first occurrence of 10 in l1"
   ]
  },
  {
   "cell_type": "code",
   "execution_count": 47,
   "id": "76ad7e82",
   "metadata": {},
   "outputs": [
    {
     "data": {
      "text/plain": [
       "5"
      ]
     },
     "execution_count": 47,
     "metadata": {},
     "output_type": "execute_result"
    }
   ],
   "source": [
    "l1.index('Data Science')  # first occurrence of 'Data Science' in l1"
   ]
  },
  {
   "cell_type": "code",
   "execution_count": 48,
   "id": "08c0256d",
   "metadata": {},
   "outputs": [
    {
     "data": {
      "text/plain": [
       "16"
      ]
     },
     "execution_count": 48,
     "metadata": {},
     "output_type": "execute_result"
    }
   ],
   "source": [
    "l1.index('AI')"
   ]
  },
  {
   "cell_type": "code",
   "execution_count": 49,
   "id": "7533925d",
   "metadata": {},
   "outputs": [
    {
     "data": {
      "text/plain": [
       "[10, 20, 12.5, True, (1+2j), 'Data Science', 100, 20, 30, 50, 'AI']"
      ]
     },
     "execution_count": 49,
     "metadata": {},
     "output_type": "execute_result"
    }
   ],
   "source": [
    "l2[:]   #slicing of list"
   ]
  },
  {
   "cell_type": "code",
   "execution_count": 50,
   "id": "71088ecb",
   "metadata": {},
   "outputs": [
    {
     "data": {
      "text/plain": [
       "[10, 20, 12.5, True, (1+2j), 'Data Science', 100]"
      ]
     },
     "execution_count": 50,
     "metadata": {},
     "output_type": "execute_result"
    }
   ],
   "source": [
    "l2[0:7] # print from 0 to 6th index"
   ]
  },
  {
   "cell_type": "code",
   "execution_count": 51,
   "id": "0412abe4",
   "metadata": {},
   "outputs": [
    {
     "data": {
      "text/plain": [
       "[True, (1+2j), 'Data Science', 100, 20, 30]"
      ]
     },
     "execution_count": 51,
     "metadata": {},
     "output_type": "execute_result"
    }
   ],
   "source": [
    "l2[3:9] # print from 3 to 8th index"
   ]
  },
  {
   "cell_type": "code",
   "execution_count": 52,
   "id": "a87fbfee",
   "metadata": {},
   "outputs": [
    {
     "data": {
      "text/plain": [
       "[10, 12.5, (1+2j), 100, 30, 'AI']"
      ]
     },
     "execution_count": 52,
     "metadata": {},
     "output_type": "execute_result"
    }
   ],
   "source": [
    "l2[::2] # print alternate elements"
   ]
  },
  {
   "cell_type": "code",
   "execution_count": 53,
   "id": "ea6256fe",
   "metadata": {},
   "outputs": [
    {
     "data": {
      "text/plain": [
       "[10, 20, 12.5, True, (1+2j), 'Data Science', 100, 20, 30, 50, 'AI']"
      ]
     },
     "execution_count": 53,
     "metadata": {},
     "output_type": "execute_result"
    }
   ],
   "source": [
    "l2"
   ]
  },
  {
   "cell_type": "code",
   "execution_count": 54,
   "id": "b1e11824",
   "metadata": {},
   "outputs": [
    {
     "data": {
      "text/plain": [
       "[10, 12.5, (1+2j), 100]"
      ]
     },
     "execution_count": 54,
     "metadata": {},
     "output_type": "execute_result"
    }
   ],
   "source": [
    "l2[0:8:2]   # print from 0 to 7th index with step size 2"
   ]
  },
  {
   "cell_type": "code",
   "execution_count": 55,
   "id": "e9a5c2b2",
   "metadata": {},
   "outputs": [
    {
     "data": {
      "text/plain": [
       "[True, 'Data Science', 20, 50]"
      ]
     },
     "execution_count": 55,
     "metadata": {},
     "output_type": "execute_result"
    }
   ],
   "source": [
    "l2[3:10:2]  # print from 3 to 9th index with step size 2"
   ]
  },
  {
   "cell_type": "code",
   "execution_count": 56,
   "id": "f9e656e6",
   "metadata": {},
   "outputs": [
    {
     "data": {
      "text/plain": [
       "[10, 'Data Science', 'AI']"
      ]
     },
     "execution_count": 56,
     "metadata": {},
     "output_type": "execute_result"
    }
   ],
   "source": [
    "l2[::5]     # print elements with step size 5"
   ]
  },
  {
   "cell_type": "markdown",
   "id": "4cef370a",
   "metadata": {},
   "source": [
    "Backward Indexing & Slicing"
   ]
  },
  {
   "cell_type": "code",
   "execution_count": 57,
   "id": "e713c5e6",
   "metadata": {},
   "outputs": [
    {
     "data": {
      "text/plain": [
       "'AI'"
      ]
     },
     "execution_count": 57,
     "metadata": {},
     "output_type": "execute_result"
    }
   ],
   "source": [
    "l2[-1]      # print last element"
   ]
  },
  {
   "cell_type": "code",
   "execution_count": 58,
   "id": "f076458f",
   "metadata": {},
   "outputs": [
    {
     "data": {
      "text/plain": [
       "100"
      ]
     },
     "execution_count": 58,
     "metadata": {},
     "output_type": "execute_result"
    }
   ],
   "source": [
    "l2[-5]      # print 5th last element"
   ]
  },
  {
   "cell_type": "code",
   "execution_count": 59,
   "id": "72bb3210",
   "metadata": {},
   "outputs": [
    {
     "data": {
      "text/plain": [
       "[10, 20, 12.5, True, (1+2j), 'Data Science', 100, 20, 30, 50, 'AI']"
      ]
     },
     "execution_count": 59,
     "metadata": {},
     "output_type": "execute_result"
    }
   ],
   "source": [
    "l2"
   ]
  },
  {
   "cell_type": "code",
   "execution_count": 60,
   "id": "66b78909",
   "metadata": {},
   "outputs": [
    {
     "data": {
      "text/plain": [
       "[True, (1+2j), 'Data Science', 100, 20]"
      ]
     },
     "execution_count": 60,
     "metadata": {},
     "output_type": "execute_result"
    }
   ],
   "source": [
    "l2[3:-3]   #print from 3rd index to 3rd last index"
   ]
  },
  {
   "cell_type": "code",
   "execution_count": 61,
   "id": "c764d6bf",
   "metadata": {},
   "outputs": [
    {
     "data": {
      "text/plain": [
       "[10, 20, 12.5, True, (1+2j), 'Data Science', 100, 20]"
      ]
     },
     "execution_count": 61,
     "metadata": {},
     "output_type": "execute_result"
    }
   ],
   "source": [
    "l2[:-3]       #print from start to 3rd last index"
   ]
  },
  {
   "cell_type": "code",
   "execution_count": 62,
   "id": "dd55ae55",
   "metadata": {},
   "outputs": [
    {
     "data": {
      "text/plain": [
       "[12.5, True, (1+2j), 'Data Science', 100, 20, 30, 50, 'AI']"
      ]
     },
     "execution_count": 62,
     "metadata": {},
     "output_type": "execute_result"
    }
   ],
   "source": [
    "l2[-9:]       #print from 9th last index to end"
   ]
  },
  {
   "cell_type": "code",
   "execution_count": 63,
   "id": "1196463f",
   "metadata": {},
   "outputs": [
    {
     "data": {
      "text/plain": [
       "[10, 20, 12.5, True, (1+2j), 'Data Science', 100, 20, 30, 50, 'AI']"
      ]
     },
     "execution_count": 63,
     "metadata": {},
     "output_type": "execute_result"
    }
   ],
   "source": [
    "l2"
   ]
  },
  {
   "cell_type": "code",
   "execution_count": 64,
   "id": "f8584909",
   "metadata": {},
   "outputs": [
    {
     "data": {
      "text/plain": [
       "['AI', 50, 30, 20, 100, 'Data Science', (1+2j), True, 12.5, 20, 10]"
      ]
     },
     "execution_count": 64,
     "metadata": {},
     "output_type": "execute_result"
    }
   ],
   "source": [
    "l2[::-1]      # Reversing the list"
   ]
  },
  {
   "cell_type": "code",
   "execution_count": 65,
   "id": "b278eb76",
   "metadata": {},
   "outputs": [
    {
     "data": {
      "text/plain": [
       "['AI', 20, (1+2j), 20]"
      ]
     },
     "execution_count": 65,
     "metadata": {},
     "output_type": "execute_result"
    }
   ],
   "source": [
    "l2[::-3]      # Reversing the list with step 2"
   ]
  },
  {
   "cell_type": "code",
   "execution_count": 66,
   "id": "d87fe76f",
   "metadata": {},
   "outputs": [
    {
     "name": "stdout",
     "output_type": "stream",
     "text": [
      "l [100, 20, 30, 50, 'AI']\n",
      "l1 [10, 20, 12.5, True, (1+2j), 'Data Science', 10, 20, 12.5, True, (1+2j), 'Data Science', 100, 20, 30, 50, 'AI']\n",
      "l2 [10, 20, 12.5, True, (1+2j), 'Data Science', 100, 20, 30, 50, 'AI']\n"
     ]
    }
   ],
   "source": [
    "print('l', l)\n",
    "print('l1', l1)\n",
    "print('l2', l2)"
   ]
  },
  {
   "cell_type": "markdown",
   "id": "603a76c4",
   "metadata": {},
   "source": [
    "remove function"
   ]
  },
  {
   "cell_type": "code",
   "execution_count": null,
   "id": "e28102bb",
   "metadata": {},
   "outputs": [],
   "source": [
    "l1.remove(1+2j)     # Removing element 1+2j from l1"
   ]
  },
  {
   "cell_type": "code",
   "execution_count": 68,
   "id": "7c33ce77",
   "metadata": {},
   "outputs": [
    {
     "data": {
      "text/plain": [
       "[10,\n",
       " 20,\n",
       " 12.5,\n",
       " True,\n",
       " 'Data Science',\n",
       " 10,\n",
       " 20,\n",
       " 12.5,\n",
       " True,\n",
       " (1+2j),\n",
       " 'Data Science',\n",
       " 100,\n",
       " 20,\n",
       " 30,\n",
       " 50,\n",
       " 'AI']"
      ]
     },
     "execution_count": 68,
     "metadata": {},
     "output_type": "execute_result"
    }
   ],
   "source": [
    "l1"
   ]
  },
  {
   "cell_type": "code",
   "execution_count": null,
   "id": "34be081e",
   "metadata": {},
   "outputs": [],
   "source": []
  }
 ],
 "metadata": {
  "kernelspec": {
   "display_name": "Python 3",
   "language": "python",
   "name": "python3"
  },
  "language_info": {
   "codemirror_mode": {
    "name": "ipython",
    "version": 3
   },
   "file_extension": ".py",
   "mimetype": "text/x-python",
   "name": "python",
   "nbconvert_exporter": "python",
   "pygments_lexer": "ipython3",
   "version": "3.14.0"
  }
 },
 "nbformat": 4,
 "nbformat_minor": 5
}
