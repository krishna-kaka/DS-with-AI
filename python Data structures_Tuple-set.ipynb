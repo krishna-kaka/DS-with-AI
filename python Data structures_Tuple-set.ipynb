{
 "cells": [
  {
   "cell_type": "markdown",
   "id": "7661d4dc",
   "metadata": {},
   "source": [
    "# Tuple"
   ]
  },
  {
   "cell_type": "code",
   "execution_count": 43,
   "id": "b7819e6e",
   "metadata": {},
   "outputs": [
    {
     "data": {
      "text/plain": [
       "()"
      ]
     },
     "execution_count": 43,
     "metadata": {},
     "output_type": "execute_result"
    }
   ],
   "source": [
    "t=()\n",
    "t"
   ]
  },
  {
   "cell_type": "code",
   "execution_count": 44,
   "id": "eab2592a",
   "metadata": {},
   "outputs": [
    {
     "name": "stdout",
     "output_type": "stream",
     "text": [
      "(1, 2, 3, 4, 5)\n"
     ]
    }
   ],
   "source": [
    "t=(1, 2, 3, 4, 5)  \n",
    "print(t)  # Output: (1, 2, 3, 4, 5)"
   ]
  },
  {
   "cell_type": "code",
   "execution_count": 45,
   "id": "8df3193b",
   "metadata": {},
   "outputs": [
    {
     "data": {
      "text/plain": [
       "tuple"
      ]
     },
     "execution_count": 45,
     "metadata": {},
     "output_type": "execute_result"
    }
   ],
   "source": [
    "type(t)"
   ]
  },
  {
   "cell_type": "code",
   "execution_count": 46,
   "id": "94357af9",
   "metadata": {},
   "outputs": [
    {
     "name": "stdout",
     "output_type": "stream",
     "text": [
      "(10, 20, 2.25, 'one', 'hello', True, (10+20j), 20)\n"
     ]
    }
   ],
   "source": [
    "t1=(10,20,2.25,'one','hello',True,(10+20j),20)\n",
    "print(t1)"
   ]
  },
  {
   "cell_type": "code",
   "execution_count": 47,
   "id": "907afd63",
   "metadata": {},
   "outputs": [
    {
     "data": {
      "text/plain": [
       "2"
      ]
     },
     "execution_count": 47,
     "metadata": {},
     "output_type": "execute_result"
    }
   ],
   "source": [
    "t1.count(20)    # count how many times 20 appears in the tuple"
   ]
  },
  {
   "cell_type": "code",
   "execution_count": 48,
   "id": "b66e5296",
   "metadata": {},
   "outputs": [
    {
     "data": {
      "text/plain": [
       "4"
      ]
     },
     "execution_count": 48,
     "metadata": {},
     "output_type": "execute_result"
    }
   ],
   "source": [
    "t1.index('hello')   # print the index of 'hello' in the tuple"
   ]
  },
  {
   "cell_type": "code",
   "execution_count": 7,
   "id": "1a0bd500",
   "metadata": {},
   "outputs": [
    {
     "ename": "ValueError",
     "evalue": "tuple.index(x): x not in tuple",
     "output_type": "error",
     "traceback": [
      "\u001b[31m---------------------------------------------------------------------------\u001b[39m",
      "\u001b[31mValueError\u001b[39m                                Traceback (most recent call last)",
      "\u001b[36mCell\u001b[39m\u001b[36m \u001b[39m\u001b[32mIn[7]\u001b[39m\u001b[32m, line 1\u001b[39m\n\u001b[32m----> \u001b[39m\u001b[32m1\u001b[39m \u001b[43mt1\u001b[49m\u001b[43m.\u001b[49m\u001b[43mindex\u001b[49m\u001b[43m(\u001b[49m\u001b[32;43m2\u001b[39;49m\u001b[43m)\u001b[49m   \u001b[38;5;66;03m# This will raise a TypeError because 'index' is a method, not a subscriptable object\u001b[39;00m\n",
      "\u001b[31mValueError\u001b[39m: tuple.index(x): x not in tuple"
     ]
    }
   ],
   "source": [
    "t1.index(2)   # This will raise a TypeError because 'index' is a method, not a subscriptable object"
   ]
  },
  {
   "cell_type": "code",
   "execution_count": 49,
   "id": "12bfd2dc",
   "metadata": {},
   "outputs": [
    {
     "data": {
      "text/plain": [
       "1"
      ]
     },
     "execution_count": 49,
     "metadata": {},
     "output_type": "execute_result"
    }
   ],
   "source": [
    "t1.index(20)   # print the index of 20 in the tuple"
   ]
  },
  {
   "cell_type": "code",
   "execution_count": 50,
   "id": "d6216b52",
   "metadata": {},
   "outputs": [
    {
     "name": "stdout",
     "output_type": "stream",
     "text": [
      "(10, 20, 30)\n"
     ]
    }
   ],
   "source": [
    "t2=(10,20,30)\n",
    "print(t2)"
   ]
  },
  {
   "cell_type": "code",
   "execution_count": 51,
   "id": "7c850cbc",
   "metadata": {},
   "outputs": [
    {
     "name": "stdout",
     "output_type": "stream",
     "text": [
      "(10, 20, 30, 10, 20, 30, 10, 20, 30)\n"
     ]
    }
   ],
   "source": [
    "t4=t2 * 3   # Repeat the tuple t2 three times\n",
    "print(t4)"
   ]
  },
  {
   "cell_type": "code",
   "execution_count": 52,
   "id": "6117c0b7",
   "metadata": {},
   "outputs": [
    {
     "name": "stdout",
     "output_type": "stream",
     "text": [
      "3\n",
      "9\n"
     ]
    }
   ],
   "source": [
    "print(len(t2))\n",
    "print(len(t4))"
   ]
  },
  {
   "cell_type": "code",
   "execution_count": 54,
   "id": "194b7511",
   "metadata": {},
   "outputs": [
    {
     "data": {
      "text/plain": [
       "30"
      ]
     },
     "execution_count": 54,
     "metadata": {},
     "output_type": "execute_result"
    }
   ],
   "source": [
    "t2[2]   # Access the element at index 2 of tuple t2"
   ]
  },
  {
   "cell_type": "code",
   "execution_count": 55,
   "id": "fdb107cb",
   "metadata": {},
   "outputs": [
    {
     "name": "stdout",
     "output_type": "stream",
     "text": [
      "10\n",
      "20\n",
      "30\n"
     ]
    }
   ],
   "source": [
    "for i in t2:    # Iterate through each element in tuple t2\n",
    "    print(i)"
   ]
  },
  {
   "cell_type": "code",
   "execution_count": 56,
   "id": "2a4501ae",
   "metadata": {},
   "outputs": [
    {
     "name": "stdout",
     "output_type": "stream",
     "text": [
      "(0, 10)\n",
      "(1, 20)\n",
      "(2, 30)\n"
     ]
    }
   ],
   "source": [
    "for i in enumerate(t2):   # Iterate through tuple t2 with index\n",
    "    print(i)"
   ]
  },
  {
   "cell_type": "code",
   "execution_count": 57,
   "id": "f1064b03",
   "metadata": {},
   "outputs": [
    {
     "ename": "TypeError",
     "evalue": "'tuple' object does not support item assignment",
     "output_type": "error",
     "traceback": [
      "\u001b[31m---------------------------------------------------------------------------\u001b[39m",
      "\u001b[31mTypeError\u001b[39m                                 Traceback (most recent call last)",
      "\u001b[36mCell\u001b[39m\u001b[36m \u001b[39m\u001b[32mIn[57]\u001b[39m\u001b[32m, line 1\u001b[39m\n\u001b[32m----> \u001b[39m\u001b[32m1\u001b[39m \u001b[43mt2\u001b[49m\u001b[43m[\u001b[49m\u001b[32;43m0\u001b[39;49m\u001b[43m]\u001b[49m=\u001b[32m100\u001b[39m   \u001b[38;5;66;03m# This will raise a TypeError because tuples are immutable\u001b[39;00m\n",
      "\u001b[31mTypeError\u001b[39m: 'tuple' object does not support item assignment"
     ]
    }
   ],
   "source": [
    "t2[0]=100   # This will raise a TypeError because tuples are immutable"
   ]
  },
  {
   "cell_type": "code",
   "execution_count": 58,
   "id": "234240b5",
   "metadata": {},
   "outputs": [
    {
     "data": {
      "text/plain": [
       "1"
      ]
     },
     "execution_count": 58,
     "metadata": {},
     "output_type": "execute_result"
    }
   ],
   "source": [
    "t2.index(20)  # Find the index of the first occurrence of 20 in tuple t2"
   ]
  },
  {
   "cell_type": "code",
   "execution_count": null,
   "id": "562c78c1",
   "metadata": {},
   "outputs": [],
   "source": []
  },
  {
   "cell_type": "markdown",
   "id": "dd85a89d",
   "metadata": {},
   "source": [
    "# list\n",
    "- mutable\n",
    "- duplicate is allowed\n",
    "- append(), copy(), insert(), extend(), pop()\n",
    "- remove the element\n",
    "- list is growable\n",
    "- multiple data type in a list\n",
    "- indexing & slicing is allowed\n",
    "\n",
    "# Tuple\n",
    "- immutable ( unchangeable)\n",
    "- duplication is allowed\n",
    "- remove is not allowed\n",
    "- only 2 functions will work (.index, .count)\n"
   ]
  },
  {
   "cell_type": "markdown",
   "id": "835db7cc",
   "metadata": {},
   "source": [
    "# Set"
   ]
  },
  {
   "cell_type": "code",
   "execution_count": 68,
   "id": "171d53dc",
   "metadata": {},
   "outputs": [
    {
     "data": {
      "text/plain": [
       "dict"
      ]
     },
     "execution_count": 68,
     "metadata": {},
     "output_type": "execute_result"
    }
   ],
   "source": [
    "s={}\n",
    "type(s) # This will show that s is a dictionary,because {} creates an empty dictionary by default"
   ]
  },
  {
   "cell_type": "code",
   "execution_count": 69,
   "id": "b77d81d5",
   "metadata": {},
   "outputs": [
    {
     "name": "stdout",
     "output_type": "stream",
     "text": [
      "set()\n"
     ]
    },
    {
     "data": {
      "text/plain": [
       "set"
      ]
     },
     "execution_count": 69,
     "metadata": {},
     "output_type": "execute_result"
    }
   ],
   "source": [
    "s=set()    # empty set will be declared as set\n",
    "print(s)  # print s\n",
    "type(s)  # Print the type of s"
   ]
  },
  {
   "cell_type": "code",
   "execution_count": 70,
   "id": "9bae3049",
   "metadata": {},
   "outputs": [
    {
     "name": "stdout",
     "output_type": "stream",
     "text": [
      "set()\n"
     ]
    },
    {
     "data": {
      "text/plain": [
       "set"
      ]
     },
     "execution_count": 70,
     "metadata": {},
     "output_type": "execute_result"
    }
   ],
   "source": [
    "S=set()    # empty set will be declared as set\n",
    "print(S)  # print s\n",
    "type(S)  # Print the type of s"
   ]
  },
  {
   "cell_type": "code",
   "execution_count": 80,
   "id": "54e510a8",
   "metadata": {},
   "outputs": [
    {
     "name": "stdout",
     "output_type": "stream",
     "text": [
      "{50, 20, 40, 10, 30}\n"
     ]
    },
    {
     "data": {
      "text/plain": [
       "{10, 20, 30, 40, 50}"
      ]
     },
     "execution_count": 80,
     "metadata": {},
     "output_type": "execute_result"
    }
   ],
   "source": [
    "s1={10,20,30,40,50,20,30,50}    # Declare a set\n",
    "print(s1)  # Print s1, duplicates are not allowed in set and will be removed\n",
    "s1\n"
   ]
  },
  {
   "cell_type": "code",
   "execution_count": 73,
   "id": "d572e03e",
   "metadata": {},
   "outputs": [
    {
     "data": {
      "text/plain": [
       "set"
      ]
     },
     "execution_count": 73,
     "metadata": {},
     "output_type": "execute_result"
    }
   ],
   "source": [
    "type(s1)   # Print the type of s1"
   ]
  },
  {
   "cell_type": "code",
   "execution_count": 75,
   "id": "f810ee40",
   "metadata": {},
   "outputs": [
    {
     "data": {
      "text/plain": [
       "{30, 50, 60, 90, 110}"
      ]
     },
     "execution_count": 75,
     "metadata": {},
     "output_type": "execute_result"
    }
   ],
   "source": [
    "s2={110,30,60,90,50}\n",
    "s2"
   ]
  },
  {
   "cell_type": "code",
   "execution_count": 76,
   "id": "daf64e2d",
   "metadata": {},
   "outputs": [
    {
     "data": {
      "text/plain": [
       "set"
      ]
     },
     "execution_count": 76,
     "metadata": {},
     "output_type": "execute_result"
    }
   ],
   "source": [
    "type(s2)"
   ]
  },
  {
   "cell_type": "code",
   "execution_count": 77,
   "id": "f79e66e5",
   "metadata": {},
   "outputs": [],
   "source": [
    "s3=s1.copy()   # Copy set s1 to s3"
   ]
  },
  {
   "cell_type": "code",
   "execution_count": 78,
   "id": "9dbfe6da",
   "metadata": {},
   "outputs": [
    {
     "name": "stdout",
     "output_type": "stream",
     "text": [
      "{50, 20, 40, 10, 30}\n"
     ]
    }
   ],
   "source": [
    "print(s3)   # Print s3"
   ]
  },
  {
   "cell_type": "code",
   "execution_count": 81,
   "id": "31087a80",
   "metadata": {},
   "outputs": [
    {
     "name": "stdout",
     "output_type": "stream",
     "text": [
      "{50, 20, 40, 10, 60, 30}\n"
     ]
    }
   ],
   "source": [
    "s3.add(60)   # Add element 60 to set s3\n",
    "print(s3)   # Print s3"
   ]
  },
  {
   "cell_type": "code",
   "execution_count": 83,
   "id": "bbc382fe",
   "metadata": {},
   "outputs": [
    {
     "name": "stdout",
     "output_type": "stream",
     "text": [
      "{2.25, (1+2j), 10, 'hello', 20, 90, 30, 40, 50, 60}\n"
     ]
    },
    {
     "data": {
      "text/plain": [
       "{(1+2j), 10, 2.25, 20, 30, 40, 50, 60, 90, 'hello'}"
      ]
     },
     "execution_count": 83,
     "metadata": {},
     "output_type": "execute_result"
    }
   ],
   "source": [
    "s3.add(90)   # Add element 90 to set s3\n",
    "s3.add('hello')   # Add element 'hello' to set s3\n",
    "s3.add(2.25)   # Add element 2.25 to set s3\n",
    "s3.add((1+2j))   # Add element (1+2j) to set s3\n",
    "print(s3)   # Print s3\n",
    "s3"
   ]
  },
  {
   "cell_type": "code",
   "execution_count": 84,
   "id": "fc41cc4f",
   "metadata": {},
   "outputs": [
    {
     "name": "stdout",
     "output_type": "stream",
     "text": [
      "{2.25, (1+2j), 10, 'hello', 90, 30, 40, 50, 60}\n"
     ]
    }
   ],
   "source": [
    "s3.remove(20)   # Remove element 20 from set s3\n",
    "print(s3)   # Print s3"
   ]
  },
  {
   "cell_type": "code",
   "execution_count": 85,
   "id": "c335c6da",
   "metadata": {},
   "outputs": [
    {
     "ename": "KeyError",
     "evalue": "100",
     "output_type": "error",
     "traceback": [
      "\u001b[31m---------------------------------------------------------------------------\u001b[39m",
      "\u001b[31mKeyError\u001b[39m                                  Traceback (most recent call last)",
      "\u001b[36mCell\u001b[39m\u001b[36m \u001b[39m\u001b[32mIn[85]\u001b[39m\u001b[32m, line 1\u001b[39m\n\u001b[32m----> \u001b[39m\u001b[32m1\u001b[39m \u001b[43ms3\u001b[49m\u001b[43m.\u001b[49m\u001b[43mremove\u001b[49m\u001b[43m(\u001b[49m\u001b[32;43m100\u001b[39;49m\u001b[43m)\u001b[49m   \u001b[38;5;66;03m# This will raise a KeyError because 100 is not in the set\u001b[39;00m\n\u001b[32m      2\u001b[39m \u001b[38;5;28mprint\u001b[39m(s3)   \u001b[38;5;66;03m# Print s3\u001b[39;00m\n",
      "\u001b[31mKeyError\u001b[39m: 100"
     ]
    }
   ],
   "source": [
    "s3.remove(100)   # This will raise a KeyError because 100 is not in the set\n",
    "print(s3)   # Print s3"
   ]
  },
  {
   "cell_type": "code",
   "execution_count": 86,
   "id": "0e9318e5",
   "metadata": {},
   "outputs": [
    {
     "name": "stdout",
     "output_type": "stream",
     "text": [
      "{2.25, (1+2j), 10, 'hello', 90, 40, 50, 60}\n"
     ]
    }
   ],
   "source": [
    "s3.discard(30)   # Remove element 30 from set s3\n",
    "print(s3)   # Print s3"
   ]
  },
  {
   "cell_type": "code",
   "execution_count": 87,
   "id": "a32aa6f0",
   "metadata": {},
   "outputs": [
    {
     "name": "stdout",
     "output_type": "stream",
     "text": [
      "{2.25, (1+2j), 10, 'hello', 90, 40, 50, 60}\n"
     ]
    }
   ],
   "source": [
    "s3.discard(1000)   # This will not raise an error even though 1000 is not in the set\n",
    "print(s3)   # Print s3"
   ]
  },
  {
   "cell_type": "code",
   "execution_count": 88,
   "id": "59d17fb8",
   "metadata": {},
   "outputs": [
    {
     "name": "stdout",
     "output_type": "stream",
     "text": [
      "{(1+2j), 10, 'hello', 90, 40, 50, 60}\n"
     ]
    }
   ],
   "source": [
    "s3.pop()  # Remove and return an arbitrary element from the set s3\n",
    "print(s3)  # Print s3"
   ]
  },
  {
   "cell_type": "code",
   "execution_count": 89,
   "id": "f2839767",
   "metadata": {},
   "outputs": [
    {
     "ename": "TypeError",
     "evalue": "set.pop() takes no arguments (1 given)",
     "output_type": "error",
     "traceback": [
      "\u001b[31m---------------------------------------------------------------------------\u001b[39m",
      "\u001b[31mTypeError\u001b[39m                                 Traceback (most recent call last)",
      "\u001b[36mCell\u001b[39m\u001b[36m \u001b[39m\u001b[32mIn[89]\u001b[39m\u001b[32m, line 1\u001b[39m\n\u001b[32m----> \u001b[39m\u001b[32m1\u001b[39m \u001b[43ms3\u001b[49m\u001b[43m.\u001b[49m\u001b[43mpop\u001b[49m\u001b[43m(\u001b[49m\u001b[32;43m1\u001b[39;49m\u001b[43m)\u001b[49m  \u001b[38;5;66;03m# This will raise a TypeError because 'pop' does not take any arguments\u001b[39;00m\n\u001b[32m      2\u001b[39m \u001b[38;5;28mprint\u001b[39m(s3)  \u001b[38;5;66;03m# Print s3\u001b[39;00m\n",
      "\u001b[31mTypeError\u001b[39m: set.pop() takes no arguments (1 given)"
     ]
    }
   ],
   "source": [
    "s3.pop(1)  # This will raise a TypeError because 'pop' does not take any arguments\n",
    "print(s3)  # Print s3"
   ]
  },
  {
   "cell_type": "code",
   "execution_count": 90,
   "id": "7f89a4e9",
   "metadata": {},
   "outputs": [
    {
     "ename": "TypeError",
     "evalue": "'set' object is not subscriptable",
     "output_type": "error",
     "traceback": [
      "\u001b[31m---------------------------------------------------------------------------\u001b[39m",
      "\u001b[31mTypeError\u001b[39m                                 Traceback (most recent call last)",
      "\u001b[36mCell\u001b[39m\u001b[36m \u001b[39m\u001b[32mIn[90]\u001b[39m\u001b[32m, line 1\u001b[39m\n\u001b[32m----> \u001b[39m\u001b[32m1\u001b[39m \u001b[43ms3\u001b[49m\u001b[43m[\u001b[49m\u001b[32;43m1\u001b[39;49m\u001b[43m]\u001b[49m  \u001b[38;5;66;03m# This will raise a TypeError because sets are unordered and do not support indexing\u001b[39;00m\n",
      "\u001b[31mTypeError\u001b[39m: 'set' object is not subscriptable"
     ]
    }
   ],
   "source": [
    "s3[1]  # This will raise a TypeError because sets are unordered and do not support indexing"
   ]
  },
  {
   "cell_type": "code",
   "execution_count": 91,
   "id": "0fae237e",
   "metadata": {},
   "outputs": [
    {
     "ename": "TypeError",
     "evalue": "'set' object is not subscriptable",
     "output_type": "error",
     "traceback": [
      "\u001b[31m---------------------------------------------------------------------------\u001b[39m",
      "\u001b[31mTypeError\u001b[39m                                 Traceback (most recent call last)",
      "\u001b[36mCell\u001b[39m\u001b[36m \u001b[39m\u001b[32mIn[91]\u001b[39m\u001b[32m, line 1\u001b[39m\n\u001b[32m----> \u001b[39m\u001b[32m1\u001b[39m \u001b[43ms3\u001b[49m\u001b[43m[\u001b[49m\u001b[43m:\u001b[49m\u001b[43m]\u001b[49m  \u001b[38;5;66;03m# This will raise a TypeError because sets do not support slicing\u001b[39;00m\n",
      "\u001b[31mTypeError\u001b[39m: 'set' object is not subscriptable"
     ]
    }
   ],
   "source": [
    "s3[:]  # This will raise a TypeError because sets do not support slicing"
   ]
  },
  {
   "cell_type": "markdown",
   "id": "a64bad92",
   "metadata": {},
   "source": [
    "Set Membership"
   ]
  },
  {
   "cell_type": "code",
   "execution_count": 92,
   "id": "fd4b7569",
   "metadata": {},
   "outputs": [
    {
     "data": {
      "text/plain": [
       "True"
      ]
     },
     "execution_count": 92,
     "metadata": {},
     "output_type": "execute_result"
    }
   ],
   "source": [
    "90 in s3   # Check if 90 is an element of set s3"
   ]
  },
  {
   "cell_type": "code",
   "execution_count": 93,
   "id": "bea1db5c",
   "metadata": {},
   "outputs": [
    {
     "data": {
      "text/plain": [
       "False"
      ]
     },
     "execution_count": 93,
     "metadata": {},
     "output_type": "execute_result"
    }
   ],
   "source": [
    "100 in s3   # Check if 100 is an element of set s3"
   ]
  },
  {
   "cell_type": "markdown",
   "id": "1694f28e",
   "metadata": {},
   "source": [
    "# Set Operations"
   ]
  },
  {
   "cell_type": "markdown",
   "id": "eb2a7d98",
   "metadata": {},
   "source": [
    "- Union"
   ]
  },
  {
   "cell_type": "code",
   "execution_count": 94,
   "id": "9e3cb24a",
   "metadata": {},
   "outputs": [],
   "source": [
    "a={1,2,3,4,5}\n",
    "b={4,5,6,7,8}\n",
    "c={8,9,10}"
   ]
  },
  {
   "cell_type": "code",
   "execution_count": 95,
   "id": "89adb017",
   "metadata": {},
   "outputs": [
    {
     "data": {
      "text/plain": [
       "(set, set, set)"
      ]
     },
     "execution_count": 95,
     "metadata": {},
     "output_type": "execute_result"
    }
   ],
   "source": [
    "    type(a), type(b), type(c)"
   ]
  },
  {
   "cell_type": "code",
   "execution_count": 96,
   "id": "22ca0162",
   "metadata": {},
   "outputs": [
    {
     "name": "stdout",
     "output_type": "stream",
     "text": [
      "{1, 2, 3, 4, 5, 6, 7, 8}\n"
     ]
    }
   ],
   "source": [
    "u=a.union(b)   # Union of sets a and b\n",
    "print(u)   # Print the union set u"
   ]
  },
  {
   "cell_type": "code",
   "execution_count": 97,
   "id": "7992a67f",
   "metadata": {},
   "outputs": [
    {
     "name": "stdout",
     "output_type": "stream",
     "text": [
      "{1, 2, 3, 4, 5, 6, 7, 8, 9, 10}\n"
     ]
    }
   ],
   "source": [
    "u=a.union(b,c)   # Union of sets a, b, and c\n",
    "print(u)   # Print the union set u"
   ]
  },
  {
   "cell_type": "code",
   "execution_count": 98,
   "id": "6fd5a565",
   "metadata": {},
   "outputs": [
    {
     "name": "stdout",
     "output_type": "stream",
     "text": [
      "a: {1, 2, 3, 4, 5}\n",
      "b: {4, 5, 6, 7, 8}\n",
      "c: {8, 9, 10}\n"
     ]
    }
   ],
   "source": [
    "print('a:', a)\n",
    "print('b:', b)\n",
    "print('c:', c)"
   ]
  },
  {
   "cell_type": "code",
   "execution_count": 99,
   "id": "5ca59206",
   "metadata": {},
   "outputs": [
    {
     "data": {
      "text/plain": [
       "{1, 2, 3, 4, 5, 6, 7, 8}"
      ]
     },
     "execution_count": 99,
     "metadata": {},
     "output_type": "execute_result"
    }
   ],
   "source": [
    "a|b   # Union of sets a and b"
   ]
  },
  {
   "cell_type": "code",
   "execution_count": 100,
   "id": "86782586",
   "metadata": {},
   "outputs": [
    {
     "data": {
      "text/plain": [
       "{4, 5, 6, 7, 8, 9, 10}"
      ]
     },
     "execution_count": 100,
     "metadata": {},
     "output_type": "execute_result"
    }
   ],
   "source": [
    "b|c   # Union of sets b and c"
   ]
  },
  {
   "cell_type": "code",
   "execution_count": 101,
   "id": "ad37b566",
   "metadata": {},
   "outputs": [
    {
     "data": {
      "text/plain": [
       "{1, 2, 3, 4, 5, 6, 7, 8, 9, 10}"
      ]
     },
     "execution_count": 101,
     "metadata": {},
     "output_type": "execute_result"
    }
   ],
   "source": [
    "a|b|c   # Union of sets a, b, and c"
   ]
  },
  {
   "cell_type": "code",
   "execution_count": 102,
   "id": "575a4fe2",
   "metadata": {},
   "outputs": [
    {
     "data": {
      "text/plain": [
       "{1, 2, 3, 4, 5, 8, 9, 10}"
      ]
     },
     "execution_count": 102,
     "metadata": {},
     "output_type": "execute_result"
    }
   ],
   "source": [
    "a|c     # Union of sets a and c"
   ]
  },
  {
   "cell_type": "code",
   "execution_count": 103,
   "id": "2e1b235a",
   "metadata": {},
   "outputs": [
    {
     "data": {
      "text/plain": [
       "{4, 5, 6, 7, 8, 9, 10}"
      ]
     },
     "execution_count": 103,
     "metadata": {},
     "output_type": "execute_result"
    }
   ],
   "source": [
    "b|c  # Union of sets b and c"
   ]
  },
  {
   "cell_type": "code",
   "execution_count": 104,
   "id": "a6c0bdbf",
   "metadata": {},
   "outputs": [
    {
     "data": {
      "text/plain": [
       "{1, 2, 3, 4, 5, 6, 7, 8, 9, 10}"
      ]
     },
     "execution_count": 104,
     "metadata": {},
     "output_type": "execute_result"
    }
   ],
   "source": [
    "a|c|b   # Union of sets a, c, and b"
   ]
  },
  {
   "cell_type": "markdown",
   "id": "df6e1ce1",
   "metadata": {},
   "source": [
    "- Intersection"
   ]
  },
  {
   "cell_type": "code",
   "execution_count": 105,
   "id": "a8b3e984",
   "metadata": {},
   "outputs": [
    {
     "name": "stdout",
     "output_type": "stream",
     "text": [
      "a: {1, 2, 3, 4, 5}\n",
      "b: {4, 5, 6, 7, 8}\n",
      "c: {8, 9, 10}\n"
     ]
    }
   ],
   "source": [
    "print('a:', a)\n",
    "print('b:', b)\n",
    "print('c:', c)"
   ]
  },
  {
   "cell_type": "code",
   "execution_count": 106,
   "id": "16587fad",
   "metadata": {},
   "outputs": [
    {
     "name": "stdout",
     "output_type": "stream",
     "text": [
      "i: {4, 5}\n"
     ]
    }
   ],
   "source": [
    "i=a.intersection(b)   # Intersection of sets a and b\n",
    "print('i:', i)"
   ]
  },
  {
   "cell_type": "code",
   "execution_count": 107,
   "id": "cb021abd",
   "metadata": {},
   "outputs": [
    {
     "name": "stdout",
     "output_type": "stream",
     "text": [
      "i: {8}\n"
     ]
    }
   ],
   "source": [
    "i=b.intersection(c)   # Intersection of sets b and c\n",
    "print('i:', i)"
   ]
  },
  {
   "cell_type": "code",
   "execution_count": 108,
   "id": "d5e135c7",
   "metadata": {},
   "outputs": [
    {
     "data": {
      "text/plain": [
       "{4, 5}"
      ]
     },
     "execution_count": 108,
     "metadata": {},
     "output_type": "execute_result"
    }
   ],
   "source": [
    "a & b   # Intersection of sets a and b"
   ]
  },
  {
   "cell_type": "code",
   "execution_count": 109,
   "id": "2201c7d7",
   "metadata": {},
   "outputs": [
    {
     "data": {
      "text/plain": [
       "{8}"
      ]
     },
     "execution_count": 109,
     "metadata": {},
     "output_type": "execute_result"
    }
   ],
   "source": [
    "b & c   # Intersection of sets b and c"
   ]
  },
  {
   "cell_type": "code",
   "execution_count": 110,
   "id": "23eabfac",
   "metadata": {},
   "outputs": [
    {
     "data": {
      "text/plain": [
       "set()"
      ]
     },
     "execution_count": 110,
     "metadata": {},
     "output_type": "execute_result"
    }
   ],
   "source": [
    "a & b & c   # Intersection of sets a, b, and c"
   ]
  },
  {
   "cell_type": "code",
   "execution_count": 111,
   "id": "db2e8f06",
   "metadata": {},
   "outputs": [
    {
     "data": {
      "text/plain": [
       "set()"
      ]
     },
     "execution_count": 111,
     "metadata": {},
     "output_type": "execute_result"
    }
   ],
   "source": [
    "a & c   # Intersection of sets a and c"
   ]
  },
  {
   "cell_type": "markdown",
   "id": "14a6132a",
   "metadata": {},
   "source": [
    "- Difference"
   ]
  },
  {
   "cell_type": "code",
   "execution_count": 112,
   "id": "a2bc3aa6",
   "metadata": {},
   "outputs": [
    {
     "name": "stdout",
     "output_type": "stream",
     "text": [
      "a: {1, 2, 3, 4, 5}\n",
      "b: {4, 5, 6, 7, 8}\n",
      "c: {8, 9, 10}\n"
     ]
    }
   ],
   "source": [
    "print('a:', a)\n",
    "print('b:', b)\n",
    "print('c:', c)"
   ]
  },
  {
   "cell_type": "code",
   "execution_count": 113,
   "id": "2c145900",
   "metadata": {},
   "outputs": [
    {
     "data": {
      "text/plain": [
       "{1, 2, 3}"
      ]
     },
     "execution_count": 113,
     "metadata": {},
     "output_type": "execute_result"
    }
   ],
   "source": [
    "a.difference(b)   # Difference of sets a and b \n",
    "# Difference will only print elements present in a but not in b"
   ]
  },
  {
   "cell_type": "code",
   "execution_count": 114,
   "id": "ef691472",
   "metadata": {},
   "outputs": [
    {
     "data": {
      "text/plain": [
       "{6, 7, 8}"
      ]
     },
     "execution_count": 114,
     "metadata": {},
     "output_type": "execute_result"
    }
   ],
   "source": [
    "b.difference(a)   # Difference of sets b and a\n",
    "# Difference will only print elements present in b but not in a"
   ]
  },
  {
   "cell_type": "code",
   "execution_count": 115,
   "id": "10331303",
   "metadata": {},
   "outputs": [
    {
     "data": {
      "text/plain": [
       "{4, 5, 6, 7}"
      ]
     },
     "execution_count": 115,
     "metadata": {},
     "output_type": "execute_result"
    }
   ],
   "source": [
    "b.difference(c)   # Difference of sets b and c"
   ]
  },
  {
   "cell_type": "code",
   "execution_count": 116,
   "id": "bfa7d590",
   "metadata": {},
   "outputs": [
    {
     "data": {
      "text/plain": [
       "{1, 2, 3, 4, 5}"
      ]
     },
     "execution_count": 116,
     "metadata": {},
     "output_type": "execute_result"
    }
   ],
   "source": [
    "a.difference(c)   # Difference of sets a and c"
   ]
  },
  {
   "cell_type": "code",
   "execution_count": 117,
   "id": "f6e377c9",
   "metadata": {},
   "outputs": [
    {
     "data": {
      "text/plain": [
       "{4, 5, 6, 7}"
      ]
     },
     "execution_count": 117,
     "metadata": {},
     "output_type": "execute_result"
    }
   ],
   "source": [
    "b - c   # Difference of sets b and c"
   ]
  },
  {
   "cell_type": "code",
   "execution_count": 118,
   "id": "29e59d90",
   "metadata": {},
   "outputs": [
    {
     "data": {
      "text/plain": [
       "{8, 9, 10}"
      ]
     },
     "execution_count": 118,
     "metadata": {},
     "output_type": "execute_result"
    }
   ],
   "source": [
    "c - a   # Difference of sets c and a"
   ]
  },
  {
   "cell_type": "code",
   "execution_count": 119,
   "id": "716b10b4",
   "metadata": {},
   "outputs": [
    {
     "data": {
      "text/plain": [
       "{1, 2, 3}"
      ]
     },
     "execution_count": 119,
     "metadata": {},
     "output_type": "execute_result"
    }
   ],
   "source": [
    "a-b-c   # Difference of sets a, b and c"
   ]
  },
  {
   "cell_type": "code",
   "execution_count": 120,
   "id": "3afda3cf",
   "metadata": {},
   "outputs": [
    {
     "data": {
      "text/plain": [
       "{9, 10}"
      ]
     },
     "execution_count": 120,
     "metadata": {},
     "output_type": "execute_result"
    }
   ],
   "source": [
    "c-a-b   # Difference of sets c, a and b"
   ]
  },
  {
   "cell_type": "code",
   "execution_count": null,
   "id": "dede24ca",
   "metadata": {},
   "outputs": [],
   "source": []
  }
 ],
 "metadata": {
  "kernelspec": {
   "display_name": "Python 3",
   "language": "python",
   "name": "python3"
  },
  "language_info": {
   "codemirror_mode": {
    "name": "ipython",
    "version": 3
   },
   "file_extension": ".py",
   "mimetype": "text/x-python",
   "name": "python",
   "nbconvert_exporter": "python",
   "pygments_lexer": "ipython3",
   "version": "3.14.0"
  }
 },
 "nbformat": 4,
 "nbformat_minor": 5
}
