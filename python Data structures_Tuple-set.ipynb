{
 "cells": [
  {
   "cell_type": "markdown",
   "id": "7661d4dc",
   "metadata": {},
   "source": [
    "# Tuple"
   ]
  },
  {
   "cell_type": "code",
   "execution_count": 1,
   "id": "b7819e6e",
   "metadata": {},
   "outputs": [
    {
     "data": {
      "text/plain": [
       "()"
      ]
     },
     "execution_count": 1,
     "metadata": {},
     "output_type": "execute_result"
    }
   ],
   "source": [
    "t=()\n",
    "t"
   ]
  },
  {
   "cell_type": "code",
   "execution_count": 2,
   "id": "eab2592a",
   "metadata": {},
   "outputs": [
    {
     "name": "stdout",
     "output_type": "stream",
     "text": [
      "(1, 2, 3, 4, 5)\n"
     ]
    }
   ],
   "source": [
    "t=(1, 2, 3, 4, 5)  \n",
    "print(t)  # Output: (1, 2, 3, 4, 5)"
   ]
  },
  {
   "cell_type": "code",
   "execution_count": 3,
   "id": "8df3193b",
   "metadata": {},
   "outputs": [
    {
     "data": {
      "text/plain": [
       "tuple"
      ]
     },
     "execution_count": 3,
     "metadata": {},
     "output_type": "execute_result"
    }
   ],
   "source": [
    "type(t)"
   ]
  },
  {
   "cell_type": "code",
   "execution_count": 4,
   "id": "94357af9",
   "metadata": {},
   "outputs": [
    {
     "name": "stdout",
     "output_type": "stream",
     "text": [
      "(10, 20, 2.25, 'one', 'hello', True, (10+20j), 20)\n"
     ]
    }
   ],
   "source": [
    "t1=(10,20,2.25,'one','hello',True,(10+20j),20)\n",
    "print(t1)"
   ]
  },
  {
   "cell_type": "code",
   "execution_count": 5,
   "id": "907afd63",
   "metadata": {},
   "outputs": [
    {
     "data": {
      "text/plain": [
       "2"
      ]
     },
     "execution_count": 5,
     "metadata": {},
     "output_type": "execute_result"
    }
   ],
   "source": [
    "t1.count(20)    # count how many times 20 appears in the tuple"
   ]
  },
  {
   "cell_type": "code",
   "execution_count": 6,
   "id": "b66e5296",
   "metadata": {},
   "outputs": [
    {
     "data": {
      "text/plain": [
       "4"
      ]
     },
     "execution_count": 6,
     "metadata": {},
     "output_type": "execute_result"
    }
   ],
   "source": [
    "t1.index('hello')   # print the index of 'hello' in the tuple"
   ]
  },
  {
   "cell_type": "code",
   "execution_count": 7,
   "id": "1a0bd500",
   "metadata": {},
   "outputs": [
    {
     "ename": "ValueError",
     "evalue": "tuple.index(x): x not in tuple",
     "output_type": "error",
     "traceback": [
      "\u001b[31m---------------------------------------------------------------------------\u001b[39m",
      "\u001b[31mValueError\u001b[39m                                Traceback (most recent call last)",
      "\u001b[36mCell\u001b[39m\u001b[36m \u001b[39m\u001b[32mIn[7]\u001b[39m\u001b[32m, line 1\u001b[39m\n\u001b[32m----> \u001b[39m\u001b[32m1\u001b[39m \u001b[43mt1\u001b[49m\u001b[43m.\u001b[49m\u001b[43mindex\u001b[49m\u001b[43m(\u001b[49m\u001b[32;43m2\u001b[39;49m\u001b[43m)\u001b[49m   \u001b[38;5;66;03m# This will raise a TypeError because 'index' is a method, not a subscriptable object\u001b[39;00m\n",
      "\u001b[31mValueError\u001b[39m: tuple.index(x): x not in tuple"
     ]
    }
   ],
   "source": [
    "t1.index(2)   # This will raise a TypeError because 'index' is a method, not a subscriptable object"
   ]
  },
  {
   "cell_type": "code",
   "execution_count": 8,
   "id": "12bfd2dc",
   "metadata": {},
   "outputs": [
    {
     "data": {
      "text/plain": [
       "1"
      ]
     },
     "execution_count": 8,
     "metadata": {},
     "output_type": "execute_result"
    }
   ],
   "source": [
    "t1.index(20)   # print the index of 20 in the tuple"
   ]
  },
  {
   "cell_type": "code",
   "execution_count": 9,
   "id": "d6216b52",
   "metadata": {},
   "outputs": [
    {
     "name": "stdout",
     "output_type": "stream",
     "text": [
      "(10, 20, 30)\n"
     ]
    }
   ],
   "source": [
    "t2=(10,20,30)\n",
    "print(t2)"
   ]
  },
  {
   "cell_type": "code",
   "execution_count": 10,
   "id": "7c850cbc",
   "metadata": {},
   "outputs": [
    {
     "name": "stdout",
     "output_type": "stream",
     "text": [
      "(10, 20, 30, 10, 20, 30, 10, 20, 30)\n"
     ]
    }
   ],
   "source": [
    "t4=t2 * 3   # Repeat the tuple t2 three times\n",
    "print(t4)"
   ]
  },
  {
   "cell_type": "code",
   "execution_count": 11,
   "id": "6117c0b7",
   "metadata": {},
   "outputs": [
    {
     "name": "stdout",
     "output_type": "stream",
     "text": [
      "3\n",
      "9\n"
     ]
    }
   ],
   "source": [
    "print(len(t2))\n",
    "print(len(t4))"
   ]
  },
  {
   "cell_type": "code",
   "execution_count": 12,
   "id": "194b7511",
   "metadata": {},
   "outputs": [
    {
     "data": {
      "text/plain": [
       "30"
      ]
     },
     "execution_count": 12,
     "metadata": {},
     "output_type": "execute_result"
    }
   ],
   "source": [
    "t2[2]   # Access the element at index 2 of tuple t2"
   ]
  },
  {
   "cell_type": "code",
   "execution_count": 13,
   "id": "fdb107cb",
   "metadata": {},
   "outputs": [
    {
     "name": "stdout",
     "output_type": "stream",
     "text": [
      "10\n",
      "20\n",
      "30\n"
     ]
    }
   ],
   "source": [
    "for i in t2:    # Iterate through each element in tuple t2\n",
    "    print(i)"
   ]
  },
  {
   "cell_type": "code",
   "execution_count": 14,
   "id": "2a4501ae",
   "metadata": {},
   "outputs": [
    {
     "name": "stdout",
     "output_type": "stream",
     "text": [
      "(0, 10)\n",
      "(1, 20)\n",
      "(2, 30)\n"
     ]
    }
   ],
   "source": [
    "for i in enumerate(t2):   # Iterate through tuple t2 with index\n",
    "    print(i)"
   ]
  },
  {
   "cell_type": "code",
   "execution_count": 15,
   "id": "f1064b03",
   "metadata": {},
   "outputs": [
    {
     "ename": "TypeError",
     "evalue": "'tuple' object does not support item assignment",
     "output_type": "error",
     "traceback": [
      "\u001b[31m---------------------------------------------------------------------------\u001b[39m",
      "\u001b[31mTypeError\u001b[39m                                 Traceback (most recent call last)",
      "\u001b[36mCell\u001b[39m\u001b[36m \u001b[39m\u001b[32mIn[15]\u001b[39m\u001b[32m, line 1\u001b[39m\n\u001b[32m----> \u001b[39m\u001b[32m1\u001b[39m \u001b[43mt2\u001b[49m\u001b[43m[\u001b[49m\u001b[32;43m0\u001b[39;49m\u001b[43m]\u001b[49m=\u001b[32m100\u001b[39m   \u001b[38;5;66;03m# This will raise a TypeError because tuples are immutable\u001b[39;00m\n",
      "\u001b[31mTypeError\u001b[39m: 'tuple' object does not support item assignment"
     ]
    }
   ],
   "source": [
    "t2[0]=100   # This will raise a TypeError because tuples are immutable"
   ]
  },
  {
   "cell_type": "code",
   "execution_count": 16,
   "id": "234240b5",
   "metadata": {},
   "outputs": [
    {
     "data": {
      "text/plain": [
       "1"
      ]
     },
     "execution_count": 16,
     "metadata": {},
     "output_type": "execute_result"
    }
   ],
   "source": [
    "t2.index(20)  # Find the index of the first occurrence of 20 in tuple t2"
   ]
  },
  {
   "cell_type": "code",
   "execution_count": null,
   "id": "562c78c1",
   "metadata": {},
   "outputs": [],
   "source": []
  },
  {
   "cell_type": "markdown",
   "id": "dd85a89d",
   "metadata": {},
   "source": [
    "# list\n",
    "- mutable\n",
    "- duplicate is allowed\n",
    "- append(), copy(), insert(), extend(), pop()\n",
    "- remove the element\n",
    "- list is growable\n",
    "- multiple data type in a list\n",
    "- indexing & slicing is allowed\n",
    "\n",
    "# Tuple\n",
    "- immutable ( unchangeable)\n",
    "- duplication is allowed\n",
    "- remove is not allowed\n",
    "- only 2 functions will work (.index, .count)\n"
   ]
  },
  {
   "cell_type": "markdown",
   "id": "835db7cc",
   "metadata": {},
   "source": [
    "# Set"
   ]
  },
  {
   "cell_type": "code",
   "execution_count": 17,
   "id": "171d53dc",
   "metadata": {},
   "outputs": [
    {
     "data": {
      "text/plain": [
       "dict"
      ]
     },
     "execution_count": 17,
     "metadata": {},
     "output_type": "execute_result"
    }
   ],
   "source": [
    "s={}\n",
    "type(s) # This will show that s is a dictionary,because {} creates an empty dictionary by default"
   ]
  },
  {
   "cell_type": "code",
   "execution_count": 18,
   "id": "b77d81d5",
   "metadata": {},
   "outputs": [
    {
     "name": "stdout",
     "output_type": "stream",
     "text": [
      "set()\n"
     ]
    },
    {
     "data": {
      "text/plain": [
       "set"
      ]
     },
     "execution_count": 18,
     "metadata": {},
     "output_type": "execute_result"
    }
   ],
   "source": [
    "s=set()    # empty set will be declared as set\n",
    "print(s)  # print s\n",
    "type(s)  # Print the type of s"
   ]
  },
  {
   "cell_type": "code",
   "execution_count": 19,
   "id": "9bae3049",
   "metadata": {},
   "outputs": [
    {
     "name": "stdout",
     "output_type": "stream",
     "text": [
      "set()\n"
     ]
    },
    {
     "data": {
      "text/plain": [
       "set"
      ]
     },
     "execution_count": 19,
     "metadata": {},
     "output_type": "execute_result"
    }
   ],
   "source": [
    "S=set()    # empty set will be declared as set\n",
    "print(S)  # print s\n",
    "type(S)  # Print the type of s"
   ]
  },
  {
   "cell_type": "code",
   "execution_count": 20,
   "id": "54e510a8",
   "metadata": {},
   "outputs": [
    {
     "name": "stdout",
     "output_type": "stream",
     "text": [
      "{50, 20, 40, 10, 30}\n"
     ]
    },
    {
     "data": {
      "text/plain": [
       "{10, 20, 30, 40, 50}"
      ]
     },
     "execution_count": 20,
     "metadata": {},
     "output_type": "execute_result"
    }
   ],
   "source": [
    "s1={10,20,30,40,50,20,30,50}    # Declare a set\n",
    "print(s1)  # Print s1, duplicates are not allowed in set and will be removed\n",
    "s1\n"
   ]
  },
  {
   "cell_type": "code",
   "execution_count": 21,
   "id": "d572e03e",
   "metadata": {},
   "outputs": [
    {
     "data": {
      "text/plain": [
       "set"
      ]
     },
     "execution_count": 21,
     "metadata": {},
     "output_type": "execute_result"
    }
   ],
   "source": [
    "type(s1)   # Print the type of s1"
   ]
  },
  {
   "cell_type": "code",
   "execution_count": 22,
   "id": "f810ee40",
   "metadata": {},
   "outputs": [
    {
     "data": {
      "text/plain": [
       "{30, 50, 60, 90, 110}"
      ]
     },
     "execution_count": 22,
     "metadata": {},
     "output_type": "execute_result"
    }
   ],
   "source": [
    "s2={110,30,60,90,50}\n",
    "s2"
   ]
  },
  {
   "cell_type": "code",
   "execution_count": 23,
   "id": "daf64e2d",
   "metadata": {},
   "outputs": [
    {
     "data": {
      "text/plain": [
       "set"
      ]
     },
     "execution_count": 23,
     "metadata": {},
     "output_type": "execute_result"
    }
   ],
   "source": [
    "type(s2)"
   ]
  },
  {
   "cell_type": "code",
   "execution_count": 24,
   "id": "f79e66e5",
   "metadata": {},
   "outputs": [],
   "source": [
    "s3=s1.copy()   # Copy set s1 to s3"
   ]
  },
  {
   "cell_type": "code",
   "execution_count": 25,
   "id": "9dbfe6da",
   "metadata": {},
   "outputs": [
    {
     "name": "stdout",
     "output_type": "stream",
     "text": [
      "{50, 20, 40, 10, 30}\n"
     ]
    }
   ],
   "source": [
    "print(s3)   # Print s3"
   ]
  },
  {
   "cell_type": "code",
   "execution_count": 26,
   "id": "31087a80",
   "metadata": {},
   "outputs": [
    {
     "name": "stdout",
     "output_type": "stream",
     "text": [
      "{50, 20, 40, 10, 60, 30}\n"
     ]
    }
   ],
   "source": [
    "s3.add(60)   # Add element 60 to set s3\n",
    "print(s3)   # Print s3"
   ]
  },
  {
   "cell_type": "code",
   "execution_count": 27,
   "id": "bbc382fe",
   "metadata": {},
   "outputs": [
    {
     "name": "stdout",
     "output_type": "stream",
     "text": [
      "{2.25, (1+2j), 10, 20, 90, 30, 40, 50, 'hello', 60}\n"
     ]
    },
    {
     "data": {
      "text/plain": [
       "{(1+2j), 10, 2.25, 20, 30, 40, 50, 60, 90, 'hello'}"
      ]
     },
     "execution_count": 27,
     "metadata": {},
     "output_type": "execute_result"
    }
   ],
   "source": [
    "s3.add(90)   # Add element 90 to set s3\n",
    "s3.add('hello')   # Add element 'hello' to set s3\n",
    "s3.add(2.25)   # Add element 2.25 to set s3\n",
    "s3.add((1+2j))   # Add element (1+2j) to set s3\n",
    "print(s3)   # Print s3\n",
    "s3"
   ]
  },
  {
   "cell_type": "code",
   "execution_count": 95,
   "id": "0e48e0fb",
   "metadata": {},
   "outputs": [
    {
     "name": "stdout",
     "output_type": "stream",
     "text": [
      "(1+2j)\n",
      "10\n",
      "90\n",
      "40\n",
      "50\n",
      "hello\n",
      "60\n"
     ]
    }
   ],
   "source": [
    "for i in s3:\n",
    "    print(i)"
   ]
  },
  {
   "cell_type": "code",
   "execution_count": 98,
   "id": "59d3b460",
   "metadata": {},
   "outputs": [
    {
     "name": "stdout",
     "output_type": "stream",
     "text": [
      "(0, (1+2j))\n",
      "(1, 10)\n",
      "(2, 90)\n",
      "(3, 40)\n",
      "(4, 50)\n",
      "(5, 'hello')\n",
      "(6, 60)\n"
     ]
    }
   ],
   "source": [
    "for i in enumerate(s3):\n",
    "    print(i)"
   ]
  },
  {
   "cell_type": "markdown",
   "id": "3ec7e608",
   "metadata": {},
   "source": [
    "Set membership"
   ]
  },
  {
   "cell_type": "code",
   "execution_count": 100,
   "id": "7e5c9e98",
   "metadata": {},
   "outputs": [
    {
     "name": "stdout",
     "output_type": "stream",
     "text": [
      "{(1+2j), 10, 90, 40, 50, 'hello', 60}\n"
     ]
    }
   ],
   "source": [
    "print(s3)"
   ]
  },
  {
   "cell_type": "code",
   "execution_count": null,
   "id": "4c5d3fe8",
   "metadata": {},
   "outputs": [
    {
     "data": {
      "text/plain": [
       "True"
      ]
     },
     "execution_count": 101,
     "metadata": {},
     "output_type": "execute_result"
    }
   ],
   "source": [
    "'hello' in s3   # Check if hello is in s3"
   ]
  },
  {
   "cell_type": "code",
   "execution_count": null,
   "id": "06437d18",
   "metadata": {},
   "outputs": [
    {
     "data": {
      "text/plain": [
       "False"
      ]
     },
     "execution_count": 102,
     "metadata": {},
     "output_type": "execute_result"
    }
   ],
   "source": [
    "100 in s3       # Check if 100 is in s3"
   ]
  },
  {
   "cell_type": "code",
   "execution_count": 105,
   "id": "f3c3d3ce",
   "metadata": {},
   "outputs": [
    {
     "name": "stdout",
     "output_type": "stream",
     "text": [
      "hello is present in the set\n"
     ]
    }
   ],
   "source": [
    "if 'hello' in s3:                       # Check if 'hello' exist in the set\n",
    "    print('hello is present in the set')\n",
    "else:\n",
    "    print('hello is not present in the set')"
   ]
  },
  {
   "cell_type": "markdown",
   "id": "77e19c61",
   "metadata": {},
   "source": [
    "Add & Remove items"
   ]
  },
  {
   "cell_type": "code",
   "execution_count": 120,
   "id": "83c1c37b",
   "metadata": {},
   "outputs": [],
   "source": [
    "S1={'one','two',10,25,12,30,(1+2j),4.66}"
   ]
  },
  {
   "cell_type": "code",
   "execution_count": 121,
   "id": "a38aa32c",
   "metadata": {},
   "outputs": [
    {
     "name": "stdout",
     "output_type": "stream",
     "text": [
      "{4.66, (1+2j), 10, 12, 'two', 'one', 25, 30}\n"
     ]
    }
   ],
   "source": [
    "print(S1)"
   ]
  },
  {
   "cell_type": "code",
   "execution_count": 122,
   "id": "40288d61",
   "metadata": {},
   "outputs": [
    {
     "data": {
      "text/plain": [
       "{(1+2j), 10, 12, 25, 30, 4.66, 'eleven', 'one', 'ten', 'twelve', 'two'}"
      ]
     },
     "execution_count": 122,
     "metadata": {},
     "output_type": "execute_result"
    }
   ],
   "source": [
    "S1.update(['ten','eleven','twelve'])        # Add multiple items to a set using update\n",
    "S1"
   ]
  },
  {
   "cell_type": "code",
   "execution_count": 123,
   "id": "fc41cc4f",
   "metadata": {},
   "outputs": [
    {
     "name": "stdout",
     "output_type": "stream",
     "text": [
      "{'twelve', 4.66, (1+2j), 12, 'eleven', 'two', 'ten', 'one', 25, 30}\n"
     ]
    }
   ],
   "source": [
    "S1.remove(10)   # Remove element 10 from set s1\n",
    "print(S1)       # Print s1"
   ]
  },
  {
   "cell_type": "code",
   "execution_count": 124,
   "id": "c335c6da",
   "metadata": {},
   "outputs": [
    {
     "ename": "KeyError",
     "evalue": "100",
     "output_type": "error",
     "traceback": [
      "\u001b[31m---------------------------------------------------------------------------\u001b[39m",
      "\u001b[31mKeyError\u001b[39m                                  Traceback (most recent call last)",
      "\u001b[36mCell\u001b[39m\u001b[36m \u001b[39m\u001b[32mIn[124]\u001b[39m\u001b[32m, line 1\u001b[39m\n\u001b[32m----> \u001b[39m\u001b[32m1\u001b[39m \u001b[43mS1\u001b[49m\u001b[43m.\u001b[49m\u001b[43mremove\u001b[49m\u001b[43m(\u001b[49m\u001b[32;43m100\u001b[39;49m\u001b[43m)\u001b[49m   \u001b[38;5;66;03m# This will raise a KeyError because 100 is not in the set\u001b[39;00m\n\u001b[32m      2\u001b[39m \u001b[38;5;28mprint\u001b[39m(S1)        \u001b[38;5;66;03m# Print S1\u001b[39;00m\n",
      "\u001b[31mKeyError\u001b[39m: 100"
     ]
    }
   ],
   "source": [
    "S1.remove(100)   # This will raise a KeyError because 100 is not in the set\n",
    "print(S1)        # Print S1"
   ]
  },
  {
   "cell_type": "code",
   "execution_count": 125,
   "id": "0e9318e5",
   "metadata": {},
   "outputs": [
    {
     "name": "stdout",
     "output_type": "stream",
     "text": [
      "{'twelve', 4.66, (1+2j), 12, 'eleven', 'two', 'ten', 'one', 25}\n"
     ]
    }
   ],
   "source": [
    "S1.discard(30)   # Remove element 30 from set S1\n",
    "print(S1)   # Print S1"
   ]
  },
  {
   "cell_type": "code",
   "execution_count": 126,
   "id": "a32aa6f0",
   "metadata": {},
   "outputs": [
    {
     "name": "stdout",
     "output_type": "stream",
     "text": [
      "{'twelve', 4.66, (1+2j), 12, 'eleven', 'two', 'ten', 'one', 25}\n"
     ]
    }
   ],
   "source": [
    "S1.discard(1000)   # This will not raise an error even though 1000 is not in the set\n",
    "print(S1)      # Print S1"
   ]
  },
  {
   "cell_type": "code",
   "execution_count": 127,
   "id": "59d17fb8",
   "metadata": {},
   "outputs": [
    {
     "name": "stdout",
     "output_type": "stream",
     "text": [
      "{4.66, (1+2j), 12, 'eleven', 'two', 'ten', 'one', 25}\n"
     ]
    }
   ],
   "source": [
    "S1.pop()  # Remove and return an arbitrary element from the set S1\n",
    "print(S1)  # Print S1"
   ]
  },
  {
   "cell_type": "code",
   "execution_count": 128,
   "id": "f2839767",
   "metadata": {},
   "outputs": [
    {
     "ename": "TypeError",
     "evalue": "set.pop() takes no arguments (1 given)",
     "output_type": "error",
     "traceback": [
      "\u001b[31m---------------------------------------------------------------------------\u001b[39m",
      "\u001b[31mTypeError\u001b[39m                                 Traceback (most recent call last)",
      "\u001b[36mCell\u001b[39m\u001b[36m \u001b[39m\u001b[32mIn[128]\u001b[39m\u001b[32m, line 1\u001b[39m\n\u001b[32m----> \u001b[39m\u001b[32m1\u001b[39m \u001b[43mS1\u001b[49m\u001b[43m.\u001b[49m\u001b[43mpop\u001b[49m\u001b[43m(\u001b[49m\u001b[32;43m1\u001b[39;49m\u001b[43m)\u001b[49m  \u001b[38;5;66;03m# This will raise a TypeError because 'pop' does not take any arguments\u001b[39;00m\n\u001b[32m      2\u001b[39m \u001b[38;5;28mprint\u001b[39m(S1)  \u001b[38;5;66;03m# Print S1\u001b[39;00m\n",
      "\u001b[31mTypeError\u001b[39m: set.pop() takes no arguments (1 given)"
     ]
    }
   ],
   "source": [
    "S1.pop(1)  # This will raise a TypeError because 'pop' does not take any arguments\n",
    "print(S1)  # Print S1"
   ]
  },
  {
   "cell_type": "code",
   "execution_count": null,
   "id": "7b4ce802",
   "metadata": {},
   "outputs": [],
   "source": [
    "S1.clear()      # Delete all items in set S1"
   ]
  },
  {
   "cell_type": "code",
   "execution_count": 131,
   "id": "89665970",
   "metadata": {},
   "outputs": [
    {
     "data": {
      "text/plain": [
       "set()"
      ]
     },
     "execution_count": 131,
     "metadata": {},
     "output_type": "execute_result"
    }
   ],
   "source": [
    "S1"
   ]
  },
  {
   "cell_type": "code",
   "execution_count": 133,
   "id": "26cfdce1",
   "metadata": {},
   "outputs": [
    {
     "ename": "NameError",
     "evalue": "name 'S1' is not defined",
     "output_type": "error",
     "traceback": [
      "\u001b[31m---------------------------------------------------------------------------\u001b[39m",
      "\u001b[31mNameError\u001b[39m                                 Traceback (most recent call last)",
      "\u001b[36mCell\u001b[39m\u001b[36m \u001b[39m\u001b[32mIn[133]\u001b[39m\u001b[32m, line 1\u001b[39m\n\u001b[32m----> \u001b[39m\u001b[32m1\u001b[39m \u001b[38;5;28;01mdel\u001b[39;00m \u001b[43mS1\u001b[49m      \u001b[38;5;66;03m# Delete the set S1\u001b[39;00m\n\u001b[32m      2\u001b[39m S1\n",
      "\u001b[31mNameError\u001b[39m: name 'S1' is not defined"
     ]
    }
   ],
   "source": [
    "del S1      # Delete the set S1\n",
    "S1"
   ]
  },
  {
   "cell_type": "markdown",
   "id": "1f7a1810",
   "metadata": {},
   "source": [
    "Copy"
   ]
  },
  {
   "cell_type": "code",
   "execution_count": 134,
   "id": "c40d0d3b",
   "metadata": {},
   "outputs": [
    {
     "data": {
      "text/plain": [
       "{'eight', 'five', 'four', 'one', 'seven', 'six', 'three', 'two'}"
      ]
     },
     "execution_count": 134,
     "metadata": {},
     "output_type": "execute_result"
    }
   ],
   "source": [
    "myset = {'one', 'two', 'three', 'four', 'five', 'six', 'seven', 'eight'}\n",
    "myset"
   ]
  },
  {
   "cell_type": "code",
   "execution_count": 135,
   "id": "a029adc0",
   "metadata": {},
   "outputs": [
    {
     "data": {
      "text/plain": [
       "{'eight', 'five', 'four', 'one', 'seven', 'six', 'three', 'two'}"
      ]
     },
     "execution_count": 135,
     "metadata": {},
     "output_type": "execute_result"
    }
   ],
   "source": [
    "myset1 = myset # Create a new reference \"myset1\"\n",
    "myset1"
   ]
  },
  {
   "cell_type": "code",
   "execution_count": 139,
   "id": "32b33946",
   "metadata": {},
   "outputs": [
    {
     "data": {
      "text/plain": [
       "(2395902364128, 2395902364128)"
      ]
     },
     "execution_count": 139,
     "metadata": {},
     "output_type": "execute_result"
    }
   ],
   "source": [
    "id(myset) , id(myset1) # The address of both myset & myset1 will be the same as both are containing same values"
   ]
  },
  {
   "cell_type": "code",
   "execution_count": 137,
   "id": "d863fc1a",
   "metadata": {},
   "outputs": [
    {
     "data": {
      "text/plain": [
       "{'eight', 'five', 'four', 'one', 'seven', 'six', 'three', 'two'}"
      ]
     },
     "execution_count": 137,
     "metadata": {},
     "output_type": "execute_result"
    }
   ],
   "source": [
    "my_set = myset.copy() # Create a copy of the list\n",
    "my_set\n"
   ]
  },
  {
   "cell_type": "code",
   "execution_count": 138,
   "id": "171dec01",
   "metadata": {},
   "outputs": [
    {
     "data": {
      "text/plain": [
       "2395902370400"
      ]
     },
     "execution_count": 138,
     "metadata": {},
     "output_type": "execute_result"
    }
   ],
   "source": [
    "id(my_set) # The address of my_set will be different from myset because my_set i"
   ]
  },
  {
   "cell_type": "code",
   "execution_count": 140,
   "id": "44f04d2e",
   "metadata": {},
   "outputs": [
    {
     "data": {
      "text/plain": [
       "{'eight', 'five', 'four', 'nine', 'one', 'seven', 'six', 'three', 'two'}"
      ]
     },
     "execution_count": 140,
     "metadata": {},
     "output_type": "execute_result"
    }
   ],
   "source": [
    "myset.add('nine')\n",
    "myset"
   ]
  },
  {
   "cell_type": "code",
   "execution_count": null,
   "id": "be117cdb",
   "metadata": {},
   "outputs": [
    {
     "data": {
      "text/plain": [
       "{'eight', 'five', 'four', 'nine', 'one', 'seven', 'six', 'three', 'two'}"
      ]
     },
     "execution_count": 141,
     "metadata": {},
     "output_type": "execute_result"
    }
   ],
   "source": [
    "myset1 # myset1 will be also impacted as it is pointing to the same Set myset values modified in myset will be reflected to myset1\n"
   ]
  },
  {
   "cell_type": "code",
   "execution_count": null,
   "id": "dc76b9b5",
   "metadata": {},
   "outputs": [
    {
     "data": {
      "text/plain": [
       "{'eight', 'five', 'four', 'one', 'seven', 'six', 'three', 'two'}"
      ]
     },
     "execution_count": 142,
     "metadata": {},
     "output_type": "execute_result"
    }
   ],
   "source": [
    "my_set # Copy of the set won't be impacted due to changes made on the original Set\n"
   ]
  },
  {
   "cell_type": "code",
   "execution_count": null,
   "id": "c7593ed8",
   "metadata": {},
   "outputs": [],
   "source": []
  },
  {
   "cell_type": "markdown",
   "id": "a64bad92",
   "metadata": {},
   "source": [
    "Set Membership"
   ]
  },
  {
   "cell_type": "code",
   "execution_count": 129,
   "id": "e707f456",
   "metadata": {},
   "outputs": [
    {
     "data": {
      "text/plain": [
       "{(1+2j), 10, 40, 50, 60, 90, 'hello'}"
      ]
     },
     "execution_count": 129,
     "metadata": {},
     "output_type": "execute_result"
    }
   ],
   "source": [
    "s3"
   ]
  },
  {
   "cell_type": "code",
   "execution_count": 34,
   "id": "fd4b7569",
   "metadata": {},
   "outputs": [
    {
     "data": {
      "text/plain": [
       "True"
      ]
     },
     "execution_count": 34,
     "metadata": {},
     "output_type": "execute_result"
    }
   ],
   "source": [
    "90 in s3   # Check if 90 is an element of set s3"
   ]
  },
  {
   "cell_type": "code",
   "execution_count": 35,
   "id": "bea1db5c",
   "metadata": {},
   "outputs": [
    {
     "data": {
      "text/plain": [
       "False"
      ]
     },
     "execution_count": 35,
     "metadata": {},
     "output_type": "execute_result"
    }
   ],
   "source": [
    "100 in s3   # Check if 100 is an element of set s3"
   ]
  },
  {
   "cell_type": "code",
   "execution_count": null,
   "id": "0fae237e",
   "metadata": {},
   "outputs": [
    {
     "ename": "TypeError",
     "evalue": "'set' object is not subscriptable",
     "output_type": "error",
     "traceback": [
      "\u001b[31m---------------------------------------------------------------------------\u001b[39m",
      "\u001b[31mTypeError\u001b[39m                                 Traceback (most recent call last)",
      "\u001b[36mCell\u001b[39m\u001b[36m \u001b[39m\u001b[32mIn[37]\u001b[39m\u001b[32m, line 1\u001b[39m\n\u001b[32m----> \u001b[39m\u001b[32m1\u001b[39m \u001b[43ms3\u001b[49m\u001b[43m[\u001b[49m\u001b[43m:\u001b[49m\u001b[43m]\u001b[49m  \u001b[38;5;66;03m# This will raise a TypeError because sets do not support slicing\u001b[39;00m\n",
      "\u001b[31mTypeError\u001b[39m: 'set' object is not subscriptable"
     ]
    }
   ],
   "source": [
    "s3[:]  # This will raise a TypeError because sets do not support slicing"
   ]
  },
  {
   "cell_type": "code",
   "execution_count": null,
   "id": "7f89a4e9",
   "metadata": {},
   "outputs": [
    {
     "ename": "TypeError",
     "evalue": "'set' object is not subscriptable",
     "output_type": "error",
     "traceback": [
      "\u001b[31m---------------------------------------------------------------------------\u001b[39m",
      "\u001b[31mTypeError\u001b[39m                                 Traceback (most recent call last)",
      "\u001b[36mCell\u001b[39m\u001b[36m \u001b[39m\u001b[32mIn[36]\u001b[39m\u001b[32m, line 1\u001b[39m\n\u001b[32m----> \u001b[39m\u001b[32m1\u001b[39m \u001b[43ms3\u001b[49m\u001b[43m[\u001b[49m\u001b[32;43m1\u001b[39;49m\u001b[43m]\u001b[49m  \u001b[38;5;66;03m# This will raise a TypeError because sets are unordered and do not support indexing\u001b[39;00m\n",
      "\u001b[31mTypeError\u001b[39m: 'set' object is not subscriptable"
     ]
    }
   ],
   "source": [
    "s3[1]  # This will raise a TypeError because sets are unordered and do not support indexing"
   ]
  },
  {
   "cell_type": "markdown",
   "id": "1694f28e",
   "metadata": {},
   "source": [
    "# Set Operations"
   ]
  },
  {
   "cell_type": "markdown",
   "id": "eb2a7d98",
   "metadata": {},
   "source": [
    "- Union"
   ]
  },
  {
   "cell_type": "code",
   "execution_count": 36,
   "id": "9e3cb24a",
   "metadata": {},
   "outputs": [],
   "source": [
    "a={1,2,3,4,5}\n",
    "b={4,5,6,7,8}\n",
    "c={8,9,10}"
   ]
  },
  {
   "cell_type": "code",
   "execution_count": 37,
   "id": "89adb017",
   "metadata": {},
   "outputs": [
    {
     "data": {
      "text/plain": [
       "(set, set, set)"
      ]
     },
     "execution_count": 37,
     "metadata": {},
     "output_type": "execute_result"
    }
   ],
   "source": [
    "    type(a), type(b), type(c)"
   ]
  },
  {
   "cell_type": "code",
   "execution_count": 38,
   "id": "22ca0162",
   "metadata": {},
   "outputs": [
    {
     "name": "stdout",
     "output_type": "stream",
     "text": [
      "{1, 2, 3, 4, 5, 6, 7, 8}\n"
     ]
    }
   ],
   "source": [
    "u=a.union(b)   # Union of sets a and b\n",
    "print(u)   # Print the union set u"
   ]
  },
  {
   "cell_type": "code",
   "execution_count": 39,
   "id": "7992a67f",
   "metadata": {},
   "outputs": [
    {
     "name": "stdout",
     "output_type": "stream",
     "text": [
      "{1, 2, 3, 4, 5, 6, 7, 8, 9, 10}\n"
     ]
    }
   ],
   "source": [
    "u=a.union(b,c)   # Union of sets a, b, and c\n",
    "print(u)   # Print the union set u"
   ]
  },
  {
   "cell_type": "code",
   "execution_count": 40,
   "id": "6fd5a565",
   "metadata": {},
   "outputs": [
    {
     "name": "stdout",
     "output_type": "stream",
     "text": [
      "a: {1, 2, 3, 4, 5}\n",
      "b: {4, 5, 6, 7, 8}\n",
      "c: {8, 9, 10}\n"
     ]
    }
   ],
   "source": [
    "print('a:', a)\n",
    "print('b:', b)\n",
    "print('c:', c)"
   ]
  },
  {
   "cell_type": "code",
   "execution_count": 41,
   "id": "5ca59206",
   "metadata": {},
   "outputs": [
    {
     "data": {
      "text/plain": [
       "{1, 2, 3, 4, 5, 6, 7, 8}"
      ]
     },
     "execution_count": 41,
     "metadata": {},
     "output_type": "execute_result"
    }
   ],
   "source": [
    "a|b   # Union of sets a and b"
   ]
  },
  {
   "cell_type": "code",
   "execution_count": 42,
   "id": "86782586",
   "metadata": {},
   "outputs": [
    {
     "data": {
      "text/plain": [
       "{4, 5, 6, 7, 8, 9, 10}"
      ]
     },
     "execution_count": 42,
     "metadata": {},
     "output_type": "execute_result"
    }
   ],
   "source": [
    "b|c   # Union of sets b and c"
   ]
  },
  {
   "cell_type": "code",
   "execution_count": 43,
   "id": "ad37b566",
   "metadata": {},
   "outputs": [
    {
     "data": {
      "text/plain": [
       "{1, 2, 3, 4, 5, 6, 7, 8, 9, 10}"
      ]
     },
     "execution_count": 43,
     "metadata": {},
     "output_type": "execute_result"
    }
   ],
   "source": [
    "a|b|c   # Union of sets a, b, and c"
   ]
  },
  {
   "cell_type": "code",
   "execution_count": 44,
   "id": "575a4fe2",
   "metadata": {},
   "outputs": [
    {
     "data": {
      "text/plain": [
       "{1, 2, 3, 4, 5, 8, 9, 10}"
      ]
     },
     "execution_count": 44,
     "metadata": {},
     "output_type": "execute_result"
    }
   ],
   "source": [
    "a|c     # Union of sets a and c"
   ]
  },
  {
   "cell_type": "code",
   "execution_count": 45,
   "id": "2e1b235a",
   "metadata": {},
   "outputs": [
    {
     "data": {
      "text/plain": [
       "{4, 5, 6, 7, 8, 9, 10}"
      ]
     },
     "execution_count": 45,
     "metadata": {},
     "output_type": "execute_result"
    }
   ],
   "source": [
    "b|c  # Union of sets b and c"
   ]
  },
  {
   "cell_type": "code",
   "execution_count": 46,
   "id": "a6c0bdbf",
   "metadata": {},
   "outputs": [
    {
     "data": {
      "text/plain": [
       "{1, 2, 3, 4, 5, 6, 7, 8, 9, 10}"
      ]
     },
     "execution_count": 46,
     "metadata": {},
     "output_type": "execute_result"
    }
   ],
   "source": [
    "a|c|b   # Union of sets a, c, and b"
   ]
  },
  {
   "cell_type": "markdown",
   "id": "df6e1ce1",
   "metadata": {},
   "source": [
    "- Intersection"
   ]
  },
  {
   "cell_type": "code",
   "execution_count": 47,
   "id": "a8b3e984",
   "metadata": {},
   "outputs": [
    {
     "name": "stdout",
     "output_type": "stream",
     "text": [
      "a: {1, 2, 3, 4, 5}\n",
      "b: {4, 5, 6, 7, 8}\n",
      "c: {8, 9, 10}\n"
     ]
    }
   ],
   "source": [
    "print('a:', a)\n",
    "print('b:', b)\n",
    "print('c:', c)"
   ]
  },
  {
   "cell_type": "code",
   "execution_count": 48,
   "id": "16587fad",
   "metadata": {},
   "outputs": [
    {
     "name": "stdout",
     "output_type": "stream",
     "text": [
      "i: {4, 5}\n"
     ]
    }
   ],
   "source": [
    "i=a.intersection(b)   # Intersection of sets a and b\n",
    "print('i:', i)"
   ]
  },
  {
   "cell_type": "code",
   "execution_count": 49,
   "id": "cb021abd",
   "metadata": {},
   "outputs": [
    {
     "name": "stdout",
     "output_type": "stream",
     "text": [
      "i: {8}\n"
     ]
    }
   ],
   "source": [
    "i=b.intersection(c)   # Intersection of sets b and c\n",
    "print('i:', i)"
   ]
  },
  {
   "cell_type": "code",
   "execution_count": 50,
   "id": "d5e135c7",
   "metadata": {},
   "outputs": [
    {
     "data": {
      "text/plain": [
       "{4, 5}"
      ]
     },
     "execution_count": 50,
     "metadata": {},
     "output_type": "execute_result"
    }
   ],
   "source": [
    "a & b   # Intersection of sets a and b"
   ]
  },
  {
   "cell_type": "code",
   "execution_count": 51,
   "id": "2201c7d7",
   "metadata": {},
   "outputs": [
    {
     "data": {
      "text/plain": [
       "{8}"
      ]
     },
     "execution_count": 51,
     "metadata": {},
     "output_type": "execute_result"
    }
   ],
   "source": [
    "b & c   # Intersection of sets b and c"
   ]
  },
  {
   "cell_type": "code",
   "execution_count": 52,
   "id": "23eabfac",
   "metadata": {},
   "outputs": [
    {
     "data": {
      "text/plain": [
       "set()"
      ]
     },
     "execution_count": 52,
     "metadata": {},
     "output_type": "execute_result"
    }
   ],
   "source": [
    "a & b & c   # Intersection of sets a, b, and c"
   ]
  },
  {
   "cell_type": "code",
   "execution_count": 53,
   "id": "db2e8f06",
   "metadata": {},
   "outputs": [
    {
     "data": {
      "text/plain": [
       "set()"
      ]
     },
     "execution_count": 53,
     "metadata": {},
     "output_type": "execute_result"
    }
   ],
   "source": [
    "a & c   # Intersection of sets a and c"
   ]
  },
  {
   "cell_type": "markdown",
   "id": "14a6132a",
   "metadata": {},
   "source": [
    "- Difference"
   ]
  },
  {
   "cell_type": "code",
   "execution_count": 54,
   "id": "a2bc3aa6",
   "metadata": {},
   "outputs": [
    {
     "name": "stdout",
     "output_type": "stream",
     "text": [
      "a: {1, 2, 3, 4, 5}\n",
      "b: {4, 5, 6, 7, 8}\n",
      "c: {8, 9, 10}\n"
     ]
    }
   ],
   "source": [
    "print('a:', a)\n",
    "print('b:', b)\n",
    "print('c:', c)"
   ]
  },
  {
   "cell_type": "code",
   "execution_count": 55,
   "id": "2c145900",
   "metadata": {},
   "outputs": [
    {
     "data": {
      "text/plain": [
       "{1, 2, 3}"
      ]
     },
     "execution_count": 55,
     "metadata": {},
     "output_type": "execute_result"
    }
   ],
   "source": [
    "a.difference(b)   # Difference of sets a and b \n",
    "# Difference will only print elements present in a but not in b"
   ]
  },
  {
   "cell_type": "code",
   "execution_count": 56,
   "id": "ef691472",
   "metadata": {},
   "outputs": [
    {
     "data": {
      "text/plain": [
       "{6, 7, 8}"
      ]
     },
     "execution_count": 56,
     "metadata": {},
     "output_type": "execute_result"
    }
   ],
   "source": [
    "b.difference(a)   # Difference of sets b and a\n",
    "# Difference will only print elements present in b but not in a"
   ]
  },
  {
   "cell_type": "code",
   "execution_count": 57,
   "id": "10331303",
   "metadata": {},
   "outputs": [
    {
     "data": {
      "text/plain": [
       "{4, 5, 6, 7}"
      ]
     },
     "execution_count": 57,
     "metadata": {},
     "output_type": "execute_result"
    }
   ],
   "source": [
    "b.difference(c)   # Difference of sets b and c"
   ]
  },
  {
   "cell_type": "code",
   "execution_count": 58,
   "id": "bfa7d590",
   "metadata": {},
   "outputs": [
    {
     "data": {
      "text/plain": [
       "{1, 2, 3, 4, 5}"
      ]
     },
     "execution_count": 58,
     "metadata": {},
     "output_type": "execute_result"
    }
   ],
   "source": [
    "a.difference(c)   # Difference of sets a and c"
   ]
  },
  {
   "cell_type": "code",
   "execution_count": 59,
   "id": "f6e377c9",
   "metadata": {},
   "outputs": [
    {
     "data": {
      "text/plain": [
       "{4, 5, 6, 7}"
      ]
     },
     "execution_count": 59,
     "metadata": {},
     "output_type": "execute_result"
    }
   ],
   "source": [
    "b - c   # Difference of sets b and c"
   ]
  },
  {
   "cell_type": "code",
   "execution_count": 60,
   "id": "29e59d90",
   "metadata": {},
   "outputs": [
    {
     "data": {
      "text/plain": [
       "{8, 9, 10}"
      ]
     },
     "execution_count": 60,
     "metadata": {},
     "output_type": "execute_result"
    }
   ],
   "source": [
    "c - a   # Difference of sets c and a"
   ]
  },
  {
   "cell_type": "code",
   "execution_count": 61,
   "id": "716b10b4",
   "metadata": {},
   "outputs": [
    {
     "data": {
      "text/plain": [
       "{1, 2, 3}"
      ]
     },
     "execution_count": 61,
     "metadata": {},
     "output_type": "execute_result"
    }
   ],
   "source": [
    "a-b-c   # Difference of sets a, b and c"
   ]
  },
  {
   "cell_type": "code",
   "execution_count": 62,
   "id": "3afda3cf",
   "metadata": {},
   "outputs": [
    {
     "data": {
      "text/plain": [
       "{9, 10}"
      ]
     },
     "execution_count": 62,
     "metadata": {},
     "output_type": "execute_result"
    }
   ],
   "source": [
    "c-a-b   # Difference of sets c, a and b"
   ]
  },
  {
   "cell_type": "markdown",
   "id": "40107ef3",
   "metadata": {},
   "source": [
    "Symmetric difference"
   ]
  },
  {
   "cell_type": "code",
   "execution_count": 146,
   "id": "dede24ca",
   "metadata": {},
   "outputs": [
    {
     "name": "stdout",
     "output_type": "stream",
     "text": [
      "a: {1, 2, 3, 4, 5}\n",
      "b: {4, 5, 6, 7, 8}\n",
      "c: {8, 9, 10}\n"
     ]
    }
   ],
   "source": [
    "print('a:', a)\n",
    "print('b:', b)\n",
    "print('c:', c)"
   ]
  },
  {
   "cell_type": "code",
   "execution_count": 147,
   "id": "2c7db023",
   "metadata": {},
   "outputs": [
    {
     "data": {
      "text/plain": [
       "{1, 2, 3, 6, 7, 8}"
      ]
     },
     "execution_count": 147,
     "metadata": {},
     "output_type": "execute_result"
    }
   ],
   "source": [
    "a ^ b   # Symmetric difference of sets a and b\n",
    "# Symmetric difference will print elements present in either a or b but not in both"
   ]
  },
  {
   "cell_type": "code",
   "execution_count": 148,
   "id": "5cfcacb1",
   "metadata": {},
   "outputs": [
    {
     "data": {
      "text/plain": [
       "{1, 2, 3, 4, 5, 8, 9, 10}"
      ]
     },
     "execution_count": 148,
     "metadata": {},
     "output_type": "execute_result"
    }
   ],
   "source": [
    "a ^ c   # Symmetric difference of sets a and c"
   ]
  },
  {
   "cell_type": "code",
   "execution_count": 149,
   "id": "0e8e8d00",
   "metadata": {},
   "outputs": [
    {
     "data": {
      "text/plain": [
       "{1, 2, 3, 6, 7, 8}"
      ]
     },
     "execution_count": 149,
     "metadata": {},
     "output_type": "execute_result"
    }
   ],
   "source": [
    "a.symmetric_difference(b)       # Symmetric difference of sets a and b"
   ]
  },
  {
   "cell_type": "code",
   "execution_count": 150,
   "id": "a3459478",
   "metadata": {},
   "outputs": [
    {
     "data": {
      "text/plain": [
       "{1, 2, 3, 6, 7, 8}"
      ]
     },
     "execution_count": 150,
     "metadata": {},
     "output_type": "execute_result"
    }
   ],
   "source": [
    "a.symmetric_difference_update(b)       # a will be updated with teh symmetric difference of a and b\n",
    "a"
   ]
  },
  {
   "cell_type": "code",
   "execution_count": null,
   "id": "53e31a71",
   "metadata": {},
   "outputs": [],
   "source": []
  },
  {
   "cell_type": "markdown",
   "id": "f5a11b3f",
   "metadata": {},
   "source": [
    "# Superset, Subset, disjoin"
   ]
  },
  {
   "cell_type": "code",
   "execution_count": 66,
   "id": "91da7341",
   "metadata": {},
   "outputs": [],
   "source": [
    "s4={1,2,3,4,5,6,7,8,9,10}\n",
    "s5={5,6,7,8,9,10}\n",
    "s6={11,21,31,41,51}"
   ]
  },
  {
   "cell_type": "code",
   "execution_count": 67,
   "id": "e60207ea",
   "metadata": {},
   "outputs": [
    {
     "data": {
      "text/plain": [
       "False"
      ]
     },
     "execution_count": 67,
     "metadata": {},
     "output_type": "execute_result"
    }
   ],
   "source": [
    "s5.issuperset(s4)   # Check if s5 is a superset of s4\n",
    "# superset will return True if all elements of s4 are present in s5, otherwise False"
   ]
  },
  {
   "cell_type": "code",
   "execution_count": 68,
   "id": "1296df25",
   "metadata": {},
   "outputs": [
    {
     "data": {
      "text/plain": [
       "True"
      ]
     },
     "execution_count": 68,
     "metadata": {},
     "output_type": "execute_result"
    }
   ],
   "source": [
    "s4.issuperset(s5)   # Check if s4 is a superset of s5\n",
    "# superset will return True if all elements of s5 are present in s4, otherwise False"
   ]
  },
  {
   "cell_type": "code",
   "execution_count": 69,
   "id": "e2b96533",
   "metadata": {},
   "outputs": [
    {
     "data": {
      "text/plain": [
       "True"
      ]
     },
     "execution_count": 69,
     "metadata": {},
     "output_type": "execute_result"
    }
   ],
   "source": [
    "s5.issubset(s4)   # Check if s4 is a subset of s5\n",
    "# subset will return True if all elements of s5 are present in s4, otherwise False"
   ]
  },
  {
   "cell_type": "code",
   "execution_count": 70,
   "id": "1fd384c5",
   "metadata": {},
   "outputs": [
    {
     "data": {
      "text/plain": [
       "True"
      ]
     },
     "execution_count": 70,
     "metadata": {},
     "output_type": "execute_result"
    }
   ],
   "source": [
    "s6.isdisjoint(s4)   # Check if s6 is disjoint with s4\n",
    "# disjoint will return True if s6 has no elements in common with s4, otherwise False"
   ]
  },
  {
   "cell_type": "code",
   "execution_count": 71,
   "id": "87b65404",
   "metadata": {},
   "outputs": [],
   "source": [
    "s7={1,2,3,4,5,6,7,8,9,10}\n",
    "s8={15,16,17,18}\n",
    "s9={20,30,40,50}"
   ]
  },
  {
   "cell_type": "code",
   "execution_count": 72,
   "id": "b73d2b08",
   "metadata": {},
   "outputs": [
    {
     "data": {
      "text/plain": [
       "False"
      ]
     },
     "execution_count": 72,
     "metadata": {},
     "output_type": "execute_result"
    }
   ],
   "source": [
    "s7.issuperset(s8)   # Check if s7 is a superset of s8\n",
    "# superset will return True if all elements of s8 are present in s7, otherwise False"
   ]
  },
  {
   "cell_type": "code",
   "execution_count": 73,
   "id": "7f9f688e",
   "metadata": {},
   "outputs": [
    {
     "data": {
      "text/plain": [
       "True"
      ]
     },
     "execution_count": 73,
     "metadata": {},
     "output_type": "execute_result"
    }
   ],
   "source": [
    "s7.isdisjoint(s8)   # Check if s7 is disjoint with s8\n",
    "# disjoint will return True if s7 has no elements in common with s8, otherwise False"
   ]
  },
  {
   "cell_type": "code",
   "execution_count": 74,
   "id": "4499546e",
   "metadata": {},
   "outputs": [
    {
     "data": {
      "text/plain": [
       "False"
      ]
     },
     "execution_count": 74,
     "metadata": {},
     "output_type": "execute_result"
    }
   ],
   "source": [
    "s7.issubset(s9)   # Check if s7 is a subset of s9\n",
    "# subset will return True if all elements of s7 are present in s9, otherwise False"
   ]
  },
  {
   "cell_type": "code",
   "execution_count": null,
   "id": "983be630",
   "metadata": {},
   "outputs": [],
   "source": []
  },
  {
   "cell_type": "code",
   "execution_count": 151,
   "id": "54db1edd",
   "metadata": {},
   "outputs": [
    {
     "data": {
      "text/plain": [
       "{1, 2, 3, 4, 5, 6, 7, 8, 9, 10}"
      ]
     },
     "execution_count": 151,
     "metadata": {},
     "output_type": "execute_result"
    }
   ],
   "source": [
    "s4"
   ]
  },
  {
   "cell_type": "code",
   "execution_count": 152,
   "id": "85e614f5",
   "metadata": {},
   "outputs": [
    {
     "data": {
      "text/plain": [
       "55"
      ]
     },
     "execution_count": 152,
     "metadata": {},
     "output_type": "execute_result"
    }
   ],
   "source": [
    "sum(s4)     # sum of all values of set s4"
   ]
  },
  {
   "cell_type": "code",
   "execution_count": 154,
   "id": "61be675a",
   "metadata": {},
   "outputs": [
    {
     "data": {
      "text/plain": [
       "10"
      ]
     },
     "execution_count": 154,
     "metadata": {},
     "output_type": "execute_result"
    }
   ],
   "source": [
    "max(s4)     # highest value in set s4"
   ]
  },
  {
   "cell_type": "code",
   "execution_count": null,
   "id": "01092927",
   "metadata": {},
   "outputs": [
    {
     "data": {
      "text/plain": [
       "1"
      ]
     },
     "execution_count": 155,
     "metadata": {},
     "output_type": "execute_result"
    }
   ],
   "source": [
    "min(s4) # min value in set s4"
   ]
  },
  {
   "cell_type": "code",
   "execution_count": null,
   "id": "4c7d407f",
   "metadata": {},
   "outputs": [
    {
     "data": {
      "text/plain": [
       "10"
      ]
     },
     "execution_count": 156,
     "metadata": {},
     "output_type": "execute_result"
    }
   ],
   "source": [
    "len(s4)     # Length of set s4"
   ]
  },
  {
   "cell_type": "code",
   "execution_count": null,
   "id": "7a5551a4",
   "metadata": {},
   "outputs": [
    {
     "data": {
      "text/plain": [
       "[(0, 1),\n",
       " (1, 2),\n",
       " (2, 3),\n",
       " (3, 4),\n",
       " (4, 5),\n",
       " (5, 6),\n",
       " (6, 7),\n",
       " (7, 8),\n",
       " (8, 9),\n",
       " (9, 10)]"
      ]
     },
     "execution_count": 157,
     "metadata": {},
     "output_type": "execute_result"
    }
   ],
   "source": [
    "list(enumerate(s4))     # print set with indexes"
   ]
  },
  {
   "cell_type": "code",
   "execution_count": 161,
   "id": "b58481e8",
   "metadata": {},
   "outputs": [
    {
     "data": {
      "text/plain": [
       "[10, 9, 8, 7, 6, 5, 4, 3, 2, 1]"
      ]
     },
     "execution_count": 161,
     "metadata": {},
     "output_type": "execute_result"
    }
   ],
   "source": [
    "D=sorted(s4,reverse=True)       # Sort set A in descending order and copy to D\n",
    "D"
   ]
  },
  {
   "cell_type": "code",
   "execution_count": null,
   "id": "579e5a0e",
   "metadata": {},
   "outputs": [
    {
     "data": {
      "text/plain": [
       "[1, 2, 3, 4, 5, 6, 7, 8, 9, 10]"
      ]
     },
     "execution_count": 160,
     "metadata": {},
     "output_type": "execute_result"
    }
   ],
   "source": [
    "sorted(D)       # Sort D in ascending order"
   ]
  },
  {
   "cell_type": "code",
   "execution_count": null,
   "id": "a304a9e5",
   "metadata": {},
   "outputs": [],
   "source": []
  },
  {
   "cell_type": "markdown",
   "id": "06c8b625",
   "metadata": {},
   "source": [
    "# Dictionary\n",
    "\n",
    "- Dictionary is a collection of key-value pairs\n",
    "- Each key is unique and is used to access its corresponding value\n",
    "- Values can be of any data type and can be duplicated\n",
    "- values are accessed using keys\n",
    "- dictionary is a mutable data structure that allows modification of its contents\n",
    "- Dictionary methods include keys(), values(), items(), get(), pop(), and update()\n",
    "- syntax: d={key1:value1, key2:value2, key3:value3,...}"
   ]
  },
  {
   "cell_type": "code",
   "execution_count": 189,
   "id": "eb328bd4",
   "metadata": {},
   "outputs": [
    {
     "data": {
      "text/plain": [
       "dict"
      ]
     },
     "execution_count": 189,
     "metadata": {},
     "output_type": "execute_result"
    }
   ],
   "source": [
    "d= {}   # Create an empty dictionary\n",
    "type(d)"
   ]
  },
  {
   "cell_type": "code",
   "execution_count": 190,
   "id": "de36abe5",
   "metadata": {},
   "outputs": [
    {
     "data": {
      "text/plain": [
       "{1: 'one', 2: 'two', 3: 'three', 'four': 4}"
      ]
     },
     "execution_count": 190,
     "metadata": {},
     "output_type": "execute_result"
    }
   ],
   "source": [
    "d1 = {1:'one', 2:'two', 3:'three', 'four':4}\n",
    "d1"
   ]
  },
  {
   "cell_type": "code",
   "execution_count": 191,
   "id": "92f4316d",
   "metadata": {},
   "outputs": [
    {
     "data": {
      "text/plain": [
       "{'A': 'one', 'B': 'two', 'C': 'three', 'D': 'four'}"
      ]
     },
     "execution_count": 191,
     "metadata": {},
     "output_type": "execute_result"
    }
   ],
   "source": [
    "D1=dict({'A':'one','B':\"two\",\"C\":\"three\",\"D\":\"four\",})  # Create disctionary using dict function\n",
    "D1"
   ]
  },
  {
   "cell_type": "code",
   "execution_count": 192,
   "id": "d7f2a899",
   "metadata": {},
   "outputs": [
    {
     "data": {
      "text/plain": [
       "{1: 'one', 2: 'two', 3: 'three', 'four': 4}"
      ]
     },
     "execution_count": 192,
     "metadata": {},
     "output_type": "execute_result"
    }
   ],
   "source": [
    "d1"
   ]
  },
  {
   "cell_type": "code",
   "execution_count": 193,
   "id": "f90e032b",
   "metadata": {},
   "outputs": [
    {
     "data": {
      "text/plain": [
       "dict_items([(1, 'one'), (2, 'two'), (3, 'three'), ('four', 4)])"
      ]
     },
     "execution_count": 193,
     "metadata": {},
     "output_type": "execute_result"
    }
   ],
   "source": [
    "d1.items()   # Get all key-value pairs in dictionary d1 as a list of tuples"
   ]
  },
  {
   "cell_type": "code",
   "execution_count": 194,
   "id": "f56bf1e9",
   "metadata": {},
   "outputs": [
    {
     "data": {
      "text/plain": [
       "dict_keys([1, 2, 3, 'four'])"
      ]
     },
     "execution_count": 194,
     "metadata": {},
     "output_type": "execute_result"
    }
   ],
   "source": [
    "d1.keys()   # Get all keys in dictionary d1"
   ]
  },
  {
   "cell_type": "code",
   "execution_count": 195,
   "id": "e09203d4",
   "metadata": {},
   "outputs": [
    {
     "data": {
      "text/plain": [
       "dict_values(['one', 'two', 'three', 4])"
      ]
     },
     "execution_count": 195,
     "metadata": {},
     "output_type": "execute_result"
    }
   ],
   "source": [
    "d1.values()   # Get all values in dictionary d1"
   ]
  },
  {
   "cell_type": "code",
   "execution_count": 196,
   "id": "572f3a0a",
   "metadata": {},
   "outputs": [
    {
     "data": {
      "text/plain": [
       "4"
      ]
     },
     "execution_count": 196,
     "metadata": {},
     "output_type": "execute_result"
    }
   ],
   "source": [
    "len(d1)   # Get the number of key-value pairs in dictionary d1"
   ]
  },
  {
   "cell_type": "code",
   "execution_count": 197,
   "id": "dd4de5e6",
   "metadata": {},
   "outputs": [
    {
     "data": {
      "text/plain": [
       "{'e': None, 'b': None, 'a': None, 'd': None, 'c': None}"
      ]
     },
     "execution_count": 197,
     "metadata": {},
     "output_type": "execute_result"
    }
   ],
   "source": [
    "keys={'a','b','c','d','e'}\n",
    "d3=dict.fromkeys(keys)      # Create dictionary from a sequence of keys\n",
    "d3"
   ]
  },
  {
   "cell_type": "code",
   "execution_count": 198,
   "id": "eee963ae",
   "metadata": {},
   "outputs": [
    {
     "data": {
      "text/plain": [
       "{'e': 100, 'b': 100, 'a': 100, 'd': 100, 'c': 100}"
      ]
     },
     "execution_count": 198,
     "metadata": {},
     "output_type": "execute_result"
    }
   ],
   "source": [
    "keys={'a','b','c','d','e'}\n",
    "value = 100\n",
    "d3=dict.fromkeys(keys,value)      # Create dictionary from a sequence of keys\n",
    "d3"
   ]
  },
  {
   "cell_type": "code",
   "execution_count": 199,
   "id": "27096ea4",
   "metadata": {},
   "outputs": [
    {
     "data": {
      "text/plain": [
       "{'e': [10, 20, 30, 40],\n",
       " 'b': [10, 20, 30, 40],\n",
       " 'a': [10, 20, 30, 40],\n",
       " 'd': [10, 20, 30, 40],\n",
       " 'c': [10, 20, 30, 40]}"
      ]
     },
     "execution_count": 199,
     "metadata": {},
     "output_type": "execute_result"
    }
   ],
   "source": [
    "keys={'a','b','c','d','e'}\n",
    "value = [10,20,30,40]\n",
    "d4=dict.fromkeys(keys,value)      # Create dictionary from a sequence of keys\n",
    "d4"
   ]
  },
  {
   "cell_type": "code",
   "execution_count": 200,
   "id": "ee4a8600",
   "metadata": {},
   "outputs": [
    {
     "data": {
      "text/plain": [
       "{'e': [10, 20, 30, 40, 80],\n",
       " 'b': [10, 20, 30, 40, 80],\n",
       " 'a': [10, 20, 30, 40, 80],\n",
       " 'd': [10, 20, 30, 40, 80],\n",
       " 'c': [10, 20, 30, 40, 80]}"
      ]
     },
     "execution_count": 200,
     "metadata": {},
     "output_type": "execute_result"
    }
   ],
   "source": [
    "value.append(80)\n",
    "d4"
   ]
  },
  {
   "cell_type": "markdown",
   "id": "05fa08a7",
   "metadata": {},
   "source": [
    "Accessing items"
   ]
  },
  {
   "cell_type": "code",
   "execution_count": 201,
   "id": "741eeab9",
   "metadata": {},
   "outputs": [
    {
     "data": {
      "text/plain": [
       "{1: 'one', 2: 'two', 3: 'three', 'four': 4}"
      ]
     },
     "execution_count": 201,
     "metadata": {},
     "output_type": "execute_result"
    }
   ],
   "source": [
    "d1"
   ]
  },
  {
   "cell_type": "code",
   "execution_count": 202,
   "id": "0b59246c",
   "metadata": {},
   "outputs": [
    {
     "data": {
      "text/plain": [
       "dict_keys([1, 2, 3, 'four'])"
      ]
     },
     "execution_count": 202,
     "metadata": {},
     "output_type": "execute_result"
    }
   ],
   "source": [
    "d1.keys()   # Get all keys in dictionary d1"
   ]
  },
  {
   "cell_type": "code",
   "execution_count": 203,
   "id": "8bc99f0c",
   "metadata": {},
   "outputs": [
    {
     "data": {
      "text/plain": [
       "dict_values(['one', 'two', 'three', 4])"
      ]
     },
     "execution_count": 203,
     "metadata": {},
     "output_type": "execute_result"
    }
   ],
   "source": [
    "d1.values()   # Get all values in dictionary d1"
   ]
  },
  {
   "cell_type": "code",
   "execution_count": 204,
   "id": "67a1c6ba",
   "metadata": {},
   "outputs": [
    {
     "data": {
      "text/plain": [
       "'one'"
      ]
     },
     "execution_count": 204,
     "metadata": {},
     "output_type": "execute_result"
    }
   ],
   "source": [
    "d1[1]   # Access the value associated with key 1 in dictionary d1"
   ]
  },
  {
   "cell_type": "code",
   "execution_count": 205,
   "id": "a5ea1816",
   "metadata": {},
   "outputs": [
    {
     "data": {
      "text/plain": [
       "4"
      ]
     },
     "execution_count": 205,
     "metadata": {},
     "output_type": "execute_result"
    }
   ],
   "source": [
    "d1['four']"
   ]
  },
  {
   "cell_type": "code",
   "execution_count": 206,
   "id": "9a7bae76",
   "metadata": {},
   "outputs": [
    {
     "ename": "KeyError",
     "evalue": "'one'",
     "output_type": "error",
     "traceback": [
      "\u001b[31m---------------------------------------------------------------------------\u001b[39m",
      "\u001b[31mKeyError\u001b[39m                                  Traceback (most recent call last)",
      "\u001b[36mCell\u001b[39m\u001b[36m \u001b[39m\u001b[32mIn[206]\u001b[39m\u001b[32m, line 1\u001b[39m\n\u001b[32m----> \u001b[39m\u001b[32m1\u001b[39m \u001b[43md1\u001b[49m\u001b[43m[\u001b[49m\u001b[33;43m'\u001b[39;49m\u001b[33;43mone\u001b[39;49m\u001b[33;43m'\u001b[39;49m\u001b[43m]\u001b[49m   \u001b[38;5;66;03m#\u001b[39;00m\n",
      "\u001b[31mKeyError\u001b[39m: 'one'"
     ]
    }
   ],
   "source": [
    "d1['one']   #"
   ]
  },
  {
   "cell_type": "code",
   "execution_count": 207,
   "id": "49df7bd2",
   "metadata": {},
   "outputs": [],
   "source": [
    "d1['l1']=[1,2,3]  # Add a new key 'l1' with a list as its value to dictionary d1"
   ]
  },
  {
   "cell_type": "code",
   "execution_count": 208,
   "id": "b88c16a3",
   "metadata": {},
   "outputs": [
    {
     "data": {
      "text/plain": [
       "{1: 'one', 2: 'two', 3: 'three', 'four': 4, 'l1': [1, 2, 3]}"
      ]
     },
     "execution_count": 208,
     "metadata": {},
     "output_type": "execute_result"
    }
   ],
   "source": [
    "d1"
   ]
  },
  {
   "cell_type": "code",
   "execution_count": 209,
   "id": "82d2a546",
   "metadata": {},
   "outputs": [
    {
     "data": {
      "text/plain": [
       "<function dict.values()>"
      ]
     },
     "execution_count": 209,
     "metadata": {},
     "output_type": "execute_result"
    }
   ],
   "source": [
    "d1.values   # doesn't give any output"
   ]
  },
  {
   "cell_type": "code",
   "execution_count": 210,
   "id": "76f9e88c",
   "metadata": {},
   "outputs": [
    {
     "data": {
      "text/plain": [
       "dict_values(['one', 'two', 'three', 4, [1, 2, 3]])"
      ]
     },
     "execution_count": 210,
     "metadata": {},
     "output_type": "execute_result"
    }
   ],
   "source": [
    "d1.values()  # prints values in dictionary"
   ]
  },
  {
   "cell_type": "code",
   "execution_count": 211,
   "id": "cb97931e",
   "metadata": {},
   "outputs": [
    {
     "data": {
      "text/plain": [
       "{1: 'one', 2: 'two', 3: 'three', 'four': 4, 'l1': [1, 2, 3]}"
      ]
     },
     "execution_count": 211,
     "metadata": {},
     "output_type": "execute_result"
    }
   ],
   "source": [
    "d2=d1.copy()    # Copy dictionary d1 to d2\n",
    "d2"
   ]
  },
  {
   "cell_type": "code",
   "execution_count": 212,
   "id": "029e6c51",
   "metadata": {},
   "outputs": [
    {
     "data": {
      "text/plain": [
       "{1: 'one', 2: 'two', 3: 'three', 'four': 4, 'l1': [1, 2, 3], 'l2': [4, 5, 6]}"
      ]
     },
     "execution_count": 212,
     "metadata": {},
     "output_type": "execute_result"
    }
   ],
   "source": [
    "d1.update({'l2':[4,5,6]})  # Add a new key 'l2' with a list as its value to dictionary d1\n",
    "d1"
   ]
  },
  {
   "cell_type": "code",
   "execution_count": 213,
   "id": "e988392c",
   "metadata": {},
   "outputs": [
    {
     "name": "stdout",
     "output_type": "stream",
     "text": [
      "{1: 'one', 2: 'two', 3: 'three', 'four': 4, 'l2': [4, 5, 6]}\n"
     ]
    }
   ],
   "source": [
    "d1.pop('l1')  # Remove the key 'l1' from dictionary d1\n",
    "print(d1)"
   ]
  },
  {
   "cell_type": "code",
   "execution_count": 214,
   "id": "1259b088",
   "metadata": {},
   "outputs": [
    {
     "ename": "TypeError",
     "evalue": "pop expected at least 1 argument, got 0",
     "output_type": "error",
     "traceback": [
      "\u001b[31m---------------------------------------------------------------------------\u001b[39m",
      "\u001b[31mTypeError\u001b[39m                                 Traceback (most recent call last)",
      "\u001b[36mCell\u001b[39m\u001b[36m \u001b[39m\u001b[32mIn[214]\u001b[39m\u001b[32m, line 1\u001b[39m\n\u001b[32m----> \u001b[39m\u001b[32m1\u001b[39m \u001b[43md1\u001b[49m\u001b[43m.\u001b[49m\u001b[43mpop\u001b[49m\u001b[43m(\u001b[49m\u001b[43m)\u001b[49m  \u001b[38;5;66;03m# Remove the last key-value pair from dictionary d1 and return its value\u001b[39;00m\n",
      "\u001b[31mTypeError\u001b[39m: pop expected at least 1 argument, got 0"
     ]
    }
   ],
   "source": [
    "d1.pop()  # Remove the last key-value pair from dictionary d1 and return its value"
   ]
  },
  {
   "cell_type": "code",
   "execution_count": null,
   "id": "456cbfe4",
   "metadata": {},
   "outputs": [
    {
     "data": {
      "text/plain": [
       "('l2', [4, 5, 6])"
      ]
     },
     "execution_count": 215,
     "metadata": {},
     "output_type": "execute_result"
    }
   ],
   "source": [
    "d1.popitem()    # last key value pair is removed"
   ]
  },
  {
   "cell_type": "code",
   "execution_count": 217,
   "id": "7d1832f3",
   "metadata": {},
   "outputs": [
    {
     "data": {
      "text/plain": [
       "{1: 'one', 2: 'two', 3: 'three', 'four': 4, 'l2': [4, 5, 6]}"
      ]
     },
     "execution_count": 217,
     "metadata": {},
     "output_type": "execute_result"
    }
   ],
   "source": [
    "d1.update({'l2':[4,5,6]})  # Add a new key 'l2' with a list as its value to dictionary d1\n",
    "d1"
   ]
  },
  {
   "cell_type": "code",
   "execution_count": 219,
   "id": "8dbf4478",
   "metadata": {},
   "outputs": [
    {
     "data": {
      "text/plain": [
       "{1: 'one', 2: 'two', 3: 'three', 'four': 4, 'l2': [4, 5, 6], 'l': 6}"
      ]
     },
     "execution_count": 219,
     "metadata": {},
     "output_type": "execute_result"
    }
   ],
   "source": [
    "d1.update({'l':6})  # Add a new key 'l' with value 6\n",
    "d1"
   ]
  },
  {
   "cell_type": "code",
   "execution_count": null,
   "id": "506c47df",
   "metadata": {},
   "outputs": [
    {
     "data": {
      "text/plain": [
       "('l', 6)"
      ]
     },
     "execution_count": 220,
     "metadata": {},
     "output_type": "execute_result"
    }
   ],
   "source": [
    "d1.popitem() # last key value pair is removed"
   ]
  },
  {
   "cell_type": "code",
   "execution_count": 221,
   "id": "b88b3309",
   "metadata": {},
   "outputs": [
    {
     "data": {
      "text/plain": [
       "{1: 'one', 2: 'two', 3: 'three', 'four': 4, 'l2': [4, 5, 6]}"
      ]
     },
     "execution_count": 221,
     "metadata": {},
     "output_type": "execute_result"
    }
   ],
   "source": [
    "d1"
   ]
  },
  {
   "cell_type": "code",
   "execution_count": null,
   "id": "cd2ebbb7",
   "metadata": {},
   "outputs": [
    {
     "data": {
      "text/plain": [
       "{1: 'one', 3: 'three', 'four': 4, 'l2': [4, 5, 6]}"
      ]
     },
     "execution_count": 222,
     "metadata": {},
     "output_type": "execute_result"
    }
   ],
   "source": [
    "del[d1[2]]      # removing key value pair 2 using del function\n",
    "d1"
   ]
  },
  {
   "cell_type": "code",
   "execution_count": 223,
   "id": "723bd5be",
   "metadata": {},
   "outputs": [
    {
     "data": {
      "text/plain": [
       "{1: 'one', 2: 'two', 3: 'three', 'four': 4, 'l1': [1, 2, 3]}"
      ]
     },
     "execution_count": 223,
     "metadata": {},
     "output_type": "execute_result"
    }
   ],
   "source": [
    "d2"
   ]
  },
  {
   "cell_type": "code",
   "execution_count": null,
   "id": "5ec2a548",
   "metadata": {},
   "outputs": [
    {
     "data": {
      "text/plain": [
       "{}"
      ]
     },
     "execution_count": 224,
     "metadata": {},
     "output_type": "execute_result"
    }
   ],
   "source": [
    "d2.clear()      # clear all elements of dictionary\n",
    "d2"
   ]
  },
  {
   "cell_type": "code",
   "execution_count": 226,
   "id": "4baa1e8e",
   "metadata": {},
   "outputs": [
    {
     "ename": "NameError",
     "evalue": "name 'd2' is not defined",
     "output_type": "error",
     "traceback": [
      "\u001b[31m---------------------------------------------------------------------------\u001b[39m",
      "\u001b[31mNameError\u001b[39m                                 Traceback (most recent call last)",
      "\u001b[36mCell\u001b[39m\u001b[36m \u001b[39m\u001b[32mIn[226]\u001b[39m\u001b[32m, line 1\u001b[39m\n\u001b[32m----> \u001b[39m\u001b[32m1\u001b[39m \u001b[38;5;28;01mdel\u001b[39;00m \u001b[43md2\u001b[49m      \u001b[38;5;66;03m# delete dictionary \u001b[39;00m\n\u001b[32m      2\u001b[39m d2\n",
      "\u001b[31mNameError\u001b[39m: name 'd2' is not defined"
     ]
    }
   ],
   "source": [
    "del d2      # delete dictionary \n",
    "d2"
   ]
  },
  {
   "cell_type": "code",
   "execution_count": 227,
   "id": "e8642af1",
   "metadata": {},
   "outputs": [
    {
     "data": {
      "text/plain": [
       "{1: 'one', 3: 'three', 'four': 4, 'l2': [4, 5, 6]}"
      ]
     },
     "execution_count": 227,
     "metadata": {},
     "output_type": "execute_result"
    }
   ],
   "source": [
    "d1"
   ]
  },
  {
   "cell_type": "code",
   "execution_count": 233,
   "id": "70d38144",
   "metadata": {},
   "outputs": [
    {
     "name": "stdout",
     "output_type": "stream",
     "text": [
      "1\n",
      "3\n",
      "four\n",
      "l2\n"
     ]
    }
   ],
   "source": [
    "for i in d1:\n",
    "    print(i)    # print dictionary items (keys)"
   ]
  },
  {
   "cell_type": "code",
   "execution_count": 234,
   "id": "46d1db7e",
   "metadata": {},
   "outputs": [
    {
     "name": "stdout",
     "output_type": "stream",
     "text": [
      "1 : one\n",
      "3 : three\n",
      "four : 4\n",
      "l2 : [4, 5, 6]\n"
     ]
    }
   ],
   "source": [
    "for i in d1:\n",
    "    print(i, ':', d1[i])    # to print key value pair"
   ]
  },
  {
   "cell_type": "code",
   "execution_count": 235,
   "id": "d52aded8",
   "metadata": {},
   "outputs": [
    {
     "data": {
      "text/plain": [
       "{1: 'one', 3: 'three', 'four': 4, 'l2': [4, 5, 6]}"
      ]
     },
     "execution_count": 235,
     "metadata": {},
     "output_type": "execute_result"
    }
   ],
   "source": [
    "d1"
   ]
  },
  {
   "cell_type": "code",
   "execution_count": 238,
   "id": "e9e36fc7",
   "metadata": {},
   "outputs": [
    {
     "data": {
      "text/plain": [
       "False"
      ]
     },
     "execution_count": 238,
     "metadata": {},
     "output_type": "execute_result"
    }
   ],
   "source": [
    "'name' in d1    #check if name is in dictionary only refers to keys"
   ]
  },
  {
   "cell_type": "code",
   "execution_count": 239,
   "id": "97dd0d83",
   "metadata": {},
   "outputs": [
    {
     "data": {
      "text/plain": [
       "True"
      ]
     },
     "execution_count": 239,
     "metadata": {},
     "output_type": "execute_result"
    }
   ],
   "source": [
    "1 in d1 #check if 1 is in dictionary"
   ]
  },
  {
   "cell_type": "code",
   "execution_count": null,
   "id": "e1787bfd",
   "metadata": {},
   "outputs": [
    {
     "data": {
      "text/plain": [
       "True"
      ]
     },
     "execution_count": 240,
     "metadata": {},
     "output_type": "execute_result"
    }
   ],
   "source": [
    "all(d1)     "
   ]
  },
  {
   "cell_type": "markdown",
   "id": "ed927076",
   "metadata": {},
   "source": [
    "# Range\n",
    "\n",
    "- Range is a built-in function in Python that generates a sequence of numbers\n",
    "- It is commonly used in for loops to iterate over a specific range of values\n",
    "- range(10)   # Create a range object from 0 to 9\n",
    "- syntax: range(start, stop, step)"
   ]
  },
  {
   "cell_type": "code",
   "execution_count": null,
   "id": "2c7e732a",
   "metadata": {},
   "outputs": [
    {
     "data": {
      "text/plain": [
       "range(0, 10)"
      ]
     },
     "execution_count": 95,
     "metadata": {},
     "output_type": "execute_result"
    }
   ],
   "source": [
    "range(10)   # Create a range object from 0 to 9"
   ]
  },
  {
   "cell_type": "code",
   "execution_count": null,
   "id": "74fe430b",
   "metadata": {},
   "outputs": [
    {
     "data": {
      "text/plain": [
       "range(10, 20)"
      ]
     },
     "execution_count": 96,
     "metadata": {},
     "output_type": "execute_result"
    }
   ],
   "source": [
    "range(10, 20)   # Create a range object from 10 to 19"
   ]
  },
  {
   "cell_type": "code",
   "execution_count": null,
   "id": "00e36b52",
   "metadata": {},
   "outputs": [
    {
     "data": {
      "text/plain": [
       "range(10, 20, 2)"
      ]
     },
     "execution_count": 97,
     "metadata": {},
     "output_type": "execute_result"
    }
   ],
   "source": [
    "range(10,20,2)   # Create a range object from 10 to 19 with a step of 2"
   ]
  },
  {
   "cell_type": "code",
   "execution_count": null,
   "id": "ea85d74a",
   "metadata": {},
   "outputs": [
    {
     "data": {
      "text/plain": [
       "[0, 1, 2, 3, 4, 5, 6, 7, 8, 9]"
      ]
     },
     "execution_count": 98,
     "metadata": {},
     "output_type": "execute_result"
    }
   ],
   "source": [
    "list(range(10))   # Convert the range object to a list and print it"
   ]
  },
  {
   "cell_type": "code",
   "execution_count": null,
   "id": "3382ef3c",
   "metadata": {},
   "outputs": [
    {
     "data": {
      "text/plain": [
       "[10, 11, 12, 13, 14, 15, 16, 17, 18, 19]"
      ]
     },
     "execution_count": 99,
     "metadata": {},
     "output_type": "execute_result"
    }
   ],
   "source": [
    "list(range(10,20))   # Convert the range object to a list and print it"
   ]
  },
  {
   "cell_type": "code",
   "execution_count": null,
   "id": "a4a286f8",
   "metadata": {},
   "outputs": [
    {
     "data": {
      "text/plain": [
       "[10, 12, 14, 16, 18]"
      ]
     },
     "execution_count": 100,
     "metadata": {},
     "output_type": "execute_result"
    }
   ],
   "source": [
    "list(range(10,20,2))  # print the range with step 2 between 10 and 20"
   ]
  },
  {
   "cell_type": "code",
   "execution_count": null,
   "id": "4e20f2cb",
   "metadata": {},
   "outputs": [
    {
     "name": "stdout",
     "output_type": "stream",
     "text": [
      "10\n",
      "12\n",
      "14\n",
      "16\n",
      "18\n"
     ]
    }
   ],
   "source": [
    "for i in range(10,20,2):    # \n",
    "    print(i)"
   ]
  },
  {
   "cell_type": "code",
   "execution_count": null,
   "id": "95709371",
   "metadata": {},
   "outputs": [],
   "source": [
    "r=range(10)"
   ]
  },
  {
   "cell_type": "code",
   "execution_count": null,
   "id": "e91a37cf",
   "metadata": {},
   "outputs": [
    {
     "name": "stdout",
     "output_type": "stream",
     "text": [
      "range(0, 10)\n"
     ]
    }
   ],
   "source": [
    "print(r)"
   ]
  },
  {
   "cell_type": "code",
   "execution_count": null,
   "id": "61ce5248",
   "metadata": {},
   "outputs": [],
   "source": []
  },
  {
   "cell_type": "code",
   "execution_count": null,
   "id": "21ac6565",
   "metadata": {},
   "outputs": [],
   "source": []
  }
 ],
 "metadata": {
  "kernelspec": {
   "display_name": "Python 3",
   "language": "python",
   "name": "python3"
  },
  "language_info": {
   "codemirror_mode": {
    "name": "ipython",
    "version": 3
   },
   "file_extension": ".py",
   "mimetype": "text/x-python",
   "name": "python",
   "nbconvert_exporter": "python",
   "pygments_lexer": "ipython3",
   "version": "3.14.0"
  }
 },
 "nbformat": 4,
 "nbformat_minor": 5
}
