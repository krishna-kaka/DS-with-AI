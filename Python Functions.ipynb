{
 "cells": [
  {
   "cell_type": "markdown",
   "id": "561a761e",
   "metadata": {},
   "source": [
    "Print Function print()"
   ]
  },
  {
   "cell_type": "code",
   "execution_count": 66,
   "id": "b6305ea3",
   "metadata": {},
   "outputs": [
    {
     "name": "stdout",
     "output_type": "stream",
     "text": [
      "50\n",
      "20\n",
      "70\n"
     ]
    }
   ],
   "source": [
    "a=50\n",
    "b=20\n",
    "c=a+b\n",
    "print(a)\n",
    "print(b)\n",
    "print(c)"
   ]
  },
  {
   "cell_type": "code",
   "execution_count": 67,
   "id": "b6e29c36",
   "metadata": {},
   "outputs": [
    {
     "name": "stdout",
     "output_type": "stream",
     "text": [
      "50 20 70 30 Python\n"
     ]
    }
   ],
   "source": [
    "print(a,b,c,a-b,'Python')"
   ]
  },
  {
   "cell_type": "code",
   "execution_count": 68,
   "id": "29580ff8",
   "metadata": {},
   "outputs": [
    {
     "name": "stdout",
     "output_type": "stream",
     "text": [
      "The Sum of 20 and 10 is 30\n"
     ]
    }
   ],
   "source": [
    "num1=20\n",
    "num2=10\n",
    "num3=50\n",
    "sum1 =num1+ num2\n",
    "sum2=num2+ num3\n",
    "sum3=num1+num2+num3\n",
    "print(f'The Sum of {num1} and {num2} is {sum1}')"
   ]
  },
  {
   "cell_type": "code",
   "execution_count": 69,
   "id": "9b409aa7",
   "metadata": {},
   "outputs": [
    {
     "name": "stdout",
     "output_type": "stream",
     "text": [
      "My name is Krishna and I live in Bangalore\n"
     ]
    }
   ],
   "source": [
    "#Print String\n",
    "\n",
    "name='Krishna'\n",
    "city='Bangalore'\n",
    "print('My name is' ,name, 'and I live in' ,city,)"
   ]
  },
  {
   "cell_type": "code",
   "execution_count": 70,
   "id": "d18c585e",
   "metadata": {},
   "outputs": [
    {
     "name": "stdout",
     "output_type": "stream",
     "text": [
      "The Sum of 20 and 10 is 30\n"
     ]
    }
   ],
   "source": [
    "# Print Format method\n",
    "\n",
    "print('The Sum of {} and {} is {}'.format(num1,num2,sum1))\n"
   ]
  },
  {
   "cell_type": "code",
   "execution_count": 71,
   "id": "4b2294b1",
   "metadata": {},
   "outputs": [
    {
     "name": "stdout",
     "output_type": "stream",
     "text": [
      "The sum of 50 and 10 is 60\n"
     ]
    }
   ],
   "source": [
    "# fstring method\n",
    "\n",
    "print(f'The sum of {num3} and {num2} is {sum2}')"
   ]
  },
  {
   "cell_type": "code",
   "execution_count": 72,
   "id": "10542be6",
   "metadata": {},
   "outputs": [
    {
     "name": "stdout",
     "output_type": "stream",
     "text": [
      "My Name is Krishna and I live in Bangalore\n"
     ]
    }
   ],
   "source": [
    "print(f'My Name is {name} and I live in {city}')"
   ]
  },
  {
   "cell_type": "code",
   "execution_count": 73,
   "id": "cd8cc4ed",
   "metadata": {},
   "outputs": [],
   "source": [
    "avg=round((num1+num2+num3)/3,2)"
   ]
  },
  {
   "cell_type": "code",
   "execution_count": 74,
   "id": "60a7b181",
   "metadata": {},
   "outputs": [
    {
     "name": "stdout",
     "output_type": "stream",
     "text": [
      "The average of 20, 10 and 50 is 26.67\n"
     ]
    }
   ],
   "source": [
    "print(f'The average of {num1}, {num2} and {num3} is {avg}')"
   ]
  },
  {
   "cell_type": "code",
   "execution_count": 75,
   "id": "b76ba087",
   "metadata": {},
   "outputs": [
    {
     "name": "stdout",
     "output_type": "stream",
     "text": [
      "The Sum of 20 and 10 is 30\n",
      "The sum of 50 and 10 is 60\n",
      "The average of 20, 10 and 50 is 26.67\n"
     ]
    }
   ],
   "source": [
    "print('The Sum of {} and {} is {}'.format(num1,num2,sum1))\n",
    "print(f'The sum of {num3} and {num2} is {sum2}')\n",
    "print(f'The average of {num1}, {num2} and {num3} is {avg}')"
   ]
  },
  {
   "cell_type": "markdown",
   "id": "d4e9298b",
   "metadata": {},
   "source": [
    "end statement"
   ]
  },
  {
   "cell_type": "code",
   "execution_count": 76,
   "id": "cf077967",
   "metadata": {},
   "outputs": [
    {
     "name": "stdout",
     "output_type": "stream",
     "text": [
      "Hello\n",
      "World\n"
     ]
    }
   ],
   "source": [
    "print('Hello')\n",
    "print('World')\n",
    "      "
   ]
  },
  {
   "cell_type": "code",
   "execution_count": 77,
   "id": "dc478cb8",
   "metadata": {},
   "outputs": [
    {
     "name": "stdout",
     "output_type": "stream",
     "text": [
      "Hello World\n"
     ]
    }
   ],
   "source": [
    "# To print both the lines to a single line, you can use the `end` parameter of the `print` function:\n",
    "\n",
    "print('Hello', end=' ')\n",
    "print('World')"
   ]
  },
  {
   "cell_type": "markdown",
   "id": "9fbbe763",
   "metadata": {},
   "source": [
    "Separator"
   ]
  },
  {
   "cell_type": "code",
   "execution_count": null,
   "id": "72c30c49",
   "metadata": {},
   "outputs": [
    {
     "name": "stdout",
     "output_type": "stream",
     "text": [
      "Hello-World-Good-morning\n"
     ]
    }
   ],
   "source": [
    "print('Hello','World','Good','morning', sep='-')    # Using sep to separate words with hyphen"
   ]
  },
  {
   "cell_type": "code",
   "execution_count": null,
   "id": "d759af7b",
   "metadata": {},
   "outputs": [
    {
     "name": "stdout",
     "output_type": "stream",
     "text": [
      "Hello World Good morning\n"
     ]
    }
   ],
   "source": [
    "print('Hello','World','Good','morning', sep=' ') # Using sep to separate words with space"
   ]
  },
  {
   "cell_type": "code",
   "execution_count": null,
   "id": "8b2fd92c",
   "metadata": {},
   "outputs": [
    {
     "name": "stdout",
     "output_type": "stream",
     "text": [
      "10 .\n"
     ]
    }
   ],
   "source": [
    "print(10,'.')   # Printing 10 followed by a dot"
   ]
  },
  {
   "cell_type": "code",
   "execution_count": null,
   "id": "3017ecba",
   "metadata": {},
   "outputs": [
    {
     "name": "stdout",
     "output_type": "stream",
     "text": [
      "10.\n"
     ]
    }
   ],
   "source": [
    "print(10,'.',sep='')    # Printing 10 followed by a dot without space"
   ]
  },
  {
   "cell_type": "code",
   "execution_count": null,
   "id": "7e90f58c",
   "metadata": {},
   "outputs": [
    {
     "name": "stdout",
     "output_type": "stream",
     "text": [
      "10 . 20 .\n"
     ]
    }
   ],
   "source": [
    "print(10,'.',20,'.')  # Printing 10 followed by a dot and 20 followed by a dot"
   ]
  },
  {
   "cell_type": "code",
   "execution_count": null,
   "id": "a4d9d993",
   "metadata": {},
   "outputs": [
    {
     "name": "stdout",
     "output_type": "stream",
     "text": [
      "10.20.\n"
     ]
    }
   ],
   "source": [
    "print(10,'.',20,'.', sep='')  # Printing 10 followed by a dot and 20 followed by a dot without spaces"
   ]
  },
  {
   "cell_type": "code",
   "execution_count": null,
   "id": "04202586",
   "metadata": {},
   "outputs": [],
   "source": [
    "import time\n",
    "for i in range(5):\n",
    "    print(i, end=\" \", flush=True)\n",
    "    time.sleep(0.5)\n",
    "# Output: 0 1 2 (with a 1-second delay between each number)\n"
   ]
  }
 ],
 "metadata": {
  "kernelspec": {
   "display_name": "Python 3",
   "language": "python",
   "name": "python3"
  },
  "language_info": {
   "codemirror_mode": {
    "name": "ipython",
    "version": 3
   },
   "file_extension": ".py",
   "mimetype": "text/x-python",
   "name": "python",
   "nbconvert_exporter": "python",
   "pygments_lexer": "ipython3",
   "version": "3.14.0"
  }
 },
 "nbformat": 4,
 "nbformat_minor": 5
}
